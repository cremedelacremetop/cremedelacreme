{
  "cells": [
    {
      "cell_type": "markdown",
      "source": [
        "# General EDA "
      ],
      "metadata": {}
    },
    {
      "cell_type": "code",
      "source": [
        "# Imports\n",
        "%matplotlib inline\n",
        "from ast import literal_eval\n",
        "from collections import OrderedDict\n",
        "from scipy.stats import zscore\n",
        "from typing import List\n",
        "import csv\n",
        "import datetime\n",
        "import math\n",
        "import matplotlib.pyplot as plt\n",
        "import plotly\n",
        "import plotly.graph_objs as go\n",
        "import numpy as np\n",
        "import pandas as pd\n",
        "import pymongo\n",
        "import robustats\n",
        "import seaborn as sns\n",
        "import wquantiles as wq\n",
        "import pprint\n",
        "from scipy.stats import chi2, mstats, mannwhitneyu, kruskal, chi2_contingency\n",
        "from statsmodels.stats.multitest import multipletests\n",
        "from cliffsDelta import cliffsDelta\n",
        "from matplotlib.patches import PathPatch\n",
        "pp = pprint.PrettyPrinter(indent=4)\n",
        "\n",
        "# Jupyter configurations\n",
        "pd.options.display.max_columns = 20002\n",
        "pd.options.display.max_columns = 10000\n",
        "pd.set_option('display.max_columns', None)  # or 1000\n",
        "pd.set_option('display.max_rows', None)  # or 1000\n",
        "pd.set_option('display.max_colwidth', -1)  # or 199"
      ],
      "outputs": [],
      "execution_count": null,
      "metadata": {}
    },
    {
      "cell_type": "code",
      "source": [
        "# Set palette\n",
        "\n",
        "seq_col_brew = sns.color_palette(\"Greys_r\", 5)\n",
        "sns.set_palette(seq_col_brew)\n",
        "seq_col_brew"
      ],
      "outputs": [],
      "execution_count": null,
      "metadata": {}
    },
    {
      "cell_type": "markdown",
      "source": [
        "### To run for the first time, generate the imputation csv and uncomment cells with TO DELETE"
      ],
      "metadata": {}
    },
    {
      "cell_type": "code",
      "source": [
        "## Comment this if running for the first time\n",
        "\n",
        "# Data gathering this must be the dataset imputed with most frequent value \n",
        "all_apps = pd.read_csv(\n",
        "   'data_MFO_fixed.csv', delimiter=\"|\", encoding='utf-8', engine= 'python',converters={'_id':str})"
      ],
      "outputs": [],
      "execution_count": null,
      "metadata": {}
    },
    {
      "cell_type": "code",
      "source": [
        "# Checking imputations\n",
        "print(all_apps.loc[(all_apps['Delete_usa']==0)&(all_apps['country']=='us')].shape)\n",
        "print(all_apps.loc[(all_apps['Delete_usa']==1)&(all_apps['country']=='us')].shape)\n",
        "\n",
        "print(all_apps.loc[(all_apps['Delete_bo']==0)&(all_apps['country']=='co')].shape)\n",
        "print(all_apps.loc[(all_apps['Delete_bo']==1)&(all_apps['country']=='co')].shape)\n",
        "\n",
        "print(all_apps.loc[(all_apps['Delete_br']==0)&(all_apps['country']=='br')].shape)\n",
        "print(all_apps.loc[(all_apps['Delete_br']==1)&(all_apps['country']=='br')].shape)\n",
        "\n",
        "print(all_apps.loc[(all_apps['Delete_de']==0)&(all_apps['country']=='de')].shape)\n",
        "print(all_apps.loc[(all_apps['Delete_de']==1)&(all_apps['country']=='de')].shape)"
      ],
      "outputs": [],
      "execution_count": null,
      "metadata": {}
    },
    {
      "cell_type": "code",
      "source": [
        "# TO DELETE\n",
        "\n",
        "# Transform variables to date\n",
        "#vars_dates = ['retrieved_date_start','retrieved_date_end', 'last_update']\n",
        "#for var in vars_dates:\n",
        "#    all_apps[var] = pd.to_datetime(all_apps[var])"
      ],
      "outputs": [],
      "execution_count": null,
      "metadata": {}
    },
    {
      "cell_type": "code",
      "source": [
        "# TO DELETE\n",
        "\n",
        "# Compute num week based on retrieved date\n",
        "#def  compute_num_week(retrieved_date_start):\n",
        "#    num_week = None\n",
        "#    if retrieved_date_start <= datetime.datetime(2017,11,6):\n",
        "#        num_week = 1\n",
        "#    elif retrieved_date_start <= datetime.datetime(2017,11,13):\n",
        "#        num_week = 2\n",
        "#    elif retrieved_date_start <= datetime.datetime(2017,11,20):\n",
        "#         num_week = 3\n",
        "#    elif retrieved_date_start <= datetime.datetime(2017,11,27):\n",
        "#        num_week = 4\n",
        "#    elif retrieved_date_start <= datetime.datetime(2017,12,4):\n",
        "#        num_week = 5\n",
        "#    elif retrieved_date_start <= datetime.datetime(2017,12,11):\n",
        "#        num_week = 6\n",
        "#    elif retrieved_date_start <= datetime.datetime(2017,12,18):\n",
        "#        num_week = 7\n",
        "#    elif retrieved_date_start <= datetime.datetime(2017,12,25):\n",
        "#        num_week = 8\n",
        "#    elif retrieved_date_start <= datetime.datetime(2018,1,1):\n",
        "#        num_week = 9\n",
        "#    elif retrieved_date_start <= datetime.datetime(2018,1,8):\n",
        "#        num_week = 10\n",
        "#    elif retrieved_date_start <= datetime.datetime(2018,1,15):\n",
        "#        num_week = 11\n",
        "#    elif retrieved_date_start <= datetime.datetime(2018,1,22):\n",
        "#        num_week = 12\n",
        "#    elif retrieved_date_start <= datetime.datetime(2018,1,29):\n",
        "#        num_week = 13\n",
        "#    elif retrieved_date_start <= datetime.datetime(2018,2,5):\n",
        "#        num_week = 14\n",
        "#    elif retrieved_date_start <= datetime.datetime(2018,2,12):\n",
        "#        num_week = 15\n",
        "#    elif retrieved_date_start <= datetime.datetime(2018,2,19):\n",
        "#        num_week = 16\n",
        "#    elif retrieved_date_start <= datetime.datetime(2018,2,26):\n",
        "#        num_week = 17\n",
        "#    elif retrieved_date_start <= datetime.datetime(2018,3,5):\n",
        "#        num_week = 18\n",
        "#    elif retrieved_date_start <= datetime.datetime(2018,3,12):\n",
        "#        num_week = 19\n",
        "#    elif retrieved_date_start <= datetime.datetime(2018,3,19):\n",
        "#        num_week = 20\n",
        "#    elif retrieved_date_start <= datetime.datetime(2018,3,26):\n",
        "#        num_week = 21\n",
        "#    elif retrieved_date_start <= datetime.datetime(2018,4,2):\n",
        "#        num_week = 22\n",
        "#    elif retrieved_date_start <= datetime.datetime(2018,4,9):\n",
        "#        num_week = 23\n",
        "#    elif retrieved_date_start <= datetime.datetime(2018,4,15):\n",
        "#        num_week = 24\n",
        "#    elif retrieved_date_start <= datetime.datetime(2018,4,23):\n",
        "#        num_week = 25\n",
        "#    elif retrieved_date_start <= datetime.datetime(2018,4,30):\n",
        "#        num_week = 26\n",
        "#    elif retrieved_date_start <= datetime.datetime(2018,5,7):\n",
        "#        num_week = 27\n",
        "#    elif retrieved_date_start <= datetime.datetime(2018,5,14):\n",
        "#        num_week = 28\n",
        "#    elif retrieved_date_start <= datetime.datetime(2018,5,21):\n",
        "#        num_week = 29\n",
        "#    elif retrieved_date_start <= datetime.datetime(2018,5,28):\n",
        "#        num_week = 30\n",
        "#        \n",
        "#    return num_week\n",
        "\n",
        "#all_apps['num_week'] = all_apps['retrieved_date_start'].apply(lambda idx: compute_num_week(idx))"
      ],
      "outputs": [],
      "execution_count": null,
      "metadata": {}
    },
    {
      "cell_type": "code",
      "source": [
        "# TO DELETE\n",
        "#all_apps.head(5)"
      ],
      "outputs": [],
      "execution_count": null,
      "metadata": {}
    },
    {
      "cell_type": "code",
      "source": [
        "# TO DELETE\n",
        "\n",
        "# Fix days since last update, because some of them had negative values\n",
        "\n",
        "#def find_previous_week(df, row):\n",
        "#    \n",
        "#    country = row['country']\n",
        "#    category = row['category']\n",
        "#    id_app = row['id']\n",
        "#    num_week = row['num_week']\n",
        "#    last_update = row['last_update']\n",
        "#    last_update_days = row['last_update_days']\n",
        "#    retrieve_date_end = row['retrieved_date_end']\n",
        "#    current_version = row['current_version']\n",
        "#    \n",
        "#    df_app = df.loc[(df['id'] == id_app) & (df['country'] == country) & (df['category'] == category) & (df['num_week'] < num_week), ['current_version', 'last_update_days', 'last_update']]\n",
        "#\n",
        "#    last_update_fixed = retrieve_date_end\n",
        "#    for row in df_app.itertuples():\n",
        "#        if getattr(row, 'current_version') == current_version:\n",
        "#            last_update_fixed = getattr(row, 'last_update')\n",
        "#        else:\n",
        "#            last_update_fixed = retrieve_date_end\n",
        "#\n",
        "#    return last_update_fixed\n",
        "#\n",
        "#def compute_days(retrieved_date_end, last_update):\n",
        "#    return (retrieved_date_end-last_update).days\n",
        "#\n",
        "#all_apps['last_update_fixed'] = all_apps.apply(lambda row: find_previous_week(all_apps, row) if row['last_update_days'] < 0 else row['last_update'], axis=1)\n",
        "#all_apps['last_update_days_fixed'] = all_apps.apply(lambda row: compute_days(row['retrieved_date_end'], row['last_update_fixed']), axis=1)"
      ],
      "outputs": [],
      "execution_count": null,
      "metadata": {}
    },
    {
      "cell_type": "code",
      "source": [
        "# TO DELETE\n",
        "\n",
        "# Compute price in US dollars using PPP\n",
        "#def get_price(country, price, year) -> float:\n",
        "#\n",
        "#    ppp_2017 = {\n",
        "#        'br': 2.0,\n",
        "#        'co': 1297.1,\n",
        "#        'de': 0.8,\n",
        "#        'us': 1.0,\n",
        "#    }\n",
        "\n",
        "#    ppp_2018 = {\n",
        "#        'br': 2.0,\n",
        "#        'co': 1312.7,\n",
        "#        'de': 0.8,\n",
        "#        'us': 1.0,\n",
        "#    }\n",
        "\n",
        "#    if year == 2017:\n",
        "#        return price/ppp_2017[country]\n",
        "#    else:\n",
        "#        return price/ppp_2018[country]\n",
        "    \n",
        "#all_apps['price_usd'] = all_apps.apply(lambda x: get_price(x['country'], x['price'], x['retrieved_date_start'].year), axis=1)"
      ],
      "outputs": [],
      "execution_count": null,
      "metadata": {}
    },
    {
      "cell_type": "code",
      "source": [
        "# TO DELETE\n",
        "\n",
        "# Save dataframe in a csv to avoid running fixes next time\n",
        "#all_apps.to_csv('data_MFO_fixed.csv', sep='|')"
      ],
      "outputs": [],
      "execution_count": null,
      "metadata": {}
    },
    {
      "cell_type": "code",
      "source": [
        "all_apps.head(5)"
      ],
      "outputs": [],
      "execution_count": null,
      "metadata": {
        "scrolled": true
      }
    },
    {
      "cell_type": "code",
      "source": [
        "# Transform variables to date\n",
        "vars_dates = ['retrieved_date_start','retrieved_date_end', 'last_update', 'last_update_fixed']\n",
        "for var in vars_dates:\n",
        "    all_apps[var] = pd.to_datetime(all_apps[var])"
      ],
      "outputs": [],
      "execution_count": null,
      "metadata": {}
    },
    {
      "cell_type": "code",
      "source": [
        "# Transformed types\n",
        "all_apps.dtypes"
      ],
      "outputs": [],
      "execution_count": null,
      "metadata": {
        "scrolled": true
      }
    },
    {
      "cell_type": "markdown",
      "source": [
        "# General description of numeric and categorical variables"
      ],
      "metadata": {}
    },
    {
      "cell_type": "code",
      "source": [
        "# Describe length of rows and columns\n",
        "all_apps.shape"
      ],
      "outputs": [],
      "execution_count": null,
      "metadata": {}
    },
    {
      "cell_type": "code",
      "source": [
        "# Describe numerical variables for all the dataset\n",
        "all_apps.describe()"
      ],
      "outputs": [],
      "execution_count": null,
      "metadata": {}
    },
    {
      "cell_type": "code",
      "source": [
        "# Describe categorical variables\n",
        "all_apps.describe(include=['object','datetime', 'bool'])"
      ],
      "outputs": [],
      "execution_count": null,
      "metadata": {
        "scrolled": true
      }
    },
    {
      "cell_type": "code",
      "source": [
        "# Nan or missing values for all dataset\n",
        "missing_data = all_apps.isnull()\n",
        "total = missing_data.sum().sort_values(ascending=False)\n",
        "percent = (missing_data.sum()/missing_data.count()).sort_values(ascending=False)\n",
        "summary_missing_data = pd.concat([total, percent], axis=1, keys=['Total', 'Missing Percent'])\n",
        "summary_missing_data['Missing Percent'] = summary_missing_data['Missing Percent'].apply(lambda x: x * 100)\n",
        "summary_missing_data"
      ],
      "outputs": [],
      "execution_count": null,
      "metadata": {
        "scrolled": true
      }
    },
    {
      "cell_type": "markdown",
      "source": [
        "## Different types of values per categorical variables"
      ],
      "metadata": {}
    },
    {
      "cell_type": "code",
      "source": [
        "def get_number_values_categorical_values(df, column_name:str, high:List[str],low:List[str]):\n",
        "    print(\"-/-\"*5)\n",
        "    print(f\"Column: {column_name}\")\n",
        "    \n",
        "    try:\n",
        "        column = df[column_name]\n",
        "        number_values = column.nunique()\n",
        "\n",
        "    except:\n",
        "        #This catch is useful when genre is list type\n",
        "        column = df[column_name].astype(str)\n",
        "        number_values = column.nunique()\n",
        "        \n",
        "    print(f\"Number of different values {number_values}\")\n",
        "    \n",
        "    if number_values < 100 and \"retrieved\" not in column_name:\n",
        "        print(\"\\n\")\n",
        "        print(\"Values:\")\n",
        "        print(f\"{column.unique()}\")\n",
        "        print(\"\\n\")\n",
        "        \n",
        "        low.append(column_name)\n",
        "    else:\n",
        "        high.append(column_name)\n",
        "    print(\"-/-\"*5)\n",
        "\n",
        "high_cardinality = []\n",
        "low_cardinality = []\n",
        "columns_categorical = all_apps.select_dtypes(include=['object','datetime', 'bool']).columns\n",
        "\n",
        "for column in columns_categorical:\n",
        "    get_number_values_categorical_values(all_apps,column,high_cardinality,low_cardinality)\n",
        "\n",
        "print(len(high_cardinality), len(low_cardinality))"
      ],
      "outputs": [],
      "execution_count": null,
      "metadata": {}
    },
    {
      "cell_type": "markdown",
      "source": [
        "# Subset of selected variables"
      ],
      "metadata": {}
    },
    {
      "cell_type": "code",
      "source": [
        "# Length of name, summary and description\n",
        "all_apps['len_name'] = all_apps['name'].str.len()\n",
        "all_apps['len_summary'] = all_apps['summary'].str.len()\n",
        "all_apps['len_description'] = all_apps['description'].str.len()\n",
        "\n",
        "# Transform num installs from string to number\n",
        "fixed_num = all_apps[['fixed_num_installs']]\n",
        "fixed_num['fixed_num_installs_num'] = fixed_num['fixed_num_installs'].str.replace(',','')\n",
        "fixed_num['fixed_num_installs_num'] = fixed_num['fixed_num_installs_num'].str.replace('+','')\n",
        "fixed_num['fixed_num_installs_num'] = pd.to_numeric(fixed_num['fixed_num_installs_num'])\n",
        "\n",
        "all_apps['fixed_num_installs_num'] = fixed_num['fixed_num_installs_num']\n",
        "\n",
        "only_vars = all_apps[['id', 'len_name', 'len_summary', 'len_description', \n",
        "                      'last_update_fixed', 'content_rating', 'rating', 'rating_1','rating_2', \n",
        "                      'rating_3', 'rating_4', 'rating_5', 'fixed_num_installs', \n",
        "                      'fixed_num_installs_num', 'has_whats_new', 'last_update_days_fixed', \n",
        "                      'macro_android_version', 'num_week', 'price', 'price_usd', 'unified_genre', \n",
        "                      'clean_category', 'top', 'country','General','Flag','Delete','imputed',\n",
        "                      'Delete_bo','Delete_br','Delete_de','Delete_usa']]\n",
        "\n",
        "\n",
        "only_vars.head(5)"
      ],
      "outputs": [],
      "execution_count": null,
      "metadata": {}
    },
    {
      "cell_type": "markdown",
      "source": [
        "## Subset description of numeric and categorical variables"
      ],
      "metadata": {}
    },
    {
      "cell_type": "code",
      "source": [
        "# Describe length of rows and columns\n",
        "only_vars.shape"
      ],
      "outputs": [],
      "execution_count": null,
      "metadata": {}
    },
    {
      "cell_type": "code",
      "source": [
        "# Describe numerical variables\n",
        "only_vars.describe()"
      ],
      "outputs": [],
      "execution_count": null,
      "metadata": {}
    },
    {
      "cell_type": "code",
      "source": [
        "# Describe categorical variables\n",
        "only_vars.describe(include=['object','datetime', 'bool'])"
      ],
      "outputs": [],
      "execution_count": null,
      "metadata": {}
    },
    {
      "cell_type": "code",
      "source": [
        "# Nan or missing values for subset\n",
        "missing_data = only_vars.isnull()\n",
        "total = missing_data.sum().sort_values(ascending=False)\n",
        "percent = (missing_data.sum()/missing_data.count()).sort_values(ascending=False)\n",
        "summary_missing_data = pd.concat([total, percent], axis=1, keys=['Total', 'Missing Percent'])\n",
        "summary_missing_data['Missing Percent'] = summary_missing_data['Missing Percent'].apply(lambda x: x * 100)\n",
        "summary_missing_data"
      ],
      "outputs": [],
      "execution_count": null,
      "metadata": {
        "scrolled": true
      }
    },
    {
      "cell_type": "markdown",
      "source": [
        "### Functions"
      ],
      "metadata": {}
    },
    {
      "cell_type": "markdown",
      "source": [
        "#### To add weight column"
      ],
      "metadata": {}
    },
    {
      "cell_type": "code",
      "source": [
        "def generate_weight_dict(df: pd.DataFrame) -> dict:\n",
        "    weight = df['id'].to_list()\n",
        "    w_dict = {}\n",
        "\n",
        "    for w in weight:\n",
        "        if w in w_dict:\n",
        "            w_dict[w] += 1\n",
        "        else:\n",
        "            w_dict[w] = 1\n",
        "\n",
        "    return w_dict\n",
        "\n",
        "def generate_weight_column(df: pd.DataFrame, parameter: str) -> pd.DataFrame:\n",
        "    w_dict = generate_weight_dict(df)\n",
        "    w_name = f'weight_{parameter}'\n",
        "    amount_name = f'amount_apps_{parameter}'\n",
        "    df[w_name] = df['id'].apply(lambda idx: 1/w_dict[idx])\n",
        "    df[amount_name] = df['id'].apply(lambda idx: w_dict[idx])\n",
        "    \n",
        "    return df"
      ],
      "outputs": [],
      "execution_count": null,
      "metadata": {}
    },
    {
      "cell_type": "markdown",
      "source": [
        "#### To plot categorical variables"
      ],
      "metadata": {}
    },
    {
      "cell_type": "code",
      "source": [
        "def generate_dict(values_list: list) -> dict:\n",
        "    final_dict = {}\n",
        "    for value in values_list:\n",
        "        if value in final_dict:\n",
        "            final_dict[value] += 1\n",
        "        else:\n",
        "            final_dict[value] = 1\n",
        "    \n",
        "    return final_dict\n",
        "\n",
        "def generate_graph(values_dict: dict, feature: str):\n",
        "    plt.rcdefaults()\n",
        "    fig, ax = plt.subplots()\n",
        "\n",
        "    values_dict = OrderedDict(sorted(values_dict.items(), key=lambda x: x[1], reverse=True))\n",
        "\n",
        "    values_dict_keys = values_dict.keys()\n",
        "    y_pos = np.arange(len(values_dict_keys))\n",
        "    values_dict_values = values_dict.values()\n",
        "\n",
        "    ax.barh(y_pos, values_dict_values, align='center', color=(0.2, 0.2, 0.2, 0.5))\n",
        "    ax.set_yticks(y_pos)\n",
        "    ax.set_yticklabels(values_dict_keys)\n",
        "    ax.invert_yaxis() \n",
        "    ax.set_xlabel(feature.title())\n",
        "    ax.set_title(f'{feature.title()} Distribution')\n",
        "    \n",
        "def generate_pie_chart(variable_dict: dict, feature: str):\n",
        "    fig1, ax1 = plt.subplots()\n",
        "    patches, texts, autotexts = ax1.pie(variable_dict.values(), labels=variable_dict.keys(), autopct='%1.1f%%',\n",
        "            shadow=True, startangle=90, colors=['#bebebe','#606060'])\n",
        "    for autotext in autotexts:\n",
        "        autotext.set_color('black')\n",
        "    centre_circle = plt.Circle((0,0),0.70,fc='white')\n",
        "    fig = plt.gcf()\n",
        "    fig.gca().add_artist(centre_circle)\n",
        "\n",
        "    plt.tight_layout()    \n",
        "    ax1.axis('equal')\n",
        "    ax1.set_title(f'{feature.title()} Distribution')\n",
        "    plt.show()\n",
        "    \n",
        "def generate_horizontal_bar_chart(list_dicts: List[dict], list_labels: list, variable: str):\n",
        "    fig = go.Figure()\n",
        "    buttons = []\n",
        "    buttons.append(dict(\n",
        "        args=[{\"visible\": [True]*len(country_labels)}],\n",
        "        label='All',\n",
        "        method='update'\n",
        "    ))\n",
        "\n",
        "    for idx, (dict_num, label) in enumerate(zip(list_dicts, list_labels)):\n",
        "        dict_current = OrderedDict(sorted(dict_num.items(), key=lambda x: x[1], reverse=True))\n",
        "        visible = [False]*len(list_labels)\n",
        "        visible[idx]=True\n",
        "\n",
        "        fig.add_trace(\n",
        "            go.Bar(\n",
        "                x=list(dict_current.values()),\n",
        "                y=list(dict_current.keys()),\n",
        "                name=str(label),\n",
        "                orientation='h'\n",
        "            )\n",
        "        )\n",
        "\n",
        "        buttons.append(dict(\n",
        "            args=[{\"visible\": visible}],\n",
        "            label=str(label),\n",
        "            method='update'\n",
        "        ))\n",
        "\n",
        "    # Add dropdown\n",
        "    fig.update_layout(\n",
        "        title=variable,\n",
        "        updatemenus=[\n",
        "            dict(\n",
        "                buttons=list(buttons),\n",
        "                direction=\"down\",\n",
        "                pad={\"r\": 10, \"t\": 10},\n",
        "                showactive=True,\n",
        "                x=0.1,\n",
        "                xanchor=\"left\",\n",
        "                y=1.1,\n",
        "                yanchor=\"top\"\n",
        "            ),\n",
        "        ]\n",
        "    )\n",
        "\n",
        "    plotly.offline.plot(fig, filename= f'{variable}-rq1-MFO.html', auto_open=False)\n",
        "    fig.show()\n",
        "    \n",
        "    \n",
        "def generate_pie_chart_dropdown(list_dicts: List[dict], list_labels: list, variable: str):\n",
        "    fig = go.Figure()\n",
        "    buttons = []\n",
        "\n",
        "    for idx, (dict_num, label) in enumerate(zip(list_dicts, list_labels)):\n",
        "        dict_current = OrderedDict(sorted(dict_num.items(), key=lambda x: x[1], reverse=True))\n",
        "        visible = [False]*len(list_labels)\n",
        "        visible[idx]=True\n",
        "\n",
        "        fig.add_trace(\n",
        "            go.Pie(\n",
        "                values=list(dict_current.values()),\n",
        "                labels=list(dict_current.keys()),\n",
        "                name=label\n",
        "            )\n",
        "        )\n",
        "\n",
        "        buttons.append(dict(\n",
        "            args=[{\"visible\": visible}],\n",
        "            label=label,\n",
        "            method='update'\n",
        "        ))\n",
        "\n",
        "    # Add dropdown\n",
        "    fig.update_layout(\n",
        "        title=variable,\n",
        "        updatemenus=[\n",
        "            dict(\n",
        "                buttons=list(buttons),\n",
        "                direction=\"down\",\n",
        "                pad={\"r\": 10, \"t\": 10},\n",
        "                showactive=True,\n",
        "                x=0.1,\n",
        "                xanchor=\"left\",\n",
        "                y=1.1,\n",
        "                yanchor=\"top\"\n",
        "            ),\n",
        "        ]\n",
        "    )\n",
        "\n",
        "    plotly.offline.plot(fig, filename= f'{variable}-rq1-MFO.html', auto_open=False)\n",
        "    fig.show()"
      ],
      "outputs": [],
      "execution_count": null,
      "metadata": {}
    },
    {
      "cell_type": "markdown",
      "source": [
        "#### To get numerical variables stats"
      ],
      "metadata": {}
    },
    {
      "cell_type": "code",
      "source": [
        "def get_stats(variable: str, data: dict, df_big: pd.DataFrame, weight_name: str, group: str):\n",
        "    df_variable = df_big[[variable, weight_name]]\n",
        "    df_variable = df_variable.dropna()\n",
        "    w_mean = (df_variable[variable]*df_variable[weight_name]).sum()/df_variable[weight_name].sum() if df_variable[weight_name].sum() > 0 else None\n",
        "    mean = df_variable[variable].mean()\n",
        "    min = df_variable[variable].min()\n",
        "    max = df_variable[variable].max()\n",
        "    median = df_variable[variable].median()\n",
        "    q1 = df_variable[variable].quantile(q=0.25)\n",
        "    q3 = df_variable[variable].quantile(q=0.75)\n",
        "\n",
        "    data['variable'].append(variable)\n",
        "    data['group'].append(group)\n",
        "    data['weighted_mean'].append(w_mean)\n",
        "    data['mean'].append(mean)\n",
        "    data['min'].append(min)\n",
        "    data['q1'].append(q1)\n",
        "    data['median'].append(median)\n",
        "    data['q3'].append(q3)\n",
        "    data['max'].append(max)"
      ],
      "outputs": [],
      "execution_count": null,
      "metadata": {}
    },
    {
      "cell_type": "markdown",
      "source": [
        "#### To plot numerical variables"
      ],
      "metadata": {}
    },
    {
      "cell_type": "code",
      "source": [
        "def plot_violin(df_big: pd.DataFrame, variable: str, x_axis: str, score: float, hue_var=''):\n",
        "    df = df_big[[variable, x_axis]]\n",
        "    df = df.dropna(subset=[variable])\n",
        "    z_scores = np.abs(zscore(df[variable]))\n",
        "    filtered_entries = np.where(z_scores < score)\n",
        "    df = df.iloc[filtered_entries]\n",
        "    plt.figure()\n",
        "    if hue_var != '':\n",
        "        sns.violinplot(x=x_axis, y=variable, hue=hue_var, data=df)\n",
        "    else:\n",
        "        sns.violinplot(x=x_axis, y=variable, data=df)\n",
        "        \n",
        "def plot_boxplot(df_big: pd.DataFrame, variable: str, x_axis: str, score: float, hue_var=''):\n",
        "    if hue_var != '':\n",
        "        df = df_big[[variable, x_axis, hue_var]]\n",
        "    else:\n",
        "        df = df_big[[variable, x_axis]]\n",
        "\n",
        "    df = df.dropna(subset=[variable])\n",
        "    z_scores = np.abs(zscore(df[variable]))\n",
        "    filtered_entries = np.where(z_scores < score)\n",
        "    df = df.iloc[filtered_entries]\n",
        "    plt.figure()\n",
        "    \n",
        "    if hue_var != '':\n",
        "        sns.boxplot(x=x_axis, y=variable, hue=hue_var, data=df, orient=\"v\")\n",
        "    else:\n",
        "        sns.boxplot(x=x_axis, y=variable, data=df, orient=\"v\")\n",
        "        \n",
        "def plot_boxplot_horizontal(df_big: pd.DataFrame, variable: str, y_axis: str, score: float, hue_var=''):\n",
        "    if hue_var != '':\n",
        "        df = df_big[[variable, variable, hue_var]]\n",
        "    else:\n",
        "        df = df_big[[variable, variable]]\n",
        "    df = df.dropna(subset=[variable])\n",
        "    z_scores = np.abs(zscore(df[variable]))\n",
        "    filtered_entries = np.where(z_scores < score)\n",
        "    df = df.iloc[filtered_entries]\n",
        "    plt.figure()\n",
        "    \n",
        "    if hue_var != '':\n",
        "        sns.boxplot(x=variable, y=y_axis, hue=hue_var, data=df, orient=\"h\")\n",
        "    else:\n",
        "        sns.boxplot(x=variable, y=y_axis, data=df, orient=\"h\")\n",
        "        \n",
        "def plot_boxplot_single(df_big: pd.DataFrame, variable: str, score: float):\n",
        "    df = df_big[[variable]]\n",
        "    df = df.dropna(subset=[variable])\n",
        "    z_scores = np.abs(zscore(df[variable]))\n",
        "    filtered_entries = np.where(z_scores < score)\n",
        "    df = df.iloc[filtered_entries]\n",
        "    plt.figure()\n",
        "    \n",
        "    sns.boxplot(y=variable, data=df)  "
      ],
      "outputs": [],
      "execution_count": null,
      "metadata": {}
    },
    {
      "cell_type": "markdown",
      "source": [
        "#### To plot numerical variables in gray palette"
      ],
      "metadata": {}
    },
    {
      "cell_type": "code",
      "source": [
        "def plot_boxplot_gray(df_big: pd.DataFrame, variable: str, x_axis: str, score: float, hue_var=''):\n",
        "    \n",
        "    if hue_var != '':\n",
        "        df = df_big[[variable, x_axis, hue_var]]\n",
        "    else:\n",
        "        df = df_big[[variable, x_axis]]\n",
        "    \n",
        "    df = df.dropna(subset=[variable])\n",
        "    z_scores = np.abs(zscore(df[variable]))\n",
        "    filtered_entries = np.where(z_scores < score)\n",
        "    df = df.iloc[filtered_entries]\n",
        "    plt.figure(figsize=(16, 10))\n",
        "    sns.set_style(\"whitegrid\")\n",
        "    \n",
        "    if hue_var != '':\n",
        "        ax = sns.boxplot(x=x_axis, y=variable, hue=hue_var, data=df, orient=\"v\", palette=seq_col_brew[1:])\n",
        "    else:\n",
        "        ax = sns.boxplot(x=x_axis, y=variable, data=df, orient=\"v\", palette=seq_col_brew[1:])\n",
        "        \n",
        "def adjust_box_widths(g, fac):\n",
        "    \"\"\"\n",
        "    Adjust the withs of a seaborn-generated boxplot.\n",
        "    \"\"\"\n",
        "\n",
        "    # iterating through Axes instances\n",
        "    for ax in g.axes:\n",
        "\n",
        "        # iterating through axes artists:\n",
        "        for c in ax.get_children():\n",
        "\n",
        "            # searching for PathPatches\n",
        "            if isinstance(c, PathPatch):\n",
        "                # getting current width of box:\n",
        "                p = c.get_path()\n",
        "                verts = p.vertices\n",
        "                verts_sub = verts[:-1]\n",
        "                xmin = np.min(verts_sub[:, 1])\n",
        "                xmax = np.max(verts_sub[:, 1])\n",
        "                xmid = 0.5*(xmin+xmax)\n",
        "                xhalf = 0.5*(xmax - xmin)\n",
        "\n",
        "                # setting new width of box\n",
        "                xmin_new = xmid-fac*xhalf\n",
        "                xmax_new = xmid+fac*xhalf\n",
        "                verts_sub[verts_sub[:, 1] == xmin, 1] = xmin_new\n",
        "                verts_sub[verts_sub[:, 1] == xmax, 1] = xmax_new\n",
        "\n",
        "                # setting new width of median line\n",
        "                for l in ax.lines:\n",
        "                    if np.all(l.get_xdata() == [xmin, xmax]):\n",
        "                        l.set_xdata([xmin_new, xmax_new])\n",
        "        \n",
        "def plot_boxplot_horizontal_gray(df_big: pd.DataFrame, variable: str, x_axis: str, score: float, hue_var=''):\n",
        "    \n",
        "    if hue_var != '':\n",
        "        df = df_big[[variable, x_axis, hue_var]]\n",
        "    else:\n",
        "        df = df_big[[variable, x_axis]]\n",
        "    df = df.dropna(subset=[variable])\n",
        "    z_scores = np.abs(zscore(df[variable]))\n",
        "    filtered_entries = np.where(z_scores < score)\n",
        "    df = df.iloc[filtered_entries]\n",
        "    fig = plt.figure(figsize=(16, 10))\n",
        "    sns.set_style(\"whitegrid\")\n",
        "    \n",
        "    if hue_var != '':\n",
        "        ax = sns.boxplot(x=variable, y=x_axis, hue=hue_var, data=df, orient=\"h\", palette=seq_col_brew[1:], width=0.4)\n",
        "        adjust_box_widths(fig, 0.8)\n",
        "    else:\n",
        "        ax = sns.boxplot(x=variable, y=x_axis, data=df, orient=\"h\", palette=seq_col_brew[1:], width=0.2)\n",
        "        \n",
        "def plot_boxplot_single_gray(df_big: pd.DataFrame, variable: str, score: float):\n",
        "    df = df_big[[variable]]\n",
        "    df = df.dropna(subset=[variable])\n",
        "    z_scores = np.abs(zscore(df[variable]))\n",
        "    filtered_entries = np.where(z_scores < score)\n",
        "    df = df.iloc[filtered_entries]\n",
        "    plt.figure(figsize=(16, 10))\n",
        "    sns.set_style(\"whitegrid\")\n",
        "    \n",
        "    ax = sns.boxplot(y=variable, data=df, palette=seq_col_brew[1:])\n",
        "    for box in ax.artists:\n",
        "        box.set_facecolor(\"white\")"
      ],
      "outputs": [],
      "execution_count": null,
      "metadata": {}
    },
    {
      "cell_type": "markdown",
      "source": [
        "#### To generate possible pairs"
      ],
      "metadata": {}
    },
    {
      "cell_type": "code",
      "source": [
        "def generate_pairs(source: list) -> list:\n",
        "    result = []\n",
        "    for p1 in range(len(source)):\n",
        "        for p2 in range(p1+1,len(source)):\n",
        "            result.append([source[p1],source[p2]])\n",
        "    return result"
      ],
      "outputs": [],
      "execution_count": null,
      "metadata": {}
    },
    {
      "cell_type": "markdown",
      "source": [
        "#### To generate pvalues and cliffs delta"
      ],
      "metadata": {}
    },
    {
      "cell_type": "code",
      "source": [
        "def generate_pval_dataframe(list_keys: list, df_big: pd.DataFrame, value: str, num_variable: str) -> pd.DataFrame:\n",
        "    df = pd.DataFrame(columns=['c1', 'c2', 'pvalue', 'd', 'size'])\n",
        "    list_pairs = generate_pairs(list_keys)\n",
        "    \n",
        "    for pair in list_pairs:\n",
        "        c1 = pair[0]\n",
        "        c2 = pair[1]\n",
        "        \n",
        "        x = df_big.loc[df_big[value] == c1, num_variable].to_list()\n",
        "        y = df_big.loc[df_big[value] == c2, num_variable].to_list()\n",
        "        \n",
        "        Hmw, pval = mannwhitneyu(x, y, alternative='two-sided')\n",
        "        d, size = cliffsDelta(x, y)\n",
        "        \n",
        "        df = df.append(\n",
        "            {'c1': c1, \n",
        "             'c2': c2, \n",
        "             'pvalue': pval, \n",
        "             'd': d, \n",
        "             'size': size}, ignore_index=True)\n",
        "        \n",
        "    reject, pval_corrected, a_s, a_b = multipletests(df['pvalue'].to_list(), alpha=0.05, method='holm', is_sorted=False, returnsorted=False)\n",
        "    df['reject'] = reject\n",
        "    df['pvalue_corrected'] = pval_corrected\n",
        "    \n",
        "    return df    \n",
        "\n",
        "def generate_pval_dataframe_two(list_keys: list, df_big: pd.DataFrame, value_1: str, value_2:str, num_variable: str) -> pd.DataFrame:\n",
        "    df = pd.DataFrame(columns=['c1', 'c2', 'pvalue', 'd', 'size'])\n",
        "    list_pairs = generate_pairs(list_keys)\n",
        "    \n",
        "    for pair in list_pairs:\n",
        "        c1 = pair[0]\n",
        "        c1_1 = c1[0]\n",
        "        c1_2 = c1[1]\n",
        "        \n",
        "        c2 = pair[1]\n",
        "        c2_1 = c2[0]\n",
        "        c2_2 = c2[1]\n",
        "        \n",
        "        x = df_big.loc[(df_big[value_1] == c1_1) & (df_big[value_2] == c1_2), num_variable].to_list()\n",
        "        y = df_big.loc[(df_big[value_1] == c2_1) & (df_big[value_2] == c2_2), num_variable].to_list()\n",
        "        \n",
        "        if x == y:\n",
        "            continue\n",
        "        else:\n",
        "            Hmw, pval = mannwhitneyu(x, y, alternative='two-sided')\n",
        "        if len(x) > 0 and len(y) > 0:\n",
        "            d, size = cliffsDelta(x, y)\n",
        "        else:\n",
        "            d, size = None, None\n",
        "        \n",
        "        df = df.append(\n",
        "            {'c1': c1, \n",
        "             'c2': c2, \n",
        "             'pvalue': pval, \n",
        "             'd': d, \n",
        "             'size': size}, ignore_index=True)\n",
        "        \n",
        "    reject, pval_corrected, a_s, a_b = multipletests(df['pvalue'].to_list(), alpha=0.05, method='holm', is_sorted=False, returnsorted=False)\n",
        "    df['reject'] = reject\n",
        "    df['pvalue_corrected'] = pval_corrected\n",
        "    \n",
        "    return df    "
      ],
      "outputs": [],
      "execution_count": null,
      "metadata": {}
    },
    {
      "cell_type": "markdown",
      "source": [
        "# Analysis"
      ],
      "metadata": {}
    },
    {
      "cell_type": "code",
      "source": [
        "# Rename columns\n",
        "only_vars.columns = ['id','len_name','len_summary', 'len_description', 'last_update_date', \n",
        "                     'content_rating', 'rating', 'rating_1', 'rating_2', 'rating_3', 'rating_4', 'rating_5',\n",
        "                     'num_installs', 'num_installs_num', 'has_whats_new', 'last_update_days', 'android_version',\n",
        "                     'num_week', 'price', 'price_usd', 'genre', 'category', 'top', 'country','general','flag','delete','imputed',\n",
        "                      'delete_co','delete_br','delete_de','delete_usa']\n",
        "\n",
        "\n",
        "only_vars.head(3)"
      ],
      "outputs": [],
      "execution_count": null,
      "metadata": {}
    },
    {
      "cell_type": "code",
      "source": [
        "# Save copy of only vars \n",
        "only_vars_original = only_vars.copy()"
      ],
      "outputs": [],
      "execution_count": null,
      "metadata": {}
    },
    {
      "cell_type": "code",
      "source": [
        "only_vars.shape"
      ],
      "outputs": [],
      "execution_count": null,
      "metadata": {}
    },
    {
      "cell_type": "code",
      "source": [
        "# Add weight column based on app id\n",
        "only_vars = generate_weight_column(only_vars, 'general')\n",
        "only_vars.head(3)"
      ],
      "outputs": [],
      "execution_count": null,
      "metadata": {}
    },
    {
      "cell_type": "markdown",
      "source": [
        "## Categorical variables"
      ],
      "metadata": {}
    },
    {
      "cell_type": "markdown",
      "source": [
        "### Content Rating"
      ],
      "metadata": {}
    },
    {
      "cell_type": "code",
      "source": [
        "content_rating = only_vars['content_rating']\n",
        "content_rating_dict = generate_dict(content_rating.to_list())\n",
        "pp.pprint(content_rating_dict)\n",
        "generate_graph(content_rating_dict, 'content rating')"
      ],
      "outputs": [],
      "execution_count": null,
      "metadata": {}
    },
    {
      "cell_type": "markdown",
      "source": [
        "### Android Version"
      ],
      "metadata": {}
    },
    {
      "cell_type": "code",
      "source": [
        "macro_android_version = only_vars['android_version']\n",
        "macro_android_version_dict = generate_dict(macro_android_version.to_list())\n",
        "pp.pprint(macro_android_version_dict)\n",
        "generate_graph(macro_android_version_dict, 'android version')"
      ],
      "outputs": [],
      "execution_count": null,
      "metadata": {
        "scrolled": true
      }
    },
    {
      "cell_type": "markdown",
      "source": [
        "### Genre"
      ],
      "metadata": {}
    },
    {
      "cell_type": "code",
      "source": [
        "genre = only_vars['genre']\n",
        "genre_dict = generate_dict(genre.to_list())\n",
        "pp.pprint(genre_dict)\n",
        "generate_graph(genre_dict, 'genre')"
      ],
      "outputs": [],
      "execution_count": null,
      "metadata": {
        "scrolled": true
      }
    },
    {
      "cell_type": "markdown",
      "source": [
        "### Has What's New"
      ],
      "metadata": {}
    },
    {
      "cell_type": "code",
      "source": [
        "has_whats_new = only_vars['has_whats_new']\n",
        "has_whats_new_dict = generate_dict(has_whats_new.to_list())\n",
        "pp.pprint(has_whats_new_dict)\n",
        "generate_pie_chart(has_whats_new_dict, \"has whats new\")"
      ],
      "outputs": [],
      "execution_count": null,
      "metadata": {
        "scrolled": true
      }
    },
    {
      "cell_type": "markdown",
      "source": [
        "### Num Installs"
      ],
      "metadata": {}
    },
    {
      "cell_type": "code",
      "source": [
        "fixed_num_installs = only_vars['num_installs']\n",
        "fixed_num_installs_dict = generate_dict(fixed_num_installs.to_list())\n",
        "pp.pprint(fixed_num_installs_dict)\n",
        "generate_graph(fixed_num_installs_dict, 'num installs')"
      ],
      "outputs": [],
      "execution_count": null,
      "metadata": {
        "scrolled": true
      }
    },
    {
      "cell_type": "markdown",
      "source": [
        "## Numerical variables"
      ],
      "metadata": {}
    },
    {
      "cell_type": "markdown",
      "source": [
        "### Numerical variables stats"
      ],
      "metadata": {}
    },
    {
      "cell_type": "code",
      "source": [
        "numeric_variables = ['len_name', 'len_summary', 'len_description', \n",
        "                     'rating', 'rating_1','rating_2', 'rating_3', 'rating_4', 'rating_5', \n",
        "                     'last_update_days', 'price_usd','num_installs_num']\n",
        "\n",
        "data_general = {\n",
        "    'variable': [],\n",
        "    'group':[],\n",
        "    'weighted_mean': [],\n",
        "    'mean': [],\n",
        "    'min': [],\n",
        "    'q1': [],\n",
        "    'median': [],\n",
        "    'q3': [],\n",
        "    'max': []\n",
        "}\n",
        "\n",
        "for nv in numeric_variables:\n",
        "    get_stats(nv, data_general, only_vars, 'weight_general', 'general')"
      ],
      "outputs": [],
      "execution_count": null,
      "metadata": {}
    },
    {
      "cell_type": "code",
      "source": [
        "pd.options.display.float_format = \"{:.2f}\".format\n",
        "numeric_general = pd.DataFrame(data_general)\n",
        "numeric_general"
      ],
      "outputs": [],
      "execution_count": null,
      "metadata": {}
    },
    {
      "cell_type": "code",
      "source": [
        "for nv in numeric_variables:\n",
        "    plot_boxplot_single(only_vars, nv, 2)"
      ],
      "outputs": [],
      "execution_count": null,
      "metadata": {
        "scrolled": true
      }
    },
    {
      "cell_type": "markdown",
      "source": [
        "## Grouped by Country"
      ],
      "metadata": {}
    },
    {
      "cell_type": "markdown",
      "source": [
        "### Categorical variables"
      ],
      "metadata": {}
    },
    {
      "cell_type": "code",
      "source": [
        "# Make a copy of original only vars\n",
        "only_vars = only_vars_original.copy()"
      ],
      "outputs": [],
      "execution_count": null,
      "metadata": {}
    },
    {
      "cell_type": "code",
      "source": [
        "groups_country = only_vars.groupby(['country'])\n",
        "categorical_variables = ['content_rating', 'android_version']\n",
        "\n",
        "data_country = {\n",
        "    'variable': [],\n",
        "    'group': [],\n",
        "    'weighted_mean': [],\n",
        "    'mean': [],\n",
        "    'min': [],\n",
        "    'q1': [],\n",
        "    'median': [],\n",
        "    'q3': [],\n",
        "    'max': []\n",
        "}\n",
        "\n",
        "content_rating_dicts = []\n",
        "android_version_dicts = []\n",
        "has_whats_new_dicts = []\n",
        "genre_dicts = []\n",
        "country_labels = []\n",
        "    \n",
        "# Iterate over country groups to plot variables and get stats\n",
        "for key in groups_country.groups.keys():\n",
        "    df = groups_country.get_group(key)\n",
        "    \n",
        "    # Remove imputed data depending the country\n",
        "    if key=='co':\n",
        "        df = df.loc[df['delete_co']==0]\n",
        "    elif key=='br':\n",
        "        df = df.loc[df['delete_br']==0]\n",
        "    elif key=='de':\n",
        "        df = df.loc[df['delete_de']==0]\n",
        "    elif key=='us':\n",
        "        df = df.loc[df['delete_usa']==0]\n",
        "        \n",
        "    \n",
        "    # Generate a weight column for each group\n",
        "    df = generate_weight_column(df, key)\n",
        "    \n",
        "    country_labels.append(key)\n",
        "    content_rating_dicts.append(generate_dict(df['content_rating'].to_list()))\n",
        "    android_version_dicts.append(generate_dict(df['android_version'].to_list()))\n",
        "    has_whats_new_dicts.append(generate_dict(df['has_whats_new'].to_list()))\n",
        "    genre_dicts.append(generate_dict(df['genre'].to_list()))\n",
        "    \n",
        "    for nv in numeric_variables:\n",
        "        get_stats(nv, data_country, df, f'weight_{key}', key)"
      ],
      "outputs": [],
      "execution_count": null,
      "metadata": {}
    },
    {
      "cell_type": "code",
      "source": [
        "generate_horizontal_bar_chart(content_rating_dicts, country_labels, 'Content Rating')"
      ],
      "outputs": [],
      "execution_count": null,
      "metadata": {
        "scrolled": false
      }
    },
    {
      "cell_type": "code",
      "source": [
        "generate_horizontal_bar_chart(android_version_dicts, country_labels, 'Android Versions')"
      ],
      "outputs": [],
      "execution_count": null,
      "metadata": {
        "scrolled": false
      }
    },
    {
      "cell_type": "code",
      "source": [
        "generate_horizontal_bar_chart(genre_dicts, country_labels, 'Genre')"
      ],
      "outputs": [],
      "execution_count": null,
      "metadata": {}
    },
    {
      "cell_type": "code",
      "source": [
        "generate_pie_chart_dropdown(has_whats_new_dicts, country_labels, 'Has Whats New')"
      ],
      "outputs": [],
      "execution_count": null,
      "metadata": {
        "scrolled": false
      }
    },
    {
      "cell_type": "code",
      "source": [
        "has_whats_new_week = pd.DataFrame()\n",
        "for label, d in zip(country_labels, has_whats_new_dicts):\n",
        "    d['week'] = label\n",
        "    total = d[True] + d[False]\n",
        "    d['percentage_true'] = (d[True]/total)*100\n",
        "    d['percentage_false'] = (d[False]/total)*100\n",
        "    \n",
        "    has_whats_new_week = has_whats_new_week.append(d, ignore_index=True)\n",
        "    \n",
        "has_whats_new_week"
      ],
      "outputs": [],
      "execution_count": null,
      "metadata": {}
    },
    {
      "cell_type": "markdown",
      "source": [
        "### Numerical variables"
      ],
      "metadata": {}
    },
    {
      "cell_type": "code",
      "source": [
        "numeric_data_country = pd.DataFrame(data_country)\n",
        "numeric_data_country =numeric_data_country.sort_values(by=['variable', 'group'])\n",
        "numeric_data_country"
      ],
      "outputs": [],
      "execution_count": null,
      "metadata": {
        "scrolled": true
      }
    },
    {
      "cell_type": "code",
      "source": [
        "numeric_variables = ['len_name', 'len_summary', 'len_description', \n",
        "                     'rating', 'rating_1','rating_2', 'rating_3', 'rating_4', 'rating_5', \n",
        "                     'last_update_days', 'price_usd','num_installs_num']\n",
        "\n",
        "df_countries = only_vars.loc[(only_vars['delete_br']==0)&(only_vars['country']=='br')]\\\n",
        ".append(only_vars.loc[(only_vars['delete_co']==0)&(only_vars['country']=='co')])\\\n",
        ".append(only_vars.loc[(only_vars['delete_de']==0)&(only_vars['country']=='de')])\\\n",
        ".append(only_vars.loc[(only_vars['delete_usa']==0)&(only_vars['country']=='us')])"
      ],
      "outputs": [],
      "execution_count": null,
      "metadata": {}
    },
    {
      "cell_type": "markdown",
      "source": [
        "### Len name"
      ],
      "metadata": {}
    },
    {
      "cell_type": "code",
      "source": [
        "plot_boxplot_horizontal_gray(df_countries, 'len_name', 'country', 2)\n",
        "country_pvalues = generate_pval_dataframe(list(groups_country.groups.keys()), df_countries, 'country', 'len_name')\n",
        "country_pvalues"
      ],
      "outputs": [],
      "execution_count": null,
      "metadata": {
        "scrolled": true
      }
    },
    {
      "cell_type": "code",
      "source": [
        "d = generate_dict(country_pvalues['size'].to_list())\n",
        "pp.pprint(d)"
      ],
      "outputs": [],
      "execution_count": null,
      "metadata": {}
    },
    {
      "cell_type": "markdown",
      "source": [
        "### Len summary"
      ],
      "metadata": {}
    },
    {
      "cell_type": "code",
      "source": [
        "plot_boxplot_horizontal_gray(df_countries, 'len_summary', 'country', 2)\n",
        "country_pvalues = generate_pval_dataframe(list(groups_country.groups.keys()), df_countries, 'country', 'len_summary')\n",
        "country_pvalues"
      ],
      "outputs": [],
      "execution_count": null,
      "metadata": {
        "scrolled": true
      }
    },
    {
      "cell_type": "code",
      "source": [
        "d = generate_dict(country_pvalues['size'].to_list())\n",
        "pp.pprint(d)"
      ],
      "outputs": [],
      "execution_count": null,
      "metadata": {}
    },
    {
      "cell_type": "markdown",
      "source": [
        "### Len description"
      ],
      "metadata": {}
    },
    {
      "cell_type": "code",
      "source": [
        "plot_boxplot_horizontal_gray(df_countries, 'len_description', 'country', 2)\n",
        "country_pvalues = generate_pval_dataframe(list(groups_country.groups.keys()), df_countries, 'country', 'len_description')\n",
        "country_pvalues"
      ],
      "outputs": [],
      "execution_count": null,
      "metadata": {
        "scrolled": true
      }
    },
    {
      "cell_type": "code",
      "source": [
        "d = generate_dict(country_pvalues['size'].to_list())\n",
        "pp.pprint(d)"
      ],
      "outputs": [],
      "execution_count": null,
      "metadata": {}
    },
    {
      "cell_type": "markdown",
      "source": [
        "### Rating"
      ],
      "metadata": {}
    },
    {
      "cell_type": "code",
      "source": [
        "plot_boxplot_horizontal_gray(df_countries, 'rating', 'country', 2)\n",
        "country_pvalues = generate_pval_dataframe(list(groups_country.groups.keys()), df_countries, 'country', 'rating')\n",
        "country_pvalues"
      ],
      "outputs": [],
      "execution_count": null,
      "metadata": {
        "scrolled": true
      }
    },
    {
      "cell_type": "code",
      "source": [
        "d = generate_dict(country_pvalues['size'].to_list())\n",
        "pp.pprint(d)"
      ],
      "outputs": [],
      "execution_count": null,
      "metadata": {}
    },
    {
      "cell_type": "markdown",
      "source": [
        "### Rating 1"
      ],
      "metadata": {}
    },
    {
      "cell_type": "code",
      "source": [
        "plot_boxplot_horizontal_gray(df_countries, 'rating_1', 'country', 2)\n",
        "country_pvalues = generate_pval_dataframe(list(groups_country.groups.keys()), df_countries, 'country', 'rating_1')\n",
        "country_pvalues"
      ],
      "outputs": [],
      "execution_count": null,
      "metadata": {
        "scrolled": true
      }
    },
    {
      "cell_type": "code",
      "source": [
        "d = generate_dict(country_pvalues['size'].to_list())\n",
        "pp.pprint(d)"
      ],
      "outputs": [],
      "execution_count": null,
      "metadata": {}
    },
    {
      "cell_type": "markdown",
      "source": [
        "### Rating 2"
      ],
      "metadata": {}
    },
    {
      "cell_type": "code",
      "source": [
        "plot_boxplot_horizontal_gray(df_countries, 'rating_2', 'country', 2)\n",
        "country_pvalues = generate_pval_dataframe(list(groups_country.groups.keys()), df_countries, 'country', 'rating_2')\n",
        "country_pvalues"
      ],
      "outputs": [],
      "execution_count": null,
      "metadata": {
        "scrolled": true
      }
    },
    {
      "cell_type": "code",
      "source": [
        "d = generate_dict(country_pvalues['size'].to_list())\n",
        "pp.pprint(d)"
      ],
      "outputs": [],
      "execution_count": null,
      "metadata": {}
    },
    {
      "cell_type": "markdown",
      "source": [
        "### Rating 3"
      ],
      "metadata": {}
    },
    {
      "cell_type": "code",
      "source": [
        "plot_boxplot_horizontal_gray(df_countries, 'rating_3', 'country', 2)\n",
        "country_pvalues = generate_pval_dataframe(list(groups_country.groups.keys()), df_countries, 'country', 'rating_3')\n",
        "country_pvalues"
      ],
      "outputs": [],
      "execution_count": null,
      "metadata": {
        "scrolled": true
      }
    },
    {
      "cell_type": "code",
      "source": [
        "d = generate_dict(country_pvalues['size'].to_list())\n",
        "pp.pprint(d)"
      ],
      "outputs": [],
      "execution_count": null,
      "metadata": {}
    },
    {
      "cell_type": "markdown",
      "source": [
        "### Rating 4"
      ],
      "metadata": {}
    },
    {
      "cell_type": "code",
      "source": [
        "plot_boxplot_horizontal_gray(df_countries, 'rating_4', 'country', 2)\n",
        "country_pvalues = generate_pval_dataframe(list(groups_country.groups.keys()), df_countries, 'country', 'rating_4')\n",
        "country_pvalues"
      ],
      "outputs": [],
      "execution_count": null,
      "metadata": {
        "scrolled": true
      }
    },
    {
      "cell_type": "code",
      "source": [
        "d = generate_dict(country_pvalues['size'].to_list())\n",
        "pp.pprint(d)"
      ],
      "outputs": [],
      "execution_count": null,
      "metadata": {}
    },
    {
      "cell_type": "markdown",
      "source": [
        "### Rating 5 "
      ],
      "metadata": {}
    },
    {
      "cell_type": "code",
      "source": [
        "plot_boxplot_horizontal_gray(df_countries, 'rating_5', 'country', 2)\n",
        "country_pvalues = generate_pval_dataframe(list(groups_country.groups.keys()), df_countries, 'country', 'rating_5')\n",
        "country_pvalues"
      ],
      "outputs": [],
      "execution_count": null,
      "metadata": {
        "scrolled": true
      }
    },
    {
      "cell_type": "code",
      "source": [
        "d = generate_dict(country_pvalues['size'].to_list())\n",
        "pp.pprint(d)"
      ],
      "outputs": [],
      "execution_count": null,
      "metadata": {}
    },
    {
      "cell_type": "markdown",
      "source": [
        "### Last update days"
      ],
      "metadata": {}
    },
    {
      "cell_type": "code",
      "source": [
        "plot_boxplot_horizontal_gray(df_countries, 'last_update_days', 'country', 2)\n",
        "country_pvalues = generate_pval_dataframe(list(groups_country.groups.keys()), df_countries, 'country', 'last_update_days')\n",
        "country_pvalues"
      ],
      "outputs": [],
      "execution_count": null,
      "metadata": {
        "scrolled": true
      }
    },
    {
      "cell_type": "code",
      "source": [
        "d = generate_dict(country_pvalues['size'].to_list())\n",
        "pp.pprint(d)"
      ],
      "outputs": [],
      "execution_count": null,
      "metadata": {}
    },
    {
      "cell_type": "markdown",
      "source": [
        "### Price usd"
      ],
      "metadata": {}
    },
    {
      "cell_type": "code",
      "source": [
        "plot_boxplot_horizontal_gray(df_countries, 'price_usd', 'country', 2)\n",
        "country_pvalues = generate_pval_dataframe(list(groups_country.groups.keys()), df_countries, 'country', 'price_usd')\n",
        "country_pvalues"
      ],
      "outputs": [],
      "execution_count": null,
      "metadata": {
        "scrolled": true
      }
    },
    {
      "cell_type": "code",
      "source": [
        "d = generate_dict(country_pvalues['size'].to_list())\n",
        "pp.pprint(d)"
      ],
      "outputs": [],
      "execution_count": null,
      "metadata": {}
    },
    {
      "cell_type": "markdown",
      "source": [
        "### Num installs"
      ],
      "metadata": {}
    },
    {
      "cell_type": "code",
      "source": [
        "plot_boxplot_horizontal_gray(df_countries, 'num_installs_num', 'country', 2)\n",
        "country_pvalues = generate_pval_dataframe(list(groups_country.groups.keys()), df_countries, 'country', 'num_installs_num')\n",
        "country_pvalues"
      ],
      "outputs": [],
      "execution_count": null,
      "metadata": {
        "scrolled": true
      }
    },
    {
      "cell_type": "code",
      "source": [
        "d = generate_dict(country_pvalues['size'].to_list())\n",
        "pp.pprint(d)"
      ],
      "outputs": [],
      "execution_count": null,
      "metadata": {}
    },
    {
      "cell_type": "markdown",
      "source": [
        "## Grouped by top"
      ],
      "metadata": {}
    },
    {
      "cell_type": "markdown",
      "source": [
        "### Categorical variables"
      ],
      "metadata": {}
    },
    {
      "cell_type": "code",
      "source": [
        "# Make a copy of original only vars\n",
        "only_vars = only_vars_original.copy()"
      ],
      "outputs": [],
      "execution_count": null,
      "metadata": {}
    },
    {
      "cell_type": "code",
      "source": [
        "groups_top = only_vars.groupby(['top'])\n",
        "categorical_variables = ['content_rating', 'android_version']\n",
        "\n",
        "data_top = {\n",
        "    'variable': [],\n",
        "    'group': [],\n",
        "    'weighted_mean': [],\n",
        "    'mean': [],\n",
        "    'min': [],\n",
        "    'q1': [],\n",
        "    'median': [],\n",
        "    'q3': [],\n",
        "    'max': []\n",
        "}\n",
        "\n",
        "content_rating_dicts = []\n",
        "android_version_dicts = []\n",
        "has_whats_new_dicts = []\n",
        "genre_dicts = []\n",
        "top_labels = []\n",
        "    \n",
        "# Iterate over top groups to plot variables and get stats\n",
        "for key in groups_top.groups.keys():\n",
        "    df = groups_top.get_group(key)\n",
        "    # Generate a weight column for each group\n",
        "    df = generate_weight_column(df, key)\n",
        "    \n",
        "    top_labels.append(key)\n",
        "    content_rating_dicts.append(generate_dict(df['content_rating'].to_list()))\n",
        "    android_version_dicts.append(generate_dict(df['android_version'].to_list()))\n",
        "    has_whats_new_dicts.append(generate_dict(df['has_whats_new'].to_list()))\n",
        "    genre_dicts.append(generate_dict(df['genre'].to_list()))\n",
        "    \n",
        "    for nv in numeric_variables:\n",
        "        get_stats(nv, data_top, df, f'weight_{key}', key)"
      ],
      "outputs": [],
      "execution_count": null,
      "metadata": {}
    },
    {
      "cell_type": "code",
      "source": [
        "generate_horizontal_bar_chart(content_rating_dicts, top_labels, 'Content Rating')"
      ],
      "outputs": [],
      "execution_count": null,
      "metadata": {
        "scrolled": true
      }
    },
    {
      "cell_type": "code",
      "source": [
        "generate_horizontal_bar_chart(android_version_dicts, top_labels, 'Android Versions')"
      ],
      "outputs": [],
      "execution_count": null,
      "metadata": {
        "scrolled": true
      }
    },
    {
      "cell_type": "code",
      "source": [
        "generate_horizontal_bar_chart(genre_dicts, top_labels, 'Genre')"
      ],
      "outputs": [],
      "execution_count": null,
      "metadata": {
        "scrolled": true
      }
    },
    {
      "cell_type": "code",
      "source": [
        "generate_pie_chart_dropdown(has_whats_new_dicts, top_labels, 'Has Whats New')"
      ],
      "outputs": [],
      "execution_count": null,
      "metadata": {
        "scrolled": true
      }
    },
    {
      "cell_type": "code",
      "source": [
        "has_whats_new_week = pd.DataFrame()\n",
        "for label, d in zip(top_labels, has_whats_new_dicts):\n",
        "    d['top'] = label\n",
        "    total = d[True] + d[False]\n",
        "    d['percentage_true'] = (d[True]/total)*100\n",
        "    d['percentage_false'] = (d[False]/total)*100\n",
        "    \n",
        "    has_whats_new_week = has_whats_new_week.append(d, ignore_index=True)\n",
        "    \n",
        "has_whats_new_week"
      ],
      "outputs": [],
      "execution_count": null,
      "metadata": {}
    },
    {
      "cell_type": "markdown",
      "source": [
        "### Numerical variables"
      ],
      "metadata": {}
    },
    {
      "cell_type": "code",
      "source": [
        "numeric_data_top = pd.DataFrame(data_top)\n",
        "numeric_data_top = numeric_data_top.sort_values(by=['variable', 'group'])\n",
        "numeric_data_top"
      ],
      "outputs": [],
      "execution_count": null,
      "metadata": {
        "scrolled": true
      }
    },
    {
      "cell_type": "markdown",
      "source": [
        "### Len name"
      ],
      "metadata": {}
    },
    {
      "cell_type": "code",
      "source": [
        "plot_boxplot_horizontal_gray(only_vars, 'len_name', 'top', 2)\n",
        "top_pvalues = generate_pval_dataframe(list(groups_top.groups.keys()), only_vars, 'top', 'len_name')\n",
        "top_pvalues"
      ],
      "outputs": [],
      "execution_count": null,
      "metadata": {
        "scrolled": true
      }
    },
    {
      "cell_type": "code",
      "source": [
        "d = generate_dict(top_pvalues['size'].to_list())\n",
        "pp.pprint(d)"
      ],
      "outputs": [],
      "execution_count": null,
      "metadata": {}
    },
    {
      "cell_type": "markdown",
      "source": [
        "### Len summary"
      ],
      "metadata": {}
    },
    {
      "cell_type": "code",
      "source": [
        "plot_boxplot_horizontal_gray(only_vars, 'len_summary', 'top', 2)\n",
        "top_pvalues = generate_pval_dataframe(list(groups_top.groups.keys()), only_vars, 'top', 'len_summary')\n",
        "top_pvalues"
      ],
      "outputs": [],
      "execution_count": null,
      "metadata": {
        "scrolled": true
      }
    },
    {
      "cell_type": "code",
      "source": [
        "d = generate_dict(top_pvalues['size'].to_list())\n",
        "pp.pprint(d)"
      ],
      "outputs": [],
      "execution_count": null,
      "metadata": {}
    },
    {
      "cell_type": "markdown",
      "source": [
        "### Len description"
      ],
      "metadata": {}
    },
    {
      "cell_type": "code",
      "source": [
        "plot_boxplot_horizontal_gray(only_vars, 'len_description', 'top', 2)\n",
        "top_pvalues = generate_pval_dataframe(list(groups_top.groups.keys()), only_vars, 'top', 'len_description')\n",
        "top_pvalues"
      ],
      "outputs": [],
      "execution_count": null,
      "metadata": {
        "scrolled": true
      }
    },
    {
      "cell_type": "code",
      "source": [
        "d = generate_dict(top_pvalues['size'].to_list())\n",
        "pp.pprint(d)"
      ],
      "outputs": [],
      "execution_count": null,
      "metadata": {}
    },
    {
      "cell_type": "markdown",
      "source": [
        "### Rating"
      ],
      "metadata": {}
    },
    {
      "cell_type": "code",
      "source": [
        "plot_boxplot_horizontal_gray(only_vars, 'rating', 'top', 2)\n",
        "top_pvalues = generate_pval_dataframe(list(groups_top.groups.keys()), only_vars, 'top', 'rating')\n",
        "top_pvalues"
      ],
      "outputs": [],
      "execution_count": null,
      "metadata": {
        "scrolled": true
      }
    },
    {
      "cell_type": "code",
      "source": [
        "d = generate_dict(top_pvalues['size'].to_list())\n",
        "pp.pprint(d)"
      ],
      "outputs": [],
      "execution_count": null,
      "metadata": {}
    },
    {
      "cell_type": "markdown",
      "source": [
        "### Rating 1"
      ],
      "metadata": {}
    },
    {
      "cell_type": "code",
      "source": [
        "plot_boxplot_horizontal_gray(only_vars, 'rating_1', 'top', 2)\n",
        "top_pvalues = generate_pval_dataframe(list(groups_top.groups.keys()), only_vars, 'top', 'rating_1')\n",
        "top_pvalues"
      ],
      "outputs": [],
      "execution_count": null,
      "metadata": {
        "scrolled": true
      }
    },
    {
      "cell_type": "code",
      "source": [
        "d = generate_dict(top_pvalues['size'].to_list())\n",
        "pp.pprint(d)"
      ],
      "outputs": [],
      "execution_count": null,
      "metadata": {}
    },
    {
      "cell_type": "markdown",
      "source": [
        "### Rating 2 "
      ],
      "metadata": {}
    },
    {
      "cell_type": "code",
      "source": [
        "plot_boxplot_horizontal_gray(only_vars, 'rating_2', 'top', 2)\n",
        "top_pvalues = generate_pval_dataframe(list(groups_top.groups.keys()), only_vars, 'top', 'rating_2')\n",
        "top_pvalues"
      ],
      "outputs": [],
      "execution_count": null,
      "metadata": {
        "scrolled": true
      }
    },
    {
      "cell_type": "code",
      "source": [
        "d = generate_dict(top_pvalues['size'].to_list())\n",
        "pp.pprint(d)"
      ],
      "outputs": [],
      "execution_count": null,
      "metadata": {}
    },
    {
      "cell_type": "markdown",
      "source": [
        "### Rating 3"
      ],
      "metadata": {}
    },
    {
      "cell_type": "code",
      "source": [
        "plot_boxplot_horizontal_gray(only_vars, 'rating_3', 'top', 2)\n",
        "top_pvalues = generate_pval_dataframe(list(groups_top.groups.keys()), only_vars, 'top', 'rating_3')\n",
        "top_pvalues"
      ],
      "outputs": [],
      "execution_count": null,
      "metadata": {
        "scrolled": true
      }
    },
    {
      "cell_type": "code",
      "source": [
        "d = generate_dict(top_pvalues['size'].to_list())\n",
        "pp.pprint(d)"
      ],
      "outputs": [],
      "execution_count": null,
      "metadata": {}
    },
    {
      "cell_type": "markdown",
      "source": [
        "### Rating 4"
      ],
      "metadata": {}
    },
    {
      "cell_type": "code",
      "source": [
        "plot_boxplot_horizontal_gray(only_vars, 'rating_4', 'top', 2)\n",
        "top_pvalues = generate_pval_dataframe(list(groups_top.groups.keys()), only_vars, 'top', 'rating_4')\n",
        "top_pvalues"
      ],
      "outputs": [],
      "execution_count": null,
      "metadata": {
        "scrolled": true
      }
    },
    {
      "cell_type": "code",
      "source": [
        "d = generate_dict(top_pvalues['size'].to_list())\n",
        "pp.pprint(d)"
      ],
      "outputs": [],
      "execution_count": null,
      "metadata": {}
    },
    {
      "cell_type": "markdown",
      "source": [
        "### Rating 5"
      ],
      "metadata": {}
    },
    {
      "cell_type": "code",
      "source": [
        "plot_boxplot_horizontal_gray(only_vars, 'rating_5', 'top', 2)\n",
        "top_pvalues = generate_pval_dataframe(list(groups_top.groups.keys()), only_vars, 'top', 'rating_5')\n",
        "top_pvalues"
      ],
      "outputs": [],
      "execution_count": null,
      "metadata": {
        "scrolled": true
      }
    },
    {
      "cell_type": "code",
      "source": [
        "d = generate_dict(top_pvalues['size'].to_list())\n",
        "pp.pprint(d)"
      ],
      "outputs": [],
      "execution_count": null,
      "metadata": {}
    },
    {
      "cell_type": "markdown",
      "source": [
        "### Last update days"
      ],
      "metadata": {}
    },
    {
      "cell_type": "code",
      "source": [
        "plot_boxplot_horizontal_gray(only_vars, 'last_update_days', 'top', 2)\n",
        "top_pvalues = generate_pval_dataframe(list(groups_top.groups.keys()), only_vars, 'top', 'last_update_days')\n",
        "top_pvalues"
      ],
      "outputs": [],
      "execution_count": null,
      "metadata": {
        "scrolled": true
      }
    },
    {
      "cell_type": "code",
      "source": [
        "d = generate_dict(top_pvalues['size'].to_list())\n",
        "pp.pprint(d)"
      ],
      "outputs": [],
      "execution_count": null,
      "metadata": {}
    },
    {
      "cell_type": "markdown",
      "source": [
        "### Price USD"
      ],
      "metadata": {}
    },
    {
      "cell_type": "code",
      "source": [
        "plot_boxplot_horizontal_gray(only_vars, 'price_usd', 'top', 2)\n",
        "top_pvalues = generate_pval_dataframe(list(groups_top.groups.keys()), only_vars, 'top', 'price_usd')\n",
        "top_pvalues"
      ],
      "outputs": [],
      "execution_count": null,
      "metadata": {
        "scrolled": true
      }
    },
    {
      "cell_type": "code",
      "source": [
        "d = generate_dict(top_pvalues['size'].to_list())\n",
        "pp.pprint(d)"
      ],
      "outputs": [],
      "execution_count": null,
      "metadata": {}
    },
    {
      "cell_type": "markdown",
      "source": [
        "### Num installs"
      ],
      "metadata": {}
    },
    {
      "cell_type": "code",
      "source": [
        "plot_boxplot_horizontal_gray(only_vars, 'num_installs_num', 'top', 2)\n",
        "top_pvalues = generate_pval_dataframe(list(groups_top.groups.keys()), only_vars, 'top', 'num_installs_num')\n",
        "top_pvalues"
      ],
      "outputs": [],
      "execution_count": null,
      "metadata": {
        "scrolled": true
      }
    },
    {
      "cell_type": "code",
      "source": [
        "d = generate_dict(top_pvalues['size'].to_list())\n",
        "pp.pprint(d)"
      ],
      "outputs": [],
      "execution_count": null,
      "metadata": {}
    },
    {
      "cell_type": "markdown",
      "source": [
        "## Grouped by category"
      ],
      "metadata": {}
    },
    {
      "cell_type": "markdown",
      "source": [
        "### Categorical variables"
      ],
      "metadata": {}
    },
    {
      "cell_type": "code",
      "source": [
        "# Make a copy of original only vars\n",
        "only_vars = only_vars_original.copy()"
      ],
      "outputs": [],
      "execution_count": null,
      "metadata": {}
    },
    {
      "cell_type": "code",
      "source": [
        "# Exclude editor choice and general because they are not categories\n",
        "only_vars = only_vars[~only_vars['category'].isin(['editorChoice', 'general'])]"
      ],
      "outputs": [],
      "execution_count": null,
      "metadata": {}
    },
    {
      "cell_type": "code",
      "source": [
        "# Exclude categories, imputed\n",
        "only_vars = only_vars[only_vars['delete']==0]"
      ],
      "outputs": [],
      "execution_count": null,
      "metadata": {}
    },
    {
      "cell_type": "code",
      "source": [
        "groups_category = only_vars.groupby(['category'])\n",
        "categorical_variables = ['content_rating', 'android_version']\n",
        "\n",
        "data_category = {\n",
        "    'variable': [],\n",
        "    'group': [],\n",
        "    'weighted_mean': [],\n",
        "    'mean': [],\n",
        "    'min': [],\n",
        "    'q1': [],\n",
        "    'median': [],\n",
        "    'q3': [],\n",
        "    'max': []\n",
        "}\n",
        "\n",
        "content_rating_dicts = []\n",
        "android_version_dicts = []\n",
        "has_whats_new_dicts = []\n",
        "category_labels = []\n",
        "    \n",
        "# Iterate over top groups to plot variables and get stats\n",
        "for key in groups_category.groups.keys():\n",
        "    df = groups_category.get_group(key)\n",
        "    # Generate a weight column for each group\n",
        "    df = generate_weight_column(df, key)\n",
        "    \n",
        "    category_labels.append(key)\n",
        "    content_rating_dicts.append(generate_dict(df['content_rating'].to_list()))\n",
        "    android_version_dicts.append(generate_dict(df['android_version'].to_list()))\n",
        "    has_whats_new_dicts.append(generate_dict(df['has_whats_new'].to_list()))\n",
        "    \n",
        "    for nv in numeric_variables:\n",
        "        get_stats(nv, data_category, df, f'weight_{key}', key)"
      ],
      "outputs": [],
      "execution_count": null,
      "metadata": {}
    },
    {
      "cell_type": "code",
      "source": [
        "generate_horizontal_bar_chart(content_rating_dicts, category_labels, 'Content Rating')"
      ],
      "outputs": [],
      "execution_count": null,
      "metadata": {}
    },
    {
      "cell_type": "code",
      "source": [
        "generate_horizontal_bar_chart(android_version_dicts, category_labels, 'Android Versions')"
      ],
      "outputs": [],
      "execution_count": null,
      "metadata": {}
    },
    {
      "cell_type": "code",
      "source": [
        "generate_pie_chart_dropdown(has_whats_new_dicts, category_labels, 'Has Whats New')"
      ],
      "outputs": [],
      "execution_count": null,
      "metadata": {}
    },
    {
      "cell_type": "code",
      "source": [
        "has_whats_new_week = pd.DataFrame()\n",
        "for label, d in zip(category_labels, has_whats_new_dicts):\n",
        "    d['week'] = label\n",
        "    total = d[True] + d[False]\n",
        "    d['percentage_true'] = (d[True]/total)*100\n",
        "    d['percentage_false'] = (d[False]/total)*100\n",
        "    \n",
        "    has_whats_new_week = has_whats_new_week.append(d, ignore_index=True)\n",
        "    \n",
        "has_whats_new_week"
      ],
      "outputs": [],
      "execution_count": null,
      "metadata": {
        "scrolled": true
      }
    },
    {
      "cell_type": "markdown",
      "source": [
        "### Numerical variables"
      ],
      "metadata": {}
    },
    {
      "cell_type": "code",
      "source": [
        "numeric_data_category = pd.DataFrame(data_category)\n",
        "numeric_data_category = numeric_data_category.sort_values(by=['variable', 'group'])\n",
        "\n",
        "print(numeric_data_category)\n",
        "\n",
        "numeric_variables = ['len_id', 'len_name', 'len_summary', 'len_description', \n",
        "                     'rating', 'rating_1','rating_2', 'rating_3', 'rating_4', 'rating_5', \n",
        "                     'last_update_days', 'price_usd','num_installs_num']\n",
        "\n",
        "for nv in numeric_variables:\n",
        "    plot_boxplot_horizontal_gray(only_vars, nv, 'category', 2)\n",
        "    print(f'Numeric variable {nv}')\n",
        "    category_values = generate_pval_dataframe(list(groups_category.groups.keys()), only_vars, 'category', nv)\n",
        "    pp.pprint(category_values)\n",
        "    d = generate_dict(category_values['size'].to_list())\n",
        "    pp.pprint(d)"
      ],
      "outputs": [],
      "execution_count": null,
      "metadata": {
        "scrolled": true
      }
    },
    {
      "cell_type": "markdown",
      "source": [
        "## Grouped by country-top"
      ],
      "metadata": {}
    },
    {
      "cell_type": "markdown",
      "source": [
        "### Categorical variables"
      ],
      "metadata": {}
    },
    {
      "cell_type": "code",
      "source": [
        "# Make a copy of original only vars\n",
        "only_vars = only_vars_original.copy()"
      ],
      "outputs": [],
      "execution_count": null,
      "metadata": {}
    },
    {
      "cell_type": "code",
      "source": [
        "groups_top_country = only_vars.groupby(['top', 'country'])\n",
        "categorical_variables = ['content_rating', 'android_version']\n",
        "\n",
        "data_top_country = {\n",
        "    'variable': [],\n",
        "    'group': [],\n",
        "    'weighted_mean': [],\n",
        "    'mean': [],\n",
        "    'min': [],\n",
        "    'q1': [],\n",
        "    'median': [],\n",
        "    'q3': [],\n",
        "    'max': []\n",
        "}\n",
        "\n",
        "content_rating_dicts = []\n",
        "android_version_dicts = []\n",
        "has_whats_new_dicts = []\n",
        "genre_dicts = []\n",
        "top_country_labels = []\n",
        "    \n",
        "# Iterate over top-country groups to plot variables and get stats\n",
        "for key in groups_top_country.groups.keys():\n",
        "    df = groups_top_country.get_group(key)\n",
        "    \n",
        "    if key[1]=='co':\n",
        "        df = df.loc[df['delete_co']==0]\n",
        "    elif key[1]=='br':\n",
        "        df = df.loc[df['delete_br']==0]\n",
        "    elif key[1]=='de':\n",
        "        df = df.loc[df['delete_de']==0]\n",
        "    elif key[1]=='us':\n",
        "        df = df.loc[df['delete_usa']==0]\n",
        "    \n",
        "    # Generate a weight column for each group\n",
        "    df = generate_weight_column(df, key)\n",
        "    \n",
        "    top_country_labels.append(key)\n",
        "    content_rating_dicts.append(generate_dict(df['content_rating'].to_list()))\n",
        "    android_version_dicts.append(generate_dict(df['android_version'].to_list()))\n",
        "    has_whats_new_dicts.append(generate_dict(df['has_whats_new'].to_list()))\n",
        "    genre_dicts.append(generate_dict(df['genre'].to_list()))\n",
        "    \n",
        "    for nv in numeric_variables:\n",
        "        get_stats(nv, data_top_country, df, f'weight_{key}', key)"
      ],
      "outputs": [],
      "execution_count": null,
      "metadata": {
        "scrolled": true
      }
    },
    {
      "cell_type": "code",
      "source": [
        "generate_horizontal_bar_chart(content_rating_dicts, top_country_labels, 'Content Rating')"
      ],
      "outputs": [],
      "execution_count": null,
      "metadata": {
        "scrolled": true
      }
    },
    {
      "cell_type": "code",
      "source": [
        "generate_horizontal_bar_chart(android_version_dicts, top_country_labels, 'Android Versions')"
      ],
      "outputs": [],
      "execution_count": null,
      "metadata": {
        "scrolled": true
      }
    },
    {
      "cell_type": "code",
      "source": [
        "generate_horizontal_bar_chart(genre_dicts, top_country_labels, 'Genre')"
      ],
      "outputs": [],
      "execution_count": null,
      "metadata": {
        "scrolled": true
      }
    },
    {
      "cell_type": "code",
      "source": [
        "has_whats_new_week = pd.DataFrame()\n",
        "for label, d in zip(top_country_labels, has_whats_new_dicts):\n",
        "    d['top-country'] = label\n",
        "    if True in d and False in d:\n",
        "        total = d[True] + d[False]\n",
        "    else:\n",
        "        total = 0\n",
        "    d['percentage_true'] = (d[True]/total)*100 if total != 0 else 0\n",
        "    d['percentage_false'] = (d[False]/total)*100 if total != 0 else 0\n",
        "    \n",
        "    has_whats_new_week = has_whats_new_week.append(d, ignore_index=True)\n",
        "    \n",
        "has_whats_new_week"
      ],
      "outputs": [],
      "execution_count": null,
      "metadata": {
        "scrolled": false
      }
    },
    {
      "cell_type": "code",
      "source": [
        "numeric_data_top_country = pd.DataFrame(data_top_country)\n",
        "numeric_data_top_country = numeric_data_top_country.sort_values(by=['variable', 'group'])\n",
        "numeric_data_top_country"
      ],
      "outputs": [],
      "execution_count": null,
      "metadata": {
        "scrolled": true
      }
    },
    {
      "cell_type": "code",
      "source": [
        "numeric_variables = ['len_name', 'len_summary', 'len_description', \n",
        "                     'rating', 'rating_1','rating_2', 'rating_3', 'rating_4', 'rating_5', \n",
        "                     'last_update_days', 'price_usd','num_installs_num']\n",
        "    \n",
        "\n",
        "df_countries = only_vars.loc[(only_vars['delete_br']==0)&(only_vars['country']=='br')]\\\n",
        ".append(only_vars.loc[(only_vars['delete_co']==0)&(only_vars['country']=='co')])\\\n",
        ".append(only_vars.loc[(only_vars['delete_de']==0)&(only_vars['country']=='de')])\\\n",
        ".append(only_vars.loc[(only_vars['delete_usa']==0)&(only_vars['country']=='us')])"
      ],
      "outputs": [],
      "execution_count": null,
      "metadata": {}
    },
    {
      "cell_type": "markdown",
      "source": [
        "### Len name"
      ],
      "metadata": {}
    },
    {
      "cell_type": "code",
      "source": [
        "plot_boxplot_horizontal_gray(df_countries, 'len_name', 'top', 2, hue_var='country')\n",
        "top_country_pvalues = generate_pval_dataframe_two(list(groups_top_country.groups.keys()), df_countries, 'top', 'country', 'len_name')\n",
        "top_country_pvalues"
      ],
      "outputs": [],
      "execution_count": null,
      "metadata": {
        "scrolled": true
      }
    },
    {
      "cell_type": "code",
      "source": [
        "d = generate_dict(top_country_pvalues['size'].to_list())\n",
        "pp.pprint(d)"
      ],
      "outputs": [],
      "execution_count": null,
      "metadata": {}
    },
    {
      "cell_type": "markdown",
      "source": [
        "### Len summary"
      ],
      "metadata": {}
    },
    {
      "cell_type": "code",
      "source": [
        "plot_boxplot_horizontal_gray(df_countries, 'len_summary', 'top', 2, hue_var='country')\n",
        "top_country_pvalues = generate_pval_dataframe_two(list(groups_top_country.groups.keys()), df_countries, 'top', 'country', 'len_summary')\n",
        "top_country_pvalues"
      ],
      "outputs": [],
      "execution_count": null,
      "metadata": {
        "scrolled": true
      }
    },
    {
      "cell_type": "code",
      "source": [
        "d = generate_dict(top_country_pvalues['size'].to_list())\n",
        "pp.pprint(d)"
      ],
      "outputs": [],
      "execution_count": null,
      "metadata": {}
    },
    {
      "cell_type": "markdown",
      "source": [
        "### Len description"
      ],
      "metadata": {}
    },
    {
      "cell_type": "code",
      "source": [
        "plot_boxplot_horizontal_gray(df_countries, 'len_description', 'top', 2, hue_var='country')\n",
        "top_country_pvalues = generate_pval_dataframe_two(list(groups_top_country.groups.keys()), df_countries, 'top', 'country', 'len_description')\n",
        "top_country_pvalues"
      ],
      "outputs": [],
      "execution_count": null,
      "metadata": {
        "scrolled": true
      }
    },
    {
      "cell_type": "code",
      "source": [
        "d = generate_dict(top_country_pvalues['size'].to_list())\n",
        "pp.pprint(d)"
      ],
      "outputs": [],
      "execution_count": null,
      "metadata": {}
    },
    {
      "cell_type": "markdown",
      "source": [
        "### Rating"
      ],
      "metadata": {}
    },
    {
      "cell_type": "code",
      "source": [
        "plot_boxplot_horizontal_gray(df_countries, 'rating', 'top', 2, hue_var='country')\n",
        "top_country_pvalues = generate_pval_dataframe_two(list(groups_top_country.groups.keys()), df_countries, 'top', 'country', 'rating')\n",
        "top_country_pvalues"
      ],
      "outputs": [],
      "execution_count": null,
      "metadata": {
        "scrolled": true
      }
    },
    {
      "cell_type": "code",
      "source": [
        "d = generate_dict(top_country_pvalues['size'].to_list())\n",
        "pp.pprint(d)"
      ],
      "outputs": [],
      "execution_count": null,
      "metadata": {}
    },
    {
      "cell_type": "markdown",
      "source": [
        "### Rating 1"
      ],
      "metadata": {}
    },
    {
      "cell_type": "code",
      "source": [
        "plot_boxplot_horizontal_gray(df_countries, 'rating_1', 'top', 2, hue_var='country')\n",
        "top_country_pvalues = generate_pval_dataframe_two(list(groups_top_country.groups.keys()), df_countries, 'top', 'country', 'rating_1')\n",
        "top_country_pvalues"
      ],
      "outputs": [],
      "execution_count": null,
      "metadata": {
        "scrolled": true
      }
    },
    {
      "cell_type": "code",
      "source": [
        "d = generate_dict(top_country_pvalues['size'].to_list())\n",
        "pp.pprint(d)"
      ],
      "outputs": [],
      "execution_count": null,
      "metadata": {}
    },
    {
      "cell_type": "markdown",
      "source": [
        "### Rating 2"
      ],
      "metadata": {}
    },
    {
      "cell_type": "code",
      "source": [
        "plot_boxplot_horizontal_gray(df_countries, 'rating_2', 'top', 2, hue_var='country')\n",
        "top_country_pvalues = generate_pval_dataframe_two(list(groups_top_country.groups.keys()), df_countries, 'top', 'country', 'rating_2')\n",
        "top_country_pvalues"
      ],
      "outputs": [],
      "execution_count": null,
      "metadata": {
        "scrolled": true
      }
    },
    {
      "cell_type": "code",
      "source": [
        "d = generate_dict(top_country_pvalues['size'].to_list())\n",
        "pp.pprint(d)"
      ],
      "outputs": [],
      "execution_count": null,
      "metadata": {}
    },
    {
      "cell_type": "markdown",
      "source": [
        "### Rating 3"
      ],
      "metadata": {}
    },
    {
      "cell_type": "code",
      "source": [
        "plot_boxplot_horizontal_gray(df_countries, 'rating_3', 'top', 2, hue_var='country')\n",
        "top_country_pvalues = generate_pval_dataframe_two(list(groups_top_country.groups.keys()), df_countries, 'top', 'country', 'rating_3')\n",
        "top_country_pvalues"
      ],
      "outputs": [],
      "execution_count": null,
      "metadata": {
        "scrolled": true
      }
    },
    {
      "cell_type": "code",
      "source": [
        "d = generate_dict(top_country_pvalues['size'].to_list())\n",
        "pp.pprint(d)"
      ],
      "outputs": [],
      "execution_count": null,
      "metadata": {}
    },
    {
      "cell_type": "markdown",
      "source": [
        "### Rating 4"
      ],
      "metadata": {}
    },
    {
      "cell_type": "code",
      "source": [
        "plot_boxplot_horizontal_gray(df_countries, 'rating_4', 'top', 2, hue_var='country')\n",
        "top_country_pvalues = generate_pval_dataframe_two(list(groups_top_country.groups.keys()), df_countries, 'top', 'country', 'rating_4')\n",
        "top_country_pvalues"
      ],
      "outputs": [],
      "execution_count": null,
      "metadata": {
        "scrolled": true
      }
    },
    {
      "cell_type": "code",
      "source": [
        "d = generate_dict(top_country_pvalues['size'].to_list())\n",
        "pp.pprint(d)"
      ],
      "outputs": [],
      "execution_count": null,
      "metadata": {}
    },
    {
      "cell_type": "markdown",
      "source": [
        "### Rating 5"
      ],
      "metadata": {}
    },
    {
      "cell_type": "code",
      "source": [
        "plot_boxplot_horizontal_gray(df_countries, 'rating_5', 'top', 2, hue_var='country')\n",
        "top_country_pvalues = generate_pval_dataframe_two(list(groups_top_country.groups.keys()), df_countries, 'top', 'country', 'rating_5')\n",
        "top_country_pvalues"
      ],
      "outputs": [],
      "execution_count": null,
      "metadata": {
        "scrolled": true
      }
    },
    {
      "cell_type": "code",
      "source": [
        "d = generate_dict(top_country_pvalues['size'].to_list())\n",
        "pp.pprint(d)"
      ],
      "outputs": [],
      "execution_count": null,
      "metadata": {}
    },
    {
      "cell_type": "markdown",
      "source": [
        "### Last update days"
      ],
      "metadata": {}
    },
    {
      "cell_type": "code",
      "source": [
        "plot_boxplot_horizontal_gray(df_countries, 'last_update_days', 'top', 2, hue_var='country')\n",
        "top_country_pvalues = generate_pval_dataframe_two(list(groups_top_country.groups.keys()), df_countries, 'top', 'country', 'last_update_days')\n",
        "top_country_pvalues"
      ],
      "outputs": [],
      "execution_count": null,
      "metadata": {
        "scrolled": true
      }
    },
    {
      "cell_type": "code",
      "source": [
        "d = generate_dict(top_country_pvalues['size'].to_list())\n",
        "pp.pprint(d)"
      ],
      "outputs": [],
      "execution_count": null,
      "metadata": {}
    },
    {
      "cell_type": "markdown",
      "source": [
        "### Price usd"
      ],
      "metadata": {}
    },
    {
      "cell_type": "code",
      "source": [
        "plot_boxplot_horizontal_gray(df_countries, 'price_usd', 'top', 2, hue_var='country')\n",
        "#top_country_pvalues = generate_pval_dataframe_two(list(groups_top_country.groups.keys()), df_countries, 'top', 'country', 'price_usd')\n",
        "#top_country_pvalues"
      ],
      "outputs": [],
      "execution_count": null,
      "metadata": {
        "scrolled": true
      }
    },
    {
      "cell_type": "code",
      "source": [
        "d = generate_dict(category_values['size'].to_list())\n",
        "pp.pprint(d)"
      ],
      "outputs": [],
      "execution_count": null,
      "metadata": {}
    },
    {
      "cell_type": "markdown",
      "source": [
        "### Num installs"
      ],
      "metadata": {}
    },
    {
      "cell_type": "code",
      "source": [
        "plot_boxplot_horizontal_gray(df_countries, 'num_installs_num', 'top', 2, hue_var='country')\n",
        "top_country_pvalues = generate_pval_dataframe_two(list(groups_top_country.groups.keys()), df_countries, 'top', 'country', 'num_installs_num')\n",
        "top_country_pvalues"
      ],
      "outputs": [],
      "execution_count": null,
      "metadata": {
        "scrolled": true
      }
    },
    {
      "cell_type": "code",
      "source": [
        "d = generate_dict(top_country_pvalues['size'].to_list())\n",
        "pp.pprint(d)"
      ],
      "outputs": [],
      "execution_count": null,
      "metadata": {}
    }
  ],
  "metadata": {
    "kernelspec": {
      "display_name": "Python 3",
      "language": "python",
      "name": "python3"
    },
    "language_info": {
      "codemirror_mode": {
        "name": "ipython",
        "version": 3
      },
      "file_extension": ".py",
      "mimetype": "text/x-python",
      "name": "python",
      "nbconvert_exporter": "python",
      "pygments_lexer": "ipython3",
      "version": "3.7.4"
    },
    "nteract": {
      "version": "0.27.0"
    }
  },
  "nbformat": 4,
  "nbformat_minor": 4
}