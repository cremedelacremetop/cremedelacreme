{
  "cells": [
    {
      "cell_type": "markdown",
      "source": [
        "# General EDA "
      ],
      "metadata": {}
    },
    {
      "cell_type": "code",
      "source": [
        "# Imports\n",
        "%matplotlib inline\n",
        "from ast import literal_eval\n",
        "from collections import OrderedDict\n",
        "from scipy.stats import zscore\n",
        "from typing import List\n",
        "import csv\n",
        "import datetime\n",
        "import math\n",
        "import matplotlib.pyplot as plt\n",
        "import plotly\n",
        "import plotly.graph_objs as go\n",
        "import numpy as np\n",
        "import pandas as pd\n",
        "import pymongo\n",
        "import robustats\n",
        "import seaborn as sns\n",
        "import wquantiles as wq\n",
        "import pprint\n",
        "from scipy.stats import chi2, mstats, mannwhitneyu, kruskal, chi2_contingency\n",
        "from statsmodels.stats.multitest import multipletests\n",
        "from cliffsDelta import cliffsDelta\n",
        "from matplotlib.patches import PathPatch\n",
        "pp = pprint.PrettyPrinter(indent=4)\n",
        "\n",
        "# Jupyter configurations for displaying more columns and rows\n",
        "pd.options.display.max_columns = 20002\n",
        "pd.options.display.max_columns = 10000\n",
        "pd.set_option('display.max_columns', None)  # or 1000\n",
        "pd.set_option('display.max_rows', None)  # or 1000\n",
        "pd.set_option('display.max_colwidth', -1)  # or 199"
      ],
      "outputs": [],
      "execution_count": null,
      "metadata": {}
    },
    {
      "cell_type": "code",
      "source": [
        "# Set palette\n",
        "seq_col_brew = sns.color_palette(\"Greys_r\", 5)\n",
        "sns.set_palette(seq_col_brew)\n",
        "seq_col_brew"
      ],
      "outputs": [],
      "execution_count": null,
      "metadata": {}
    },
    {
      "cell_type": "code",
      "source": [
        "# Data gathering You have to read the csv that correspond to the apps collection\n",
        "all_apps = pd.read_csv(\n",
        "   'all_apps.csv', delimiter='|', encoding='utf-8', engine= 'python',converters={'_id':str})"
      ],
      "outputs": [],
      "execution_count": null,
      "metadata": {}
    },
    {
      "cell_type": "code",
      "source": [
        "# Remove all not necessary columns - _Id from monodb and fake index\n",
        "index_mongo = all_apps['_id']\n",
        "del all_apps['_id']\n",
        "del all_apps['Unnamed: 0']"
      ],
      "outputs": [],
      "execution_count": null,
      "metadata": {}
    },
    {
      "cell_type": "code",
      "source": [
        "all_apps.head(3)"
      ],
      "outputs": [],
      "execution_count": null,
      "metadata": {
        "scrolled": true
      }
    },
    {
      "cell_type": "code",
      "source": [
        "# Original types\n",
        "all_apps.dtypes"
      ],
      "outputs": [],
      "execution_count": null,
      "metadata": {
        "scrolled": true
      }
    },
    {
      "cell_type": "code",
      "source": [
        "# Transform variables to date\n",
        "vars_dates = ['retrieved_date_start','retrieved_date_end', 'last_update', 'last_update_fixed']\n",
        "for var in vars_dates:\n",
        "    all_apps[var] = pd.to_datetime(all_apps[var])"
      ],
      "outputs": [],
      "execution_count": null,
      "metadata": {}
    },
    {
      "cell_type": "code",
      "source": [
        "# Transformed types\n",
        "all_apps.dtypes"
      ],
      "outputs": [],
      "execution_count": null,
      "metadata": {
        "scrolled": true
      }
    },
    {
      "cell_type": "markdown",
      "source": [
        "# General description of numeric and categorical variables"
      ],
      "metadata": {}
    },
    {
      "cell_type": "code",
      "source": [
        "# Describe length of rows and columns\n",
        "all_apps.shape"
      ],
      "outputs": [],
      "execution_count": null,
      "metadata": {}
    },
    {
      "cell_type": "code",
      "source": [
        "# Describe numerical variables for all the dataset\n",
        "all_apps.describe()"
      ],
      "outputs": [],
      "execution_count": null,
      "metadata": {}
    },
    {
      "cell_type": "code",
      "source": [
        "# Describe categorical variables\n",
        "all_apps.describe(include=['object','datetime', 'bool'])"
      ],
      "outputs": [],
      "execution_count": null,
      "metadata": {
        "scrolled": true
      }
    },
    {
      "cell_type": "code",
      "source": [
        "# Nan or missing values for all dataset\n",
        "missing_data = all_apps.isnull()\n",
        "total = missing_data.sum().sort_values(ascending=False)\n",
        "percent = (missing_data.sum()/missing_data.count()).sort_values(ascending=False)\n",
        "summary_missing_data = pd.concat([total, percent], axis=1, keys=['Total', 'Missing Percent'])\n",
        "summary_missing_data['Missing Percent'] = summary_missing_data['Missing Percent'].apply(lambda x: x * 100)\n",
        "summary_missing_data"
      ],
      "outputs": [],
      "execution_count": null,
      "metadata": {
        "scrolled": true
      }
    },
    {
      "cell_type": "markdown",
      "source": [
        "## Different types of values per categorical variables"
      ],
      "metadata": {}
    },
    {
      "cell_type": "code",
      "source": [
        "def get_number_values_categorical_values(df, column_name:str, high:List[str],low:List[str]):\n",
        "    print(\"-/-\"*5)\n",
        "    print(f\"Column: {column_name}\")\n",
        "    \n",
        "    try:\n",
        "        column = df[column_name]\n",
        "        number_values = column.nunique()\n",
        "\n",
        "    except:\n",
        "        #This catch is useful when genre is list type\n",
        "        column = df[column_name].astype(str)\n",
        "        number_values = column.nunique()\n",
        "        \n",
        "    print(f\"Number of different values {number_values}\")\n",
        "    \n",
        "    if number_values < 100 and \"retrieved\" not in column_name:\n",
        "        print(\"\\n\")\n",
        "        print(\"Values:\")\n",
        "        print(f\"{column.unique()}\")\n",
        "        print(\"\\n\")\n",
        "        \n",
        "        low.append(column_name)\n",
        "    else:\n",
        "        high.append(column_name)\n",
        "    print(\"-/-\"*5)\n",
        "\n",
        "high_cardinality = []\n",
        "low_cardinality = []\n",
        "columns_categorical = all_apps.select_dtypes(include=['object','datetime', 'bool']).columns\n",
        "\n",
        "for column in columns_categorical:\n",
        "    get_number_values_categorical_values(all_apps,column,high_cardinality,low_cardinality)\n",
        "\n",
        "print(len(high_cardinality), len(low_cardinality))"
      ],
      "outputs": [],
      "execution_count": null,
      "metadata": {}
    },
    {
      "cell_type": "markdown",
      "source": [
        "# Subset of selected variables"
      ],
      "metadata": {}
    },
    {
      "cell_type": "code",
      "source": [
        "# Length of name, summary and description\n",
        "all_apps['len_name'] = all_apps['name'].str.len()\n",
        "all_apps['len_summary'] = all_apps['summary'].str.len()\n",
        "all_apps['len_description'] = all_apps['description'].str.len()\n",
        "\n",
        "# Transform num installs from string to number\n",
        "fixed_num = all_apps[['fixed_num_installs']]\n",
        "fixed_num['fixed_num_installs_num'] = fixed_num['fixed_num_installs'].str.replace(',','')\n",
        "fixed_num['fixed_num_installs_num'] = fixed_num['fixed_num_installs_num'].str.replace('+','')\n",
        "fixed_num['fixed_num_installs_num'] = pd.to_numeric(fixed_num['fixed_num_installs_num'])\n",
        "\n",
        "all_apps['fixed_num_installs_num'] = fixed_num['fixed_num_installs_num']\n",
        "\n",
        "only_vars = all_apps[['id', 'len_name', 'len_summary', 'len_description', \n",
        "                      'last_update_fixed', 'content_rating', 'rating', 'rating_1','rating_2', \n",
        "                      'rating_3', 'rating_4', 'rating_5', 'fixed_num_installs', \n",
        "                      'fixed_num_installs_num', 'has_whats_new', 'last_update_days_fixed', \n",
        "                      'macro_android_version', 'num_week', 'price', 'price_usd', 'unified_genre', \n",
        "                      'clean_category', 'top', 'country']]\n",
        "\n",
        "only_vars.head(5)"
      ],
      "outputs": [],
      "execution_count": null,
      "metadata": {
        "scrolled": true
      }
    },
    {
      "cell_type": "markdown",
      "source": [
        "## Subset description of numeric and categorical variables"
      ],
      "metadata": {}
    },
    {
      "cell_type": "code",
      "source": [
        "# Describe length of rows and columns\n",
        "only_vars.shape"
      ],
      "outputs": [],
      "execution_count": null,
      "metadata": {}
    },
    {
      "cell_type": "code",
      "source": [
        "# Describe numerical variables\n",
        "only_vars.describe()"
      ],
      "outputs": [],
      "execution_count": null,
      "metadata": {}
    },
    {
      "cell_type": "code",
      "source": [
        "# Describe categorical variables\n",
        "only_vars.describe(include=['object','datetime', 'bool'])"
      ],
      "outputs": [],
      "execution_count": null,
      "metadata": {}
    },
    {
      "cell_type": "code",
      "source": [
        "# Nan or missing values for subset\n",
        "missing_data = only_vars.isnull()\n",
        "total = missing_data.sum().sort_values(ascending=False)\n",
        "percent = (missing_data.sum()/missing_data.count()).sort_values(ascending=False)\n",
        "summary_missing_data = pd.concat([total, percent], axis=1, keys=['Total', 'Missing Percent'])\n",
        "summary_missing_data['Missing Percent'] = summary_missing_data['Missing Percent'].apply(lambda x: x * 100)\n",
        "summary_missing_data"
      ],
      "outputs": [],
      "execution_count": null,
      "metadata": {
        "scrolled": true
      }
    },
    {
      "cell_type": "markdown",
      "source": [
        "### Functions"
      ],
      "metadata": {}
    },
    {
      "cell_type": "markdown",
      "source": [
        "#### Fo adding weighted column"
      ],
      "metadata": {}
    },
    {
      "cell_type": "code",
      "source": [
        "def generate_weight_dict(df: pd.DataFrame) -> dict:\n",
        "    weight = df['id'].to_list()\n",
        "    w_dict = {}\n",
        "\n",
        "    for w in weight:\n",
        "        if w in w_dict:\n",
        "            w_dict[w] += 1\n",
        "        else:\n",
        "            w_dict[w] = 1\n",
        "\n",
        "    return w_dict\n",
        "\n",
        "# Add weight column to compute weighted mean\n",
        "def generate_weight_column(df: pd.DataFrame, parameter: str) -> pd.DataFrame:\n",
        "    w_dict = generate_weight_dict(df)\n",
        "    w_name = f'weight_{parameter}'\n",
        "    amount_name = f'amount_apps_{parameter}'\n",
        "    df[w_name] = df['id'].apply(lambda idx: 1/w_dict[idx])\n",
        "    df[amount_name] = df['id'].apply(lambda idx: w_dict[idx])\n",
        "    \n",
        "    return df"
      ],
      "outputs": [],
      "execution_count": null,
      "metadata": {}
    },
    {
      "cell_type": "markdown",
      "source": [
        "#### Plotting categorical variables"
      ],
      "metadata": {}
    },
    {
      "cell_type": "code",
      "source": [
        "# Generate dict for categorical values\n",
        "def generate_dict(values_list: list) -> dict:\n",
        "    final_dict = {}\n",
        "    for value in values_list:\n",
        "        if value in final_dict:\n",
        "            final_dict[value] += 1\n",
        "        else:\n",
        "            final_dict[value] = 1\n",
        "    \n",
        "    return final_dict\n",
        "\n",
        "def generate_graph(values_dict: dict, feature: str):\n",
        "    plt.rcdefaults()\n",
        "    fig, ax = plt.subplots()\n",
        "\n",
        "    values_dict = OrderedDict(sorted(values_dict.items(), key=lambda x: x[1], reverse=True))\n",
        "\n",
        "    values_dict_keys = values_dict.keys()\n",
        "    y_pos = np.arange(len(values_dict_keys))\n",
        "    values_dict_values = values_dict.values()\n",
        "\n",
        "    ax.barh(y_pos, values_dict_values, align='center', color=(0.2, 0.2, 0.2, 0.5))\n",
        "    ax.set_yticks(y_pos)\n",
        "    ax.set_yticklabels(values_dict_keys)\n",
        "    ax.invert_yaxis() \n",
        "    ax.set_xlabel(feature.title())\n",
        "    ax.set_title(f'{feature.title()} Distribution')\n",
        "    \n",
        "def generate_pie_chart(variable_dict: dict, feature: str):\n",
        "    fig1, ax1 = plt.subplots()\n",
        "    patches, texts, autotexts = ax1.pie(variable_dict.values(), labels=variable_dict.keys(), autopct='%1.1f%%',\n",
        "            shadow=True, startangle=90, colors=['#bebebe','#606060'])\n",
        "    for autotext in autotexts:\n",
        "        autotext.set_color('black')\n",
        "    centre_circle = plt.Circle((0,0),0.70,fc='white')\n",
        "    fig = plt.gcf()\n",
        "    fig.gca().add_artist(centre_circle)\n",
        "\n",
        "    plt.tight_layout()    \n",
        "    ax1.axis('equal')\n",
        "    ax1.set_title(f'{feature.title()} Distribution')\n",
        "    plt.show()\n",
        "    \n",
        "def generate_horizontal_bar_chart(list_dicts: List[dict], list_labels: list, variable: str):\n",
        "    fig = go.Figure()\n",
        "    buttons = []\n",
        "    buttons.append(dict(\n",
        "        args=[{\"visible\": [True]*len(list_labels)}],\n",
        "        label='All',\n",
        "        method='update'\n",
        "    ))\n",
        "\n",
        "    for idx, (dict_num, label) in enumerate(zip(list_dicts, list_labels)):\n",
        "        dict_current = OrderedDict(sorted(dict_num.items(), key=lambda x: x[1], reverse=True))\n",
        "        visible = [False]*len(list_labels)\n",
        "        visible[idx]=True\n",
        "\n",
        "        fig.add_trace(\n",
        "            go.Bar(\n",
        "                x=list(dict_current.values()),\n",
        "                y=list(dict_current.keys()),\n",
        "                name=str(label),\n",
        "                orientation='h'\n",
        "            )\n",
        "        )\n",
        "\n",
        "        buttons.append(dict(\n",
        "            args=[{\"visible\": visible}],\n",
        "            label=str(label),\n",
        "            method='update'\n",
        "        ))\n",
        "\n",
        "    \n",
        "\n",
        "    # Add dropdown\n",
        "    fig.update_layout(\n",
        "        title=variable,\n",
        "        updatemenus=[\n",
        "            dict(\n",
        "                buttons=list(buttons),\n",
        "                direction=\"down\",\n",
        "                pad={\"r\": 10, \"t\": 10},\n",
        "                showactive=True,\n",
        "                x=0.1,\n",
        "                xanchor=\"left\",\n",
        "                y=1.1,\n",
        "                yanchor=\"top\"\n",
        "            ),\n",
        "        ]\n",
        "    )\n",
        "    plotly.offline.plot(fig, filename= f'{variable}-rq1.html', auto_open=False)\n",
        "    fig.show()\n",
        "    \n",
        "def generate_pie_chart_dropdown(list_dicts: List[dict], list_labels: list, variable: str):\n",
        "    fig = go.Figure()\n",
        "    buttons = []\n",
        "\n",
        "    for idx, (dict_num, label) in enumerate(zip(list_dicts, list_labels)):\n",
        "        dict_current = OrderedDict(sorted(dict_num.items(), key=lambda x: x[1], reverse=True))\n",
        "        visible = [False]*len(list_labels)\n",
        "        visible[idx]=True\n",
        "\n",
        "        fig.add_trace(\n",
        "            go.Pie(\n",
        "                values=list(dict_current.values()),\n",
        "                labels=list(dict_current.keys()),\n",
        "                name=label\n",
        "            )\n",
        "        )\n",
        "\n",
        "        buttons.append(dict(\n",
        "            args=[{\"visible\": visible}],\n",
        "            label=label,\n",
        "            method='update'\n",
        "        ))\n",
        "\n",
        "    # Add dropdown\n",
        "    fig.update_layout(\n",
        "        title=variable,\n",
        "        updatemenus=[\n",
        "            dict(\n",
        "                buttons=list(buttons),\n",
        "                direction=\"down\",\n",
        "                pad={\"r\": 10, \"t\": 10},\n",
        "                showactive=True,\n",
        "                x=0.1,\n",
        "                xanchor=\"left\",\n",
        "                y=1.1,\n",
        "                yanchor=\"top\"\n",
        "            ),\n",
        "        ]\n",
        "    )\n",
        "    \n",
        "    plotly.offline.plot(fig, filename= f'{variable}-rq1.html', auto_open=False)\n",
        "    fig.show()"
      ],
      "outputs": [],
      "execution_count": null,
      "metadata": {}
    },
    {
      "cell_type": "markdown",
      "source": [
        "#### To get numerical variables stats"
      ],
      "metadata": {}
    },
    {
      "cell_type": "code",
      "source": [
        "def get_stats(variable: str, data: dict, df_big: pd.DataFrame, weight_name: str, group: str):\n",
        "    df_variable = df_big[[variable, weight_name]]\n",
        "    df_variable = df_variable.dropna()\n",
        "    w_mean = (df_variable[variable]*df_variable[weight_name]).sum()/df_variable[weight_name].sum() if df_variable[weight_name].sum() > 0 else None\n",
        "    mean = df_variable[variable].mean()\n",
        "    min = df_variable[variable].min()\n",
        "    max = df_variable[variable].max()\n",
        "    median = df_variable[variable].median()\n",
        "    q1 = df_variable[variable].quantile(q=0.25)\n",
        "    q3 = df_variable[variable].quantile(q=0.75)\n",
        "\n",
        "    data['variable'].append(variable)\n",
        "    data['group'].append(group)\n",
        "    data['weighted_mean'].append(w_mean)\n",
        "    data['mean'].append(mean)\n",
        "    data['min'].append(min)\n",
        "    data['q1'].append(q1)\n",
        "    data['median'].append(median)\n",
        "    data['q3'].append(q3)\n",
        "    data['max'].append(max)"
      ],
      "outputs": [],
      "execution_count": null,
      "metadata": {}
    },
    {
      "cell_type": "markdown",
      "source": [
        "#### To plot numerical variables"
      ],
      "metadata": {}
    },
    {
      "cell_type": "code",
      "source": [
        "def plot_violin(df_big: pd.DataFrame, variable: str, x_axis: str, score: float, hue_var=''):\n",
        "    df = df_big[[variable, x_axis]]\n",
        "    df = df.dropna(subset=[variable])\n",
        "    z_scores = np.abs(zscore(df[variable]))\n",
        "    filtered_entries = np.where(z_scores < score)\n",
        "    df = df.iloc[filtered_entries]\n",
        "    plt.figure()\n",
        "    if hue_var != '':\n",
        "        sns.violinplot(x=x_axis, y=variable, hue=hue_var, data=df)\n",
        "    else:\n",
        "        sns.violinplot(x=x_axis, y=variable, data=df)\n",
        "        \n",
        "def plot_boxplot(df_big: pd.DataFrame, variable: str, x_axis: str, score: float, hue_var=''):\n",
        "    if hue_var != '':\n",
        "        df = df_big[[variable, x_axis, hue_var]]\n",
        "    else:\n",
        "        df = df_big[[variable, x_axis]]\n",
        "\n",
        "    df = df.dropna(subset=[variable])\n",
        "    z_scores = np.abs(zscore(df[variable]))\n",
        "    filtered_entries = np.where(z_scores < score)\n",
        "    df = df.iloc[filtered_entries]\n",
        "    plt.figure()\n",
        "    \n",
        "    if hue_var != '':\n",
        "        sns.boxplot(x=x_axis, y=variable, hue=hue_var, data=df, orient=\"v\")\n",
        "    else:\n",
        "        sns.boxplot(x=x_axis, y=variable, data=df, orient=\"v\")\n",
        "        \n",
        "def plot_boxplot_horizontal(df_big: pd.DataFrame, variable: str, y_axis: str, score: float, hue_var=''):\n",
        "    if hue_var != '':\n",
        "        df = df_big[[variable, variable, hue_var]]\n",
        "    else:\n",
        "        df = df_big[[variable, variable]]\n",
        "    df = df.dropna(subset=[variable])\n",
        "    z_scores = np.abs(zscore(df[variable]))\n",
        "    filtered_entries = np.where(z_scores < score)\n",
        "    df = df.iloc[filtered_entries]\n",
        "    plt.figure()\n",
        "    \n",
        "    if hue_var != '':\n",
        "        sns.boxplot(x=variable, y=y_axis, hue=hue_var, data=df, orient=\"h\")\n",
        "    else:\n",
        "        sns.boxplot(x=variable, y=y_axis, data=df, orient=\"h\")\n",
        "        \n",
        "def plot_boxplot_single(df_big: pd.DataFrame, variable: str, score: float):\n",
        "    df = df_big[[variable]]\n",
        "    df = df.dropna(subset=[variable])\n",
        "    z_scores = np.abs(zscore(df[variable]))\n",
        "    filtered_entries = np.where(z_scores < score)\n",
        "    df = df.iloc[filtered_entries]\n",
        "    plt.figure()\n",
        "    \n",
        "    sns.boxplot(y=variable, data=df) "
      ],
      "outputs": [],
      "execution_count": null,
      "metadata": {}
    },
    {
      "cell_type": "markdown",
      "source": [
        "#### To plot numerical variables in gray palette"
      ],
      "metadata": {}
    },
    {
      "cell_type": "code",
      "source": [
        "def plot_boxplot_gray(df_big: pd.DataFrame, variable: str, x_axis: str, score: float, hue_var=''):\n",
        "    \n",
        "    if hue_var != '':\n",
        "        df = df_big[[variable, x_axis, hue_var]]\n",
        "    else:\n",
        "        df = df_big[[variable, x_axis]]\n",
        "    \n",
        "    df = df.dropna(subset=[variable])\n",
        "    z_scores = np.abs(zscore(df[variable]))\n",
        "    filtered_entries = np.where(z_scores < score)\n",
        "    df = df.iloc[filtered_entries]\n",
        "    plt.figure(figsize=(16, 10))\n",
        "    sns.set_style(\"whitegrid\")\n",
        "    \n",
        "    if hue_var != '':\n",
        "        ax = sns.boxplot(x=x_axis, y=variable, hue=hue_var, data=df, orient=\"v\", palette=seq_col_brew[1:])\n",
        "    else:\n",
        "        ax = sns.boxplot(x=x_axis, y=variable, data=df, orient=\"v\", palette=seq_col_brew[1:])\n",
        "        \n",
        "\n",
        "def adjust_box_widths(g, fac):\n",
        "    \"\"\"\n",
        "    Adjust the withs of a seaborn-generated boxplot.\n",
        "    \"\"\"\n",
        "\n",
        "    # iterating through Axes instances\n",
        "    for ax in g.axes:\n",
        "\n",
        "        # iterating through axes artists:\n",
        "        for c in ax.get_children():\n",
        "\n",
        "            # searching for PathPatches\n",
        "            if isinstance(c, PathPatch):\n",
        "                # getting current width of box:\n",
        "                p = c.get_path()\n",
        "                verts = p.vertices\n",
        "                verts_sub = verts[:-1]\n",
        "                xmin = np.min(verts_sub[:, 1])\n",
        "                xmax = np.max(verts_sub[:, 1])\n",
        "                xmid = 0.5*(xmin+xmax)\n",
        "                xhalf = 0.5*(xmax - xmin)\n",
        "\n",
        "                # setting new width of box\n",
        "                xmin_new = xmid-fac*xhalf\n",
        "                xmax_new = xmid+fac*xhalf\n",
        "                verts_sub[verts_sub[:, 1] == xmin, 1] = xmin_new\n",
        "                verts_sub[verts_sub[:, 1] == xmax, 1] = xmax_new\n",
        "\n",
        "                # setting new width of median line\n",
        "                for l in ax.lines:\n",
        "                    if np.all(l.get_xdata() == [xmin, xmax]):\n",
        "                        l.set_xdata([xmin_new, xmax_new])\n",
        "        \n",
        "        \n",
        "def plot_boxplot_horizontal_gray(df_big: pd.DataFrame, variable: str, x_axis: str, score: float, hue_var=''):\n",
        "    \n",
        "    if hue_var != '':\n",
        "        df = df_big[[variable, x_axis, hue_var]]\n",
        "    else:\n",
        "        df = df_big[[variable, x_axis]]\n",
        "    df = df.dropna(subset=[variable])\n",
        "    z_scores = np.abs(zscore(df[variable]))\n",
        "    filtered_entries = np.where(z_scores < score)\n",
        "    df = df.iloc[filtered_entries]\n",
        "    fig = plt.figure(figsize=(16, 10))\n",
        "    sns.set_style(\"whitegrid\")\n",
        "    \n",
        "    if hue_var != '':\n",
        "        ax = sns.boxplot(x=variable, y=x_axis, hue=hue_var, data=df, orient=\"h\", palette=seq_col_brew[1:], width=0.4)\n",
        "        adjust_box_widths(fig, 0.8)\n",
        "    else:\n",
        "        ax = sns.boxplot(x=variable, y=x_axis, data=df, orient=\"h\", palette=seq_col_brew[1:], width=0.2)\n",
        "    \n",
        "    size=15\n",
        "    params = {'legend.fontsize': 'large',\n",
        "          'figure.figsize': (20,8),\n",
        "          'axes.labelsize': size,\n",
        "          'axes.titlesize': size,\n",
        "          'xtick.labelsize': size*0.95,\n",
        "          'ytick.labelsize': size*0.95,\n",
        "          'axes.titlepad': 25}\n",
        "    plt.rcParams.update(params)\n",
        "    \n",
        "def plot_boxplot_horizontal_gray_top(df_big: pd.DataFrame, variable: str, x_axis: str, score: float, hue_var=''):\n",
        "    \n",
        "    if hue_var != '':\n",
        "        df = df_big[[variable, x_axis, hue_var]]\n",
        "        df[hue_var]=df[hue_var].str.upper()\n",
        "        df.columns = [variable, x_axis, hue_var.title()]\n",
        "    else:\n",
        "        df = df_big[[variable, x_axis]]\n",
        "    df = df.dropna(subset=[variable])\n",
        "    z_scores = np.abs(zscore(df[variable]))\n",
        "    filtered_entries = np.where(z_scores < score)\n",
        "    df = df.iloc[filtered_entries]\n",
        "    df[x_axis]=df[x_axis].str.replace('topSelling','Top selling')\n",
        "    df[x_axis]=df[x_axis].str.replace('topFree','Top free')\n",
        "    df[x_axis]=df[x_axis].str.replace('editorChoice','Editor choice')\n",
        "    fig = plt.figure(figsize=(16, 10))\n",
        "    sns.set_style(\"whitegrid\")\n",
        "    \n",
        "    if hue_var != '':\n",
        "        ax = sns.boxplot(x=variable, y=x_axis, hue=hue_var.title(), data=df, orient=\"h\", palette=seq_col_brew[1:], width=0.4)\n",
        "        adjust_box_widths(fig, 0.8)\n",
        "        ax.set(xlabel='Days since last update', ylabel='')\n",
        "        plt.setp(ax.get_legend().get_texts(), fontsize='20')\n",
        "        plt.setp(ax.get_legend().get_title(), fontsize='20')\n",
        "    else:\n",
        "        ax = sns.boxplot(x=variable, y=x_axis, data=df, orient=\"h\", palette=seq_col_brew[1:], width=0.2)\n",
        "        ax.set(xlabel='Rating', ylabel='')\n",
        "    \n",
        "    size=20\n",
        "    params = {'legend.fontsize': 'large',\n",
        "          'figure.figsize': (20,8),\n",
        "          'axes.labelsize': size,\n",
        "          'axes.titlesize': size,\n",
        "          'xtick.labelsize': size*0.95,\n",
        "          'ytick.labelsize': size*0.95,\n",
        "          'axes.titlepad': 25}\n",
        "    plt.rcParams.update(params)\n",
        "        \n",
        "def plot_boxplot_single_gray(df_big: pd.DataFrame, variable: str, score: float):\n",
        "    df = df_big[[variable]]\n",
        "    df = df.dropna(subset=[variable])\n",
        "    z_scores = np.abs(zscore(df[variable]))\n",
        "    filtered_entries = np.where(z_scores < score)\n",
        "    df = df.iloc[filtered_entries]\n",
        "    plt.figure(figsize=(16, 10))\n",
        "    sns.set_style(\"whitegrid\")\n",
        "    \n",
        "    ax = sns.boxplot(y=variable, data=df, palette=seq_col_brew[1:])\n",
        "    for box in ax.artists:\n",
        "        box.set_facecolor(\"white\")"
      ],
      "outputs": [],
      "execution_count": null,
      "metadata": {}
    },
    {
      "cell_type": "markdown",
      "source": [
        "#### To generate possible pairs"
      ],
      "metadata": {}
    },
    {
      "cell_type": "code",
      "source": [
        "def generate_pairs(source: list) -> list:\n",
        "    result = []\n",
        "    for p1 in range(len(source)):\n",
        "        for p2 in range(p1+1,len(source)):\n",
        "            result.append([source[p1],source[p2]])\n",
        "    return result"
      ],
      "outputs": [],
      "execution_count": null,
      "metadata": {}
    },
    {
      "cell_type": "markdown",
      "source": [
        "#### To generate pvalues and cliffs delta"
      ],
      "metadata": {}
    },
    {
      "cell_type": "code",
      "source": [
        "def generate_pval_dataframe(list_keys: list, df_big: pd.DataFrame, value: str, num_variable: str) -> pd.DataFrame:\n",
        "    df = pd.DataFrame(columns=['c1', 'c2', 'pvalue', 'd', 'size'])\n",
        "    list_pairs = generate_pairs(list_keys)\n",
        "    \n",
        "    for pair in list_pairs:\n",
        "        c1 = pair[0]\n",
        "        c2 = pair[1]\n",
        "        \n",
        "        x = df_big.loc[df_big[value] == c1, num_variable].to_list()\n",
        "        y = df_big.loc[df_big[value] == c2, num_variable].to_list()\n",
        "        \n",
        "        Hmw, pval = mannwhitneyu(x, y, alternative='two-sided')\n",
        "        d, size = cliffsDelta(x, y)\n",
        "        \n",
        "        df = df.append(\n",
        "            {'c1': c1, \n",
        "             'c2': c2, \n",
        "             'pvalue': pval, \n",
        "             'd': d, \n",
        "             'size': size}, ignore_index=True)\n",
        "        \n",
        "    reject, pval_corrected, a_s, a_b = multipletests(df['pvalue'].to_list(), alpha=0.05, method='holm', is_sorted=False, returnsorted=False)\n",
        "    df['reject'] = reject\n",
        "    df['pvalue_corrected'] = pval_corrected\n",
        "    \n",
        "    return df    \n",
        "\n",
        "def generate_pval_dataframe_two(list_keys: list, df_big: pd.DataFrame, value_1: str, value_2:str, num_variable: str) -> pd.DataFrame:\n",
        "    df = pd.DataFrame(columns=['c1', 'c2', 'pvalue', 'd', 'size'])\n",
        "    list_pairs = generate_pairs(list_keys)\n",
        "    \n",
        "    for pair in list_pairs:\n",
        "        c1 = pair[0]\n",
        "        c1_1 = c1[0]\n",
        "        c1_2 = c1[1]\n",
        "        \n",
        "        c2 = pair[1]\n",
        "        c2_1 = c2[0]\n",
        "        c2_2 = c2[1]\n",
        "        \n",
        "        x = df_big.loc[(df_big[value_1] == c1_1) & (df_big[value_2] == c1_2), num_variable].to_list()\n",
        "        y = df_big.loc[(df_big[value_1] == c2_1) & (df_big[value_2] == c2_2), num_variable].to_list()\n",
        "        \n",
        "        Hmw, pval = mannwhitneyu(x, y, alternative='two-sided')\n",
        "        d, size = cliffsDelta(x, y)\n",
        "        \n",
        "        df = df.append(\n",
        "            {'c1': c1, \n",
        "             'c2': c2, \n",
        "             'pvalue': pval, \n",
        "             'd': d, \n",
        "             'size': size}, ignore_index=True)\n",
        "        \n",
        "    reject, pval_corrected, a_s, a_b = multipletests(df['pvalue'].to_list(), alpha=0.05, method='holm', is_sorted=False, returnsorted=False)\n",
        "    df['reject'] = reject\n",
        "    df['pvalue_corrected'] = pval_corrected\n",
        "    \n",
        "    return df    "
      ],
      "outputs": [],
      "execution_count": null,
      "metadata": {}
    },
    {
      "cell_type": "markdown",
      "source": [
        "# Analysis presented in the paper"
      ],
      "metadata": {}
    },
    {
      "cell_type": "code",
      "source": [
        "# Rename columns\n",
        "only_vars.columns = ['id','len_name','len_summary', 'len_description', 'last_update_date', \n",
        "                     'content_rating', 'rating', 'rating_1', 'rating_2', 'rating_3', 'rating_4', 'rating_5',\n",
        "                     'num_installs', 'num_installs_num', 'has_whats_new', 'last_update_days', 'android_version',\n",
        "                     'num_week', 'price', 'price_usd', 'genre', 'category', 'top', 'country']\n",
        "\n",
        "only_vars.head(3)"
      ],
      "outputs": [],
      "execution_count": null,
      "metadata": {}
    },
    {
      "cell_type": "code",
      "source": [
        "# Save copy of only vars \n",
        "only_vars_original = only_vars.copy()"
      ],
      "outputs": [],
      "execution_count": null,
      "metadata": {}
    },
    {
      "cell_type": "code",
      "source": [
        "# Add weight column based on app id\n",
        "only_vars = generate_weight_column(only_vars, 'general')\n",
        "only_vars.head(3)"
      ],
      "outputs": [],
      "execution_count": null,
      "metadata": {
        "scrolled": true
      }
    },
    {
      "cell_type": "markdown",
      "source": [
        "## Categorical variables"
      ],
      "metadata": {}
    },
    {
      "cell_type": "markdown",
      "source": [
        "### Content Rating"
      ],
      "metadata": {}
    },
    {
      "cell_type": "code",
      "source": [
        "content_rating = only_vars['content_rating']\n",
        "content_rating_dict = generate_dict(content_rating.to_list())\n",
        "pp.pprint(content_rating_dict)\n",
        "generate_graph(content_rating_dict, 'content rating')"
      ],
      "outputs": [],
      "execution_count": null,
      "metadata": {
        "scrolled": true
      }
    },
    {
      "cell_type": "markdown",
      "source": [
        "### Android Version"
      ],
      "metadata": {}
    },
    {
      "cell_type": "code",
      "source": [
        "macro_android_version = only_vars['android_version']\n",
        "macro_android_version_dict = generate_dict(macro_android_version.to_list())\n",
        "pp.pprint(macro_android_version_dict)\n",
        "generate_graph(macro_android_version_dict, 'android version')"
      ],
      "outputs": [],
      "execution_count": null,
      "metadata": {
        "scrolled": true
      }
    },
    {
      "cell_type": "markdown",
      "source": [
        "### Genre"
      ],
      "metadata": {}
    },
    {
      "cell_type": "code",
      "source": [
        "genre = only_vars['genre']\n",
        "genre_dict = generate_dict(genre.to_list())\n",
        "pp.pprint(genre_dict)\n",
        "generate_graph(genre_dict, 'genre')"
      ],
      "outputs": [],
      "execution_count": null,
      "metadata": {
        "scrolled": true
      }
    },
    {
      "cell_type": "markdown",
      "source": [
        "### Has What's New"
      ],
      "metadata": {}
    },
    {
      "cell_type": "code",
      "source": [
        "has_whats_new = only_vars['has_whats_new']\n",
        "has_whats_new_dict = generate_dict(has_whats_new.to_list())\n",
        "pp.pprint(has_whats_new_dict)\n",
        "generate_pie_chart(has_whats_new_dict, \"has whats new\")"
      ],
      "outputs": [],
      "execution_count": null,
      "metadata": {
        "scrolled": true
      }
    },
    {
      "cell_type": "markdown",
      "source": [
        "### Num Installs"
      ],
      "metadata": {}
    },
    {
      "cell_type": "code",
      "source": [
        "fixed_num_installs = only_vars['num_installs']\n",
        "fixed_num_installs_dict = generate_dict(fixed_num_installs.to_list())\n",
        "pp.pprint(fixed_num_installs_dict)\n",
        "generate_graph(fixed_num_installs_dict, 'num installs')"
      ],
      "outputs": [],
      "execution_count": null,
      "metadata": {
        "scrolled": true
      }
    },
    {
      "cell_type": "markdown",
      "source": [
        "## Numerical variables"
      ],
      "metadata": {}
    },
    {
      "cell_type": "markdown",
      "source": [
        "### Numerical variables stats"
      ],
      "metadata": {}
    },
    {
      "cell_type": "code",
      "source": [
        "numeric_variables = ['len_name', 'len_summary', 'len_description', \n",
        "                     'rating', 'rating_1','rating_2', 'rating_3', 'rating_4', 'rating_5', \n",
        "                     'last_update_days', 'price_usd','num_installs_num']\n",
        "\n",
        "data_general = {\n",
        "    'variable': [],\n",
        "    'group':[],\n",
        "    'weighted_mean': [],\n",
        "    'mean': [],\n",
        "    'min': [],\n",
        "    'q1': [],\n",
        "    'median': [],\n",
        "    'q3': [],\n",
        "    'max': []\n",
        "}\n",
        "\n",
        "for nv in numeric_variables:\n",
        "    get_stats(nv, data_general, only_vars, 'weight_general', 'general')"
      ],
      "outputs": [],
      "execution_count": null,
      "metadata": {
        "scrolled": true
      }
    },
    {
      "cell_type": "code",
      "source": [
        "numeric_general = pd.DataFrame(data_general)\n",
        "pd.options.display.float_format = \"{:.2f}\".format\n",
        "numeric_general"
      ],
      "outputs": [],
      "execution_count": null,
      "metadata": {
        "scrolled": true
      }
    },
    {
      "cell_type": "code",
      "source": [
        "for nv in numeric_variables:\n",
        "    plot_boxplot_single(only_vars, nv, 2)"
      ],
      "outputs": [],
      "execution_count": null,
      "metadata": {
        "scrolled": true
      }
    },
    {
      "cell_type": "markdown",
      "source": [
        "## Grouped by Country"
      ],
      "metadata": {}
    },
    {
      "cell_type": "markdown",
      "source": [
        "### Categorical variables"
      ],
      "metadata": {}
    },
    {
      "cell_type": "code",
      "source": [
        "# Make a copy of original only vars\n",
        "only_vars = only_vars_original.copy()"
      ],
      "outputs": [],
      "execution_count": null,
      "metadata": {}
    },
    {
      "cell_type": "code",
      "source": [
        "groups_country = only_vars.groupby(['country'])\n",
        "categorical_variables = ['content_rating', 'android_version']\n",
        "\n",
        "data_country = {\n",
        "    'variable': [],\n",
        "    'group': [],\n",
        "    'weighted_mean': [],\n",
        "    'mean': [],\n",
        "    'min': [],\n",
        "    'q1': [],\n",
        "    'median': [],\n",
        "    'q3': [],\n",
        "    'max': []\n",
        "}\n",
        "\n",
        "content_rating_dicts = []\n",
        "android_version_dicts = []\n",
        "has_whats_new_dicts = []\n",
        "genre_dicts = []\n",
        "country_labels = []\n",
        "    \n",
        "# Iterate over country groups to plot variables and get stats\n",
        "for key in groups_country.groups.keys():\n",
        "    df = groups_country.get_group(key)\n",
        "    # Generate a weight column for each group\n",
        "    df = generate_weight_column(df, key)\n",
        "    \n",
        "    country_labels.append(key)\n",
        "    ct_dict = generate_dict(df['content_rating'].to_list())\n",
        "    content_rating_dicts.append(ct_dict)\n",
        "    \n",
        "    av_dict = generate_dict(df['android_version'].to_list())\n",
        "    android_version_dicts.append(av_dict)\n",
        "    \n",
        "    hw_dict = generate_dict(df['has_whats_new'].to_list())\n",
        "    has_whats_new_dicts.append(hw_dict)\n",
        "    \n",
        "    g_dict = generate_dict(df['genre'].to_list())\n",
        "    genre_dicts.append(g_dict)\n",
        "    \n",
        "    for nv in numeric_variables:\n",
        "        get_stats(nv, data_country, df, f'weight_{key}', key)"
      ],
      "outputs": [],
      "execution_count": null,
      "metadata": {}
    },
    {
      "cell_type": "code",
      "source": [
        "generate_horizontal_bar_chart(content_rating_dicts, country_labels, 'Content Rating')"
      ],
      "outputs": [],
      "execution_count": null,
      "metadata": {
        "scrolled": true
      }
    },
    {
      "cell_type": "code",
      "source": [
        "generate_horizontal_bar_chart(android_version_dicts, country_labels, 'Android Versions')"
      ],
      "outputs": [],
      "execution_count": null,
      "metadata": {
        "scrolled": true
      }
    },
    {
      "cell_type": "code",
      "source": [
        "generate_horizontal_bar_chart(genre_dicts, country_labels, 'Genre')"
      ],
      "outputs": [],
      "execution_count": null,
      "metadata": {
        "scrolled": true
      }
    },
    {
      "cell_type": "code",
      "source": [
        "generate_pie_chart_dropdown(has_whats_new_dicts, country_labels, 'Has Whats New')"
      ],
      "outputs": [],
      "execution_count": null,
      "metadata": {
        "scrolled": true
      }
    },
    {
      "cell_type": "code",
      "source": [
        "has_whats_new_week = pd.DataFrame()\n",
        "for label, d in zip(country_labels, has_whats_new_dicts):\n",
        "    d['country'] = label\n",
        "    total = d[True] + d[False]\n",
        "    d['percentage_true'] = (d[True]/total)*100\n",
        "    d['percentage_false'] = (d[False]/total)*100\n",
        "    \n",
        "    has_whats_new_week = has_whats_new_week.append(d, ignore_index=True)\n",
        "    \n",
        "has_whats_new_week"
      ],
      "outputs": [],
      "execution_count": null,
      "metadata": {}
    },
    {
      "cell_type": "markdown",
      "source": [
        "### Numerical variables"
      ],
      "metadata": {}
    },
    {
      "cell_type": "code",
      "source": [
        "numeric_data_country = pd.DataFrame(data_country)\n",
        "numeric_data_country =numeric_data_country.sort_values(by=['variable', 'group'])\n",
        "numeric_data_country"
      ],
      "outputs": [],
      "execution_count": null,
      "metadata": {
        "scrolled": true
      }
    },
    {
      "cell_type": "markdown",
      "source": [
        "### Len name"
      ],
      "metadata": {}
    },
    {
      "cell_type": "code",
      "source": [
        "plot_boxplot_horizontal_gray(only_vars, 'len_name', 'country', 2)\n",
        "country_pvalues = generate_pval_dataframe(list(groups_country.groups.keys()), only_vars, 'country', 'len_name')\n",
        "country_pvalues"
      ],
      "outputs": [],
      "execution_count": null,
      "metadata": {
        "scrolled": true
      }
    },
    {
      "cell_type": "code",
      "source": [
        "d = generate_dict(country_pvalues['size'].to_list())\n",
        "pp.pprint(d)"
      ],
      "outputs": [],
      "execution_count": null,
      "metadata": {}
    },
    {
      "cell_type": "markdown",
      "source": [
        "### Len summary"
      ],
      "metadata": {}
    },
    {
      "cell_type": "code",
      "source": [
        "plot_boxplot_horizontal_gray(only_vars, 'len_summary', 'country', 2)\n",
        "country_pvalues = generate_pval_dataframe(list(groups_country.groups.keys()), only_vars, 'country', 'len_summary')\n",
        "country_pvalues"
      ],
      "outputs": [],
      "execution_count": null,
      "metadata": {
        "scrolled": true
      }
    },
    {
      "cell_type": "code",
      "source": [
        "d = generate_dict(country_pvalues['size'].to_list())\n",
        "pp.pprint(d)"
      ],
      "outputs": [],
      "execution_count": null,
      "metadata": {}
    },
    {
      "cell_type": "markdown",
      "source": [
        "### Len description"
      ],
      "metadata": {}
    },
    {
      "cell_type": "code",
      "source": [
        "plot_boxplot_horizontal_gray(only_vars, 'len_description', 'country', 2)\n",
        "country_pvalues = generate_pval_dataframe(list(groups_country.groups.keys()), only_vars, 'country', 'len_description')\n",
        "country_pvalues"
      ],
      "outputs": [],
      "execution_count": null,
      "metadata": {
        "scrolled": true
      }
    },
    {
      "cell_type": "code",
      "source": [
        "d = generate_dict(country_pvalues['size'].to_list())\n",
        "pp.pprint(d)"
      ],
      "outputs": [],
      "execution_count": null,
      "metadata": {}
    },
    {
      "cell_type": "markdown",
      "source": [
        "### Rating"
      ],
      "metadata": {}
    },
    {
      "cell_type": "code",
      "source": [
        "plot_boxplot_horizontal_gray(only_vars, 'rating', 'country', 2)\n",
        "country_pvalues = generate_pval_dataframe(list(groups_country.groups.keys()), only_vars, 'country', 'rating')\n",
        "country_pvalues"
      ],
      "outputs": [],
      "execution_count": null,
      "metadata": {
        "scrolled": true
      }
    },
    {
      "cell_type": "code",
      "source": [
        "d = generate_dict(country_pvalues['size'].to_list())\n",
        "pp.pprint(d)"
      ],
      "outputs": [],
      "execution_count": null,
      "metadata": {}
    },
    {
      "cell_type": "markdown",
      "source": [
        "### Rating 1"
      ],
      "metadata": {}
    },
    {
      "cell_type": "code",
      "source": [
        "plot_boxplot_horizontal_gray(only_vars, 'rating_1', 'country', 2)\n",
        "country_pvalues = generate_pval_dataframe(list(groups_country.groups.keys()), only_vars, 'country', 'rating_1')\n",
        "country_pvalues"
      ],
      "outputs": [],
      "execution_count": null,
      "metadata": {
        "scrolled": true
      }
    },
    {
      "cell_type": "code",
      "source": [
        "d = generate_dict(country_pvalues['size'].to_list())\n",
        "pp.pprint(d)"
      ],
      "outputs": [],
      "execution_count": null,
      "metadata": {}
    },
    {
      "cell_type": "markdown",
      "source": [
        "### Rating 2"
      ],
      "metadata": {}
    },
    {
      "cell_type": "code",
      "source": [
        "plot_boxplot_horizontal_gray(only_vars, 'rating_2', 'country', 2)\n",
        "country_pvalues = generate_pval_dataframe(list(groups_country.groups.keys()), only_vars, 'country', 'rating_2')\n",
        "country_pvalues"
      ],
      "outputs": [],
      "execution_count": null,
      "metadata": {
        "scrolled": true
      }
    },
    {
      "cell_type": "code",
      "source": [
        "d = generate_dict(country_pvalues['size'].to_list())\n",
        "pp.pprint(d)"
      ],
      "outputs": [],
      "execution_count": null,
      "metadata": {}
    },
    {
      "cell_type": "markdown",
      "source": [
        "### Rating 3"
      ],
      "metadata": {}
    },
    {
      "cell_type": "code",
      "source": [
        "plot_boxplot_horizontal_gray(only_vars, 'rating_3', 'country', 2)\n",
        "country_pvalues = generate_pval_dataframe(list(groups_country.groups.keys()), only_vars, 'country', 'rating_3')\n",
        "country_pvalues"
      ],
      "outputs": [],
      "execution_count": null,
      "metadata": {
        "scrolled": true
      }
    },
    {
      "cell_type": "code",
      "source": [
        "d = generate_dict(country_pvalues['size'].to_list())\n",
        "pp.pprint(d)"
      ],
      "outputs": [],
      "execution_count": null,
      "metadata": {}
    },
    {
      "cell_type": "markdown",
      "source": [
        "### Rating 4"
      ],
      "metadata": {}
    },
    {
      "cell_type": "code",
      "source": [
        "plot_boxplot_horizontal_gray(only_vars, 'rating_4', 'country', 2)\n",
        "country_pvalues = generate_pval_dataframe(list(groups_country.groups.keys()), only_vars, 'country', 'rating_4')\n",
        "country_pvalues"
      ],
      "outputs": [],
      "execution_count": null,
      "metadata": {
        "scrolled": true
      }
    },
    {
      "cell_type": "code",
      "source": [
        "d = generate_dict(country_pvalues['size'].to_list())\n",
        "pp.pprint(d)"
      ],
      "outputs": [],
      "execution_count": null,
      "metadata": {}
    },
    {
      "cell_type": "markdown",
      "source": [
        "### Rating 5"
      ],
      "metadata": {}
    },
    {
      "cell_type": "code",
      "source": [
        "plot_boxplot_horizontal_gray(only_vars, 'rating_5', 'country', 2)\n",
        "country_pvalues = generate_pval_dataframe(list(groups_country.groups.keys()), only_vars, 'country', 'rating_5')\n",
        "country_pvalues"
      ],
      "outputs": [],
      "execution_count": null,
      "metadata": {
        "scrolled": true
      }
    },
    {
      "cell_type": "code",
      "source": [
        "d = generate_dict(country_pvalues['size'].to_list())\n",
        "pp.pprint(d)"
      ],
      "outputs": [],
      "execution_count": null,
      "metadata": {}
    },
    {
      "cell_type": "markdown",
      "source": [
        "### Last update days"
      ],
      "metadata": {}
    },
    {
      "cell_type": "code",
      "source": [
        "plot_boxplot_horizontal_gray(only_vars, 'last_update_days', 'country', 2)\n",
        "country_pvalues = generate_pval_dataframe(list(groups_country.groups.keys()), only_vars, 'country', 'last_update_days')\n",
        "country_pvalues"
      ],
      "outputs": [],
      "execution_count": null,
      "metadata": {
        "scrolled": true
      }
    },
    {
      "cell_type": "code",
      "source": [
        "d = generate_dict(country_pvalues['size'].to_list())\n",
        "pp.pprint(d)"
      ],
      "outputs": [],
      "execution_count": null,
      "metadata": {}
    },
    {
      "cell_type": "markdown",
      "source": [
        "### Price usd"
      ],
      "metadata": {}
    },
    {
      "cell_type": "code",
      "source": [
        "plot_boxplot_horizontal_gray(only_vars, 'price_usd', 'country', 2)\n",
        "country_pvalues = generate_pval_dataframe(list(groups_country.groups.keys()), only_vars, 'country', 'price_usd')\n",
        "country_pvalues"
      ],
      "outputs": [],
      "execution_count": null,
      "metadata": {
        "scrolled": true
      }
    },
    {
      "cell_type": "code",
      "source": [
        "d =generate_dict(country_pvalues['size'].to_list())\n",
        "pp.pprint(d)"
      ],
      "outputs": [],
      "execution_count": null,
      "metadata": {}
    },
    {
      "cell_type": "markdown",
      "source": [
        "### Num installs"
      ],
      "metadata": {}
    },
    {
      "cell_type": "code",
      "source": [
        "plot_boxplot_horizontal_gray(only_vars, 'num_installs_num', 'country', 2)\n",
        "country_pvalues = generate_pval_dataframe(list(groups_country.groups.keys()), only_vars, 'country', 'num_installs_num')\n",
        "country_pvalues"
      ],
      "outputs": [],
      "execution_count": null,
      "metadata": {
        "scrolled": true
      }
    },
    {
      "cell_type": "code",
      "source": [
        "d = generate_dict(country_pvalues['size'].to_list())\n",
        "pp.pprint(d)"
      ],
      "outputs": [],
      "execution_count": null,
      "metadata": {}
    },
    {
      "cell_type": "markdown",
      "source": [
        "## Grouped by top"
      ],
      "metadata": {}
    },
    {
      "cell_type": "markdown",
      "source": [
        "### Categorical variables"
      ],
      "metadata": {}
    },
    {
      "cell_type": "code",
      "source": [
        "# Make a copy of original only vars\n",
        "only_vars = only_vars_original.copy()"
      ],
      "outputs": [],
      "execution_count": null,
      "metadata": {}
    },
    {
      "cell_type": "code",
      "source": [
        "groups_top = only_vars.groupby(['top'])\n",
        "categorical_variables = ['content_rating', 'android_version']\n",
        "\n",
        "data_top = {\n",
        "    'variable': [],\n",
        "    'group': [],\n",
        "    'weighted_mean': [],\n",
        "    'mean': [],\n",
        "    'min': [],\n",
        "    'q1': [],\n",
        "    'median': [],\n",
        "    'q3': [],\n",
        "    'max': []\n",
        "}\n",
        "\n",
        "content_rating_dicts = []\n",
        "android_version_dicts = []\n",
        "has_whats_new_dicts = []\n",
        "genre_dicts = []\n",
        "top_labels = []\n",
        "    \n",
        "# Iterate over top groups to plot variables and get stats\n",
        "for key in groups_top.groups.keys():\n",
        "    df = groups_top.get_group(key)\n",
        "    # Generate a weight column for each group\n",
        "    df = generate_weight_column(df, key)\n",
        "    \n",
        "    top_labels.append(key)\n",
        "    content_rating_dicts.append(generate_dict(df['content_rating'].to_list()))\n",
        "    android_version_dicts.append(generate_dict(df['android_version'].to_list()))\n",
        "    has_whats_new_dicts.append(generate_dict(df['has_whats_new'].to_list()))\n",
        "    genre_dicts.append(generate_dict(df['genre'].to_list()))\n",
        "    \n",
        "    for nv in numeric_variables:\n",
        "        get_stats(nv, data_top, df, f'weight_{key}', key)"
      ],
      "outputs": [],
      "execution_count": null,
      "metadata": {
        "scrolled": true
      }
    },
    {
      "cell_type": "code",
      "source": [
        "generate_horizontal_bar_chart(content_rating_dicts, top_labels, 'Content Rating')"
      ],
      "outputs": [],
      "execution_count": null,
      "metadata": {
        "scrolled": true
      }
    },
    {
      "cell_type": "code",
      "source": [
        "generate_horizontal_bar_chart(android_version_dicts, top_labels, 'Android Versions')"
      ],
      "outputs": [],
      "execution_count": null,
      "metadata": {
        "scrolled": true
      }
    },
    {
      "cell_type": "code",
      "source": [
        "generate_horizontal_bar_chart(genre_dicts, top_labels, 'Genre')"
      ],
      "outputs": [],
      "execution_count": null,
      "metadata": {
        "scrolled": true
      }
    },
    {
      "cell_type": "code",
      "source": [
        "generate_pie_chart_dropdown(has_whats_new_dicts, top_labels, 'Has Whats New')"
      ],
      "outputs": [],
      "execution_count": null,
      "metadata": {
        "scrolled": true
      }
    },
    {
      "cell_type": "code",
      "source": [
        "has_whats_new_week = pd.DataFrame()\n",
        "for label, d in zip(top_labels, has_whats_new_dicts):\n",
        "    d['top'] = label\n",
        "    total = d[True] + d[False]\n",
        "    d['percentage_true'] = (d[True]/total)*100\n",
        "    d['percentage_false'] = (d[False]/total)*100\n",
        "    \n",
        "    has_whats_new_week = has_whats_new_week.append(d, ignore_index=True)\n",
        "    \n",
        "has_whats_new_week"
      ],
      "outputs": [],
      "execution_count": null,
      "metadata": {}
    },
    {
      "cell_type": "markdown",
      "source": [
        "### Numerical variables"
      ],
      "metadata": {}
    },
    {
      "cell_type": "code",
      "source": [
        "numeric_data_top = pd.DataFrame(data_top)\n",
        "numeric_data_top = numeric_data_top.sort_values(by=['variable', 'group'])\n",
        "\n",
        "numeric_data_top"
      ],
      "outputs": [],
      "execution_count": null,
      "metadata": {
        "scrolled": true
      }
    },
    {
      "cell_type": "code",
      "source": [
        "plot_boxplot_horizontal_gray(only_vars, 'len_name', 'top', 2)\n",
        "top_pvalues = generate_pval_dataframe(list(groups_top.groups.keys()), only_vars, 'top', 'len_name')\n",
        "top_pvalues"
      ],
      "outputs": [],
      "execution_count": null,
      "metadata": {
        "scrolled": true
      }
    },
    {
      "cell_type": "code",
      "source": [
        "d = generate_dict(top_pvalues['size'].to_list())\n",
        "pp.pprint(d)"
      ],
      "outputs": [],
      "execution_count": null,
      "metadata": {}
    },
    {
      "cell_type": "code",
      "source": [
        "plot_boxplot_horizontal_gray(only_vars, 'len_summary', 'top', 2)\n",
        "top_pvalues = generate_pval_dataframe(list(groups_top.groups.keys()), only_vars, 'top', 'len_summary')\n",
        "top_pvalues"
      ],
      "outputs": [],
      "execution_count": null,
      "metadata": {
        "scrolled": true
      }
    },
    {
      "cell_type": "code",
      "source": [
        "d = generate_dict(top_pvalues['size'].to_list())\n",
        "pp.pprint(d)"
      ],
      "outputs": [],
      "execution_count": null,
      "metadata": {}
    },
    {
      "cell_type": "code",
      "source": [
        "plot_boxplot_horizontal_gray(only_vars, 'len_description', 'top', 2)\n",
        "top_pvalues = generate_pval_dataframe(list(groups_top.groups.keys()), only_vars, 'top', 'len_description')\n",
        "top_pvalues"
      ],
      "outputs": [],
      "execution_count": null,
      "metadata": {
        "scrolled": true
      }
    },
    {
      "cell_type": "code",
      "source": [
        "d = generate_dict(top_pvalues['size'].to_list())\n",
        "pp.pprint(d)"
      ],
      "outputs": [],
      "execution_count": null,
      "metadata": {}
    },
    {
      "cell_type": "code",
      "source": [
        "plot_boxplot_horizontal_gray_top(only_vars, 'rating', 'top', 2)\n",
        "top_pvalues = generate_pval_dataframe(list(groups_top.groups.keys()), only_vars, 'top', 'rating')\n",
        "top_pvalues"
      ],
      "outputs": [],
      "execution_count": null,
      "metadata": {
        "scrolled": true
      }
    },
    {
      "cell_type": "code",
      "source": [
        "d = generate_dict(top_pvalues['size'].to_list())\n",
        "pp.pprint(d)"
      ],
      "outputs": [],
      "execution_count": null,
      "metadata": {}
    },
    {
      "cell_type": "code",
      "source": [
        "plot_boxplot_horizontal_gray(only_vars, 'rating_1', 'top', 2)\n",
        "top_pvalues = generate_pval_dataframe(list(groups_top.groups.keys()), only_vars, 'top', 'rating_1')\n",
        "top_pvalues"
      ],
      "outputs": [],
      "execution_count": null,
      "metadata": {
        "scrolled": true
      }
    },
    {
      "cell_type": "code",
      "source": [
        "d = generate_dict(top_pvalues['size'].to_list())\n",
        "pp.pprint(d)"
      ],
      "outputs": [],
      "execution_count": null,
      "metadata": {}
    },
    {
      "cell_type": "code",
      "source": [
        "plot_boxplot_horizontal_gray(only_vars, 'rating_2', 'top', 2)\n",
        "top_pvalues = generate_pval_dataframe(list(groups_top.groups.keys()), only_vars, 'top', 'rating_2')\n",
        "top_pvalues"
      ],
      "outputs": [],
      "execution_count": null,
      "metadata": {
        "scrolled": true
      }
    },
    {
      "cell_type": "code",
      "source": [
        "d = generate_dict(top_pvalues['size'].to_list())\n",
        "pp.pprint(d)"
      ],
      "outputs": [],
      "execution_count": null,
      "metadata": {}
    },
    {
      "cell_type": "code",
      "source": [
        "plot_boxplot_horizontal_gray(only_vars, 'rating_3', 'top', 2)\n",
        "top_pvalues = generate_pval_dataframe(list(groups_top.groups.keys()), only_vars, 'top', 'rating_3')\n",
        "top_pvalues"
      ],
      "outputs": [],
      "execution_count": null,
      "metadata": {
        "scrolled": true
      }
    },
    {
      "cell_type": "code",
      "source": [
        "d = generate_dict(top_pvalues['size'].to_list())\n",
        "pp.pprint(d)"
      ],
      "outputs": [],
      "execution_count": null,
      "metadata": {}
    },
    {
      "cell_type": "code",
      "source": [
        "plot_boxplot_horizontal_gray(only_vars, 'rating_4', 'top', 2)\n",
        "top_pvalues = generate_pval_dataframe(list(groups_top.groups.keys()), only_vars, 'top', 'rating_4')\n",
        "top_pvalues"
      ],
      "outputs": [],
      "execution_count": null,
      "metadata": {
        "scrolled": true
      }
    },
    {
      "cell_type": "code",
      "source": [
        "d = generate_dict(top_pvalues['size'].to_list())\n",
        "pp.pprint(d)"
      ],
      "outputs": [],
      "execution_count": null,
      "metadata": {}
    },
    {
      "cell_type": "code",
      "source": [
        "plot_boxplot_horizontal_gray(only_vars, 'rating_5', 'top', 2)\n",
        "top_pvalues = generate_pval_dataframe(list(groups_top.groups.keys()), only_vars, 'top', 'rating_5')\n",
        "top_pvalues"
      ],
      "outputs": [],
      "execution_count": null,
      "metadata": {
        "scrolled": true
      }
    },
    {
      "cell_type": "code",
      "source": [
        "d = generate_dict(top_pvalues['size'].to_list())\n",
        "pp.pprint(d)"
      ],
      "outputs": [],
      "execution_count": null,
      "metadata": {}
    },
    {
      "cell_type": "code",
      "source": [
        "plot_boxplot_horizontal_gray(only_vars, 'last_update_days', 'top', 2)\n",
        "top_pvalues = generate_pval_dataframe(list(groups_top.groups.keys()), only_vars, 'top', 'last_update_days')\n",
        "top_pvalues"
      ],
      "outputs": [],
      "execution_count": null,
      "metadata": {
        "scrolled": true
      }
    },
    {
      "cell_type": "code",
      "source": [
        "d = generate_dict(top_pvalues['size'].to_list())\n",
        "pp.pprint(d)"
      ],
      "outputs": [],
      "execution_count": null,
      "metadata": {}
    },
    {
      "cell_type": "code",
      "source": [
        "plot_boxplot_horizontal_gray(only_vars, 'price_usd', 'top', 2)\n",
        "top_pvalues = generate_pval_dataframe(list(groups_top.groups.keys()), only_vars, 'top', 'price_usd')\n",
        "top_pvalues"
      ],
      "outputs": [],
      "execution_count": null,
      "metadata": {
        "scrolled": true
      }
    },
    {
      "cell_type": "code",
      "source": [
        "d = generate_dict(top_pvalues['size'].to_list())\n",
        "pp.pprint(d)"
      ],
      "outputs": [],
      "execution_count": null,
      "metadata": {}
    },
    {
      "cell_type": "code",
      "source": [
        "plot_boxplot_horizontal_gray(only_vars, 'num_installs_num', 'top', 2)\n",
        "top_pvalues = generate_pval_dataframe(list(groups_top.groups.keys()), only_vars, 'top', 'num_installs_num')\n",
        "top_pvalues"
      ],
      "outputs": [],
      "execution_count": null,
      "metadata": {
        "scrolled": true
      }
    },
    {
      "cell_type": "code",
      "source": [
        "d = generate_dict(top_pvalues['size'].to_list())\n",
        "pp.pprint(d)"
      ],
      "outputs": [],
      "execution_count": null,
      "metadata": {}
    },
    {
      "cell_type": "markdown",
      "source": [
        "## Grouped by category"
      ],
      "metadata": {}
    },
    {
      "cell_type": "markdown",
      "source": [
        "### Categorical variables"
      ],
      "metadata": {}
    },
    {
      "cell_type": "code",
      "source": [
        "# Make a copy of original only vars\n",
        "only_vars = only_vars_original.copy()"
      ],
      "outputs": [],
      "execution_count": null,
      "metadata": {}
    },
    {
      "cell_type": "code",
      "source": [
        "# Exclude editor choice and general because they are not categories\n",
        "only_vars = only_vars[~only_vars['category'].isin(['editorChoice', 'general'])]"
      ],
      "outputs": [],
      "execution_count": null,
      "metadata": {}
    },
    {
      "cell_type": "code",
      "source": [
        "groups_category = only_vars.groupby(['category'])\n",
        "categorical_variables = ['content_rating', 'android_version']\n",
        "\n",
        "data_category = {\n",
        "    'variable': [],\n",
        "    'group': [],\n",
        "    'weighted_mean': [],\n",
        "    'mean': [],\n",
        "    'min': [],\n",
        "    'q1': [],\n",
        "    'median': [],\n",
        "    'q3': [],\n",
        "    'max': []\n",
        "}\n",
        "\n",
        "content_rating_dicts = []\n",
        "android_version_dicts = []\n",
        "has_whats_new_dicts = []\n",
        "category_labels = []\n",
        "    \n",
        "# Iterate over top groups to plot variables and get stats\n",
        "for key in groups_category.groups.keys():\n",
        "    df = groups_category.get_group(key)\n",
        "    # Generate a weight column for each group\n",
        "    df = generate_weight_column(df, key)\n",
        "    \n",
        "    category_labels.append(key)\n",
        "    content_rating_dicts.append(generate_dict(df['content_rating'].to_list()))\n",
        "    android_version_dicts.append(generate_dict(df['android_version'].to_list()))\n",
        "    has_whats_new_dicts.append(generate_dict(df['has_whats_new'].to_list()))\n",
        "    \n",
        "    for nv in numeric_variables:\n",
        "        get_stats(nv, data_category, df, f'weight_{key}', key)"
      ],
      "outputs": [],
      "execution_count": null,
      "metadata": {}
    },
    {
      "cell_type": "code",
      "source": [
        "generate_horizontal_bar_chart(content_rating_dicts, category_labels, 'Content Rating')"
      ],
      "outputs": [],
      "execution_count": null,
      "metadata": {
        "scrolled": true
      }
    },
    {
      "cell_type": "code",
      "source": [
        "generate_horizontal_bar_chart(android_version_dicts, category_labels, 'Android Versions')"
      ],
      "outputs": [],
      "execution_count": null,
      "metadata": {
        "scrolled": true
      }
    },
    {
      "cell_type": "code",
      "source": [
        "generate_pie_chart_dropdown(has_whats_new_dicts, category_labels, 'Has Whats New')"
      ],
      "outputs": [],
      "execution_count": null,
      "metadata": {
        "scrolled": true
      }
    },
    {
      "cell_type": "code",
      "source": [
        "has_whats_new_week = pd.DataFrame()\n",
        "for label, d in zip(category_labels, has_whats_new_dicts):\n",
        "    d['category'] = label\n",
        "    total = d[True] + d[False]\n",
        "    d['percentage_true'] = (d[True]/total)*100\n",
        "    d['percentage_false'] = (d[False]/total)*100\n",
        "    \n",
        "    has_whats_new_week = has_whats_new_week.append(d, ignore_index=True)\n",
        "    \n",
        "has_whats_new_week"
      ],
      "outputs": [],
      "execution_count": null,
      "metadata": {
        "scrolled": true
      }
    },
    {
      "cell_type": "markdown",
      "source": [
        "### Numerical variables"
      ],
      "metadata": {}
    },
    {
      "cell_type": "code",
      "source": [
        "numeric_data_category = pd.DataFrame(data_category)\n",
        "numeric_data_category = numeric_data_category.sort_values(by=['variable', 'group'])\n",
        "\n",
        "pp.pprint(numeric_data_category)\n",
        "\n",
        "numeric_variables = ['len_name', 'len_summary', 'len_description', \n",
        "                     'rating', 'rating_1','rating_2', 'rating_3', 'rating_4', 'rating_5', \n",
        "                     'last_update_days', 'price_usd','num_installs_num']\n",
        "\n",
        "for nv in numeric_variables:\n",
        "    plot_boxplot_horizontal_gray(only_vars, nv, 'category', 2)\n",
        "    print(f'Numeric variable {nv}')\n",
        "    category_values = generate_pval_dataframe(list(groups_category.groups.keys()), only_vars, 'category', nv)\n",
        "    pp.pprint(category_values)\n",
        "    d = generate_dict(category_values['size'].to_list())\n",
        "    pp.pprint(d)"
      ],
      "outputs": [],
      "execution_count": null,
      "metadata": {
        "scrolled": true
      }
    },
    {
      "cell_type": "markdown",
      "source": [
        "## Grouped by country-top"
      ],
      "metadata": {}
    },
    {
      "cell_type": "markdown",
      "source": [
        "### Categorical variables"
      ],
      "metadata": {}
    },
    {
      "cell_type": "code",
      "source": [
        "# Make a copy of original only vars\n",
        "only_vars = only_vars_original.copy()"
      ],
      "outputs": [],
      "execution_count": null,
      "metadata": {}
    },
    {
      "cell_type": "code",
      "source": [
        "groups_top_country = only_vars.groupby(['top', 'country'])\n",
        "categorical_variables = ['content_rating', 'android_version']\n",
        "\n",
        "data_top_country = {\n",
        "    'variable': [],\n",
        "    'group': [],\n",
        "    'weighted_mean': [],\n",
        "    'mean': [],\n",
        "    'min': [],\n",
        "    'q1': [],\n",
        "    'median': [],\n",
        "    'q3': [],\n",
        "    'max': []\n",
        "}\n",
        "\n",
        "content_rating_dicts = []\n",
        "android_version_dicts = []\n",
        "has_whats_new_dicts = []\n",
        "genre_dicts = []\n",
        "top_country_labels = []\n",
        "    \n",
        "# Iterate over top groups to plot variables and get stats\n",
        "for key in groups_top_country.groups.keys():\n",
        "    df = groups_top_country.get_group(key)\n",
        "    # Generate a weight column for each group\n",
        "    df = generate_weight_column(df, key)\n",
        "    \n",
        "    top_country_labels.append(key)\n",
        "    content_rating_dicts.append(generate_dict(df['content_rating'].to_list()))\n",
        "    android_version_dicts.append(generate_dict(df['android_version'].to_list()))\n",
        "    has_whats_new_dicts.append(generate_dict(df['has_whats_new'].to_list()))\n",
        "    genre_dicts.append(generate_dict(df['genre'].to_list()))\n",
        "    \n",
        "    for nv in numeric_variables:\n",
        "        get_stats(nv, data_top_country, df, f'weight_{key}', key)"
      ],
      "outputs": [],
      "execution_count": null,
      "metadata": {}
    },
    {
      "cell_type": "code",
      "source": [
        "generate_horizontal_bar_chart(content_rating_dicts, top_country_labels, 'Content Rating')"
      ],
      "outputs": [],
      "execution_count": null,
      "metadata": {
        "scrolled": false
      }
    },
    {
      "cell_type": "code",
      "source": [
        "generate_horizontal_bar_chart(android_version_dicts, top_country_labels, 'Android Versions')"
      ],
      "outputs": [],
      "execution_count": null,
      "metadata": {
        "scrolled": true
      }
    },
    {
      "cell_type": "code",
      "source": [
        "generate_horizontal_bar_chart(genre_dicts, top_country_labels, 'Genre')"
      ],
      "outputs": [],
      "execution_count": null,
      "metadata": {}
    },
    {
      "cell_type": "code",
      "source": [
        "has_whats_new_week = pd.DataFrame()\n",
        "for label, d in zip(top_country_labels, has_whats_new_dicts):\n",
        "    d['top-country'] = label\n",
        "    total = d[True] + d[False]\n",
        "    d['percentage_true'] = (d[True]/total)*100\n",
        "    d['percentage_false'] = (d[False]/total)*100\n",
        "    \n",
        "    has_whats_new_week = has_whats_new_week.append(d, ignore_index=True)\n",
        "    \n",
        "has_whats_new_week"
      ],
      "outputs": [],
      "execution_count": null,
      "metadata": {}
    },
    {
      "cell_type": "code",
      "source": [
        "numeric_data_top_country = pd.DataFrame(data_top_country)\n",
        "numeric_data_top_country = numeric_data_top_country.sort_values(by=['variable', 'group'])\n",
        "\n",
        "numeric_data_top_country"
      ],
      "outputs": [],
      "execution_count": null,
      "metadata": {
        "scrolled": true
      }
    },
    {
      "cell_type": "code",
      "source": [
        "plot_boxplot_horizontal_gray(only_vars, 'len_name', 'top', 2, hue_var='country')\n",
        "top_country_pvalues = generate_pval_dataframe_two(list(groups_top_country.groups.keys()), only_vars, 'top', 'country', 'len_name')\n",
        "top_country_pvalues"
      ],
      "outputs": [],
      "execution_count": null,
      "metadata": {
        "scrolled": true
      }
    },
    {
      "cell_type": "code",
      "source": [
        "d = generate_dict(top_country_pvalues['size'].to_list())\n",
        "pp.pprint(d)"
      ],
      "outputs": [],
      "execution_count": null,
      "metadata": {}
    },
    {
      "cell_type": "code",
      "source": [
        "plot_boxplot_horizontal_gray(only_vars, 'len_summary', 'top', 2, hue_var='country')\n",
        "top_country_pvalues = generate_pval_dataframe_two(list(groups_top_country.groups.keys()), only_vars, 'top', 'country', 'len_summary')\n",
        "top_country_pvalues"
      ],
      "outputs": [],
      "execution_count": null,
      "metadata": {
        "scrolled": true
      }
    },
    {
      "cell_type": "code",
      "source": [
        "d = generate_dict(top_country_pvalues['size'].to_list())\n",
        "pp.pprint(d)"
      ],
      "outputs": [],
      "execution_count": null,
      "metadata": {}
    },
    {
      "cell_type": "code",
      "source": [
        "plot_boxplot_horizontal_gray(only_vars, 'len_description', 'top', 2, hue_var='country')\n",
        "top_country_pvalues = generate_pval_dataframe_two(list(groups_top_country.groups.keys()), only_vars, 'top', 'country', 'len_description')\n",
        "top_country_pvalues"
      ],
      "outputs": [],
      "execution_count": null,
      "metadata": {
        "scrolled": true
      }
    },
    {
      "cell_type": "code",
      "source": [
        "d = generate_dict(top_country_pvalues['size'].to_list())\n",
        "pp.pprint(d)"
      ],
      "outputs": [],
      "execution_count": null,
      "metadata": {}
    },
    {
      "cell_type": "code",
      "source": [
        "plot_boxplot_horizontal_gray(only_vars, 'rating', 'top', 2, hue_var='country')\n",
        "top_country_pvalues = generate_pval_dataframe_two(list(groups_top_country.groups.keys()), only_vars, 'top', 'country', 'rating')\n",
        "top_country_pvalues"
      ],
      "outputs": [],
      "execution_count": null,
      "metadata": {
        "scrolled": true
      }
    },
    {
      "cell_type": "code",
      "source": [
        "d = generate_dict(top_country_pvalues['size'].to_list())\n",
        "pp.pprint(d)"
      ],
      "outputs": [],
      "execution_count": null,
      "metadata": {}
    },
    {
      "cell_type": "code",
      "source": [
        "plot_boxplot_horizontal_gray(only_vars, 'rating_1', 'top', 2, hue_var='country')\n",
        "top_country_pvalues = generate_pval_dataframe_two(list(groups_top_country.groups.keys()), only_vars, 'top', 'country', 'rating_1')\n",
        "top_country_pvalues"
      ],
      "outputs": [],
      "execution_count": null,
      "metadata": {
        "scrolled": true
      }
    },
    {
      "cell_type": "code",
      "source": [
        "d = generate_dict(top_country_pvalues['size'].to_list())\n",
        "pp.pprint(d)"
      ],
      "outputs": [],
      "execution_count": null,
      "metadata": {}
    },
    {
      "cell_type": "code",
      "source": [
        "plot_boxplot_horizontal_gray(only_vars, 'rating_2', 'top', 2, hue_var='country')\n",
        "top_country_pvalues = generate_pval_dataframe_two(list(groups_top_country.groups.keys()), only_vars, 'top', 'country', 'rating_2')\n",
        "top_country_pvalues"
      ],
      "outputs": [],
      "execution_count": null,
      "metadata": {
        "scrolled": true
      }
    },
    {
      "cell_type": "code",
      "source": [
        "d = generate_dict(top_country_pvalues['size'].to_list())\n",
        "pp.pprint(d)"
      ],
      "outputs": [],
      "execution_count": null,
      "metadata": {}
    },
    {
      "cell_type": "code",
      "source": [
        "plot_boxplot_horizontal_gray(only_vars, 'rating_3', 'top', 2, hue_var='country')\n",
        "top_country_pvalues = generate_pval_dataframe_two(list(groups_top_country.groups.keys()), only_vars, 'top', 'country', 'rating_3')\n",
        "top_country_pvalues"
      ],
      "outputs": [],
      "execution_count": null,
      "metadata": {
        "scrolled": true
      }
    },
    {
      "cell_type": "code",
      "source": [
        "d = generate_dict(top_country_pvalues['size'].to_list())\n",
        "pp.pprint(d)"
      ],
      "outputs": [],
      "execution_count": null,
      "metadata": {}
    },
    {
      "cell_type": "code",
      "source": [
        "plot_boxplot_horizontal_gray(only_vars, 'rating_4', 'top', 2, hue_var='country')\n",
        "top_country_pvalues = generate_pval_dataframe_two(list(groups_top_country.groups.keys()), only_vars, 'top', 'country', 'rating_4')\n",
        "top_country_pvalues"
      ],
      "outputs": [],
      "execution_count": null,
      "metadata": {
        "scrolled": true
      }
    },
    {
      "cell_type": "code",
      "source": [
        "d = generate_dict(top_country_pvalues['size'].to_list())\n",
        "pp.pprint(d)"
      ],
      "outputs": [],
      "execution_count": null,
      "metadata": {}
    },
    {
      "cell_type": "code",
      "source": [
        "plot_boxplot_horizontal_gray(only_vars, 'rating_5', 'top', 2, hue_var='country')\n",
        "top_country_pvalues = generate_pval_dataframe_two(list(groups_top_country.groups.keys()), only_vars, 'top', 'country', 'rating_5')\n",
        "top_country_pvalues"
      ],
      "outputs": [],
      "execution_count": null,
      "metadata": {
        "scrolled": true
      }
    },
    {
      "cell_type": "code",
      "source": [
        "d = generate_dict(top_country_pvalues['size'].to_list())\n",
        "pp.pprint(d)"
      ],
      "outputs": [],
      "execution_count": null,
      "metadata": {}
    },
    {
      "cell_type": "code",
      "source": [
        "plot_boxplot_horizontal_gray_top(only_vars, 'last_update_days', 'top', 2, hue_var='country')"
      ],
      "outputs": [],
      "execution_count": null,
      "metadata": {
        "scrolled": true
      }
    },
    {
      "cell_type": "code",
      "source": [
        "plot_boxplot_horizontal_gray(only_vars, 'price_usd', 'top', 2, hue_var='country')\n",
        "top_country_pvalues = generate_pval_dataframe_two(list(groups_top_country.groups.keys()), only_vars, 'top', 'country', 'price_usd')\n",
        "top_country_pvalues"
      ],
      "outputs": [],
      "execution_count": null,
      "metadata": {
        "scrolled": true
      }
    },
    {
      "cell_type": "code",
      "source": [
        "d = generate_dict(top_country_pvalues['size'].to_list())\n",
        "pp.pprint(d)"
      ],
      "outputs": [],
      "execution_count": null,
      "metadata": {}
    },
    {
      "cell_type": "code",
      "source": [
        "plot_boxplot_horizontal_gray(only_vars, 'num_installs_num', 'top', 2, hue_var='country')\n",
        "top_country_pvalues = generate_pval_dataframe_two(list(groups_top_country.groups.keys()), only_vars, 'top', 'country', 'num_installs_num')\n",
        "top_country_pvalues"
      ],
      "outputs": [],
      "execution_count": null,
      "metadata": {
        "scrolled": true
      }
    },
    {
      "cell_type": "code",
      "source": [
        "d = generate_dict(top_country_pvalues['size'].to_list())\n",
        "pp.pprint(d)"
      ],
      "outputs": [],
      "execution_count": null,
      "metadata": {}
    }
  ],
  "metadata": {
    "kernelspec": {
      "display_name": "Python 3",
      "language": "python",
      "name": "python3"
    },
    "language_info": {
      "codemirror_mode": {
        "name": "ipython",
        "version": 3
      },
      "file_extension": ".py",
      "mimetype": "text/x-python",
      "name": "python",
      "nbconvert_exporter": "python",
      "pygments_lexer": "ipython3",
      "version": "3.7.4"
    },
    "nteract": {
      "version": "0.27.0"
    }
  },
  "nbformat": 4,
  "nbformat_minor": 4
}