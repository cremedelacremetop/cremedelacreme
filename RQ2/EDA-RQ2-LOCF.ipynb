{
 "cells": [
  {
   "cell_type": "markdown",
   "metadata": {},
   "source": [
    "# General EDA "
   ]
  },
  {
   "cell_type": "code",
   "execution_count": null,
   "metadata": {},
   "outputs": [],
   "source": [
    "# Imports\n",
    "%matplotlib inline\n",
    "from ast import literal_eval\n",
    "from collections import OrderedDict\n",
    "from scipy.stats import zscore\n",
    "from typing import List\n",
    "import csv\n",
    "import datetime\n",
    "import math\n",
    "import matplotlib.pyplot as plt\n",
    "import plotly\n",
    "import plotly.graph_objs as go\n",
    "import numpy as np\n",
    "import pandas as pd\n",
    "import pymongo\n",
    "import robustats\n",
    "import seaborn as sns\n",
    "import wquantiles as wq\n",
    "import pprint\n",
    "from scipy.stats import chi2, mstats, mannwhitneyu, kruskal, chi2_contingency\n",
    "from statsmodels.stats.multitest import multipletests\n",
    "from cliffsDelta import cliffsDelta\n",
    "pp = pprint.PrettyPrinter(indent=4)\n",
    "\n",
    "# Jupyter configurations\n",
    "pd.options.display.max_columns = 20002\n",
    "pd.options.display.max_columns = 10000\n",
    "pd.set_option('display.max_columns', None)  # or 1000\n",
    "pd.set_option('display.max_rows', None)  # or 1000\n",
    "pd.set_option('display.max_colwidth', -1)  # or 199"
   ]
  },
  {
   "cell_type": "code",
   "execution_count": null,
   "metadata": {},
   "outputs": [],
   "source": [
    "# Set palette\n",
    "\n",
    "seq_col_brew = sns.color_palette(\"Greys_r\", 5)\n",
    "sns.set_palette(seq_col_brew)\n",
    "seq_col_brew\n",
    "#en orden alfabetico, [1] para br, [2] para co, [3] para de, [4] para us"
   ]
  },
  {
   "cell_type": "code",
   "execution_count": null,
   "metadata": {},
   "outputs": [],
   "source": [
    "all_apps = pd.read_csv(\n",
    "   'data_LOCF_fixed.csv', delimiter=\"|\", encoding='utf-8', engine= 'python',converters={'_id':str})"
   ]
  },
  {
   "cell_type": "code",
   "execution_count": null,
   "metadata": {
    "scrolled": true
   },
   "outputs": [],
   "source": [
    "all_apps.head(3)"
   ]
  },
  {
   "cell_type": "code",
   "execution_count": null,
   "metadata": {
    "scrolled": true
   },
   "outputs": [],
   "source": [
    "# Original types\n",
    "all_apps.dtypes"
   ]
  },
  {
   "cell_type": "code",
   "execution_count": null,
   "metadata": {},
   "outputs": [],
   "source": [
    "# Transform variables to date\n",
    "vars_dates = ['retrieved_date_start','retrieved_date_end', 'last_update', 'last_update_fixed']\n",
    "for var in vars_dates:\n",
    "    all_apps[var] = pd.to_datetime(all_apps[var])"
   ]
  },
  {
   "cell_type": "code",
   "execution_count": null,
   "metadata": {
    "scrolled": true
   },
   "outputs": [],
   "source": [
    "# Transformed types\n",
    "all_apps.dtypes"
   ]
  },
  {
   "cell_type": "markdown",
   "metadata": {},
   "source": [
    "# General description of numeric and categorical variables"
   ]
  },
  {
   "cell_type": "code",
   "execution_count": null,
   "metadata": {},
   "outputs": [],
   "source": [
    "# Describe length of rows and columns\n",
    "all_apps.shape"
   ]
  },
  {
   "cell_type": "code",
   "execution_count": null,
   "metadata": {},
   "outputs": [],
   "source": [
    "# Describe numerical variables for all the dataset\n",
    "all_apps.describe()"
   ]
  },
  {
   "cell_type": "code",
   "execution_count": null,
   "metadata": {
    "scrolled": true
   },
   "outputs": [],
   "source": [
    "# Describe categorical variables\n",
    "all_apps.describe(include=['object','datetime', 'bool'])"
   ]
  },
  {
   "cell_type": "code",
   "execution_count": null,
   "metadata": {
    "scrolled": true
   },
   "outputs": [],
   "source": [
    "# Nan or missing values for all dataset\n",
    "missing_data = all_apps.isnull()\n",
    "total = missing_data.sum().sort_values(ascending=False)\n",
    "percent = (missing_data.sum()/missing_data.count()).sort_values(ascending=False)\n",
    "summary_missing_data = pd.concat([total, percent], axis=1, keys=['Total', 'Missing Percent'])\n",
    "summary_missing_data['Missing Percent'] = summary_missing_data['Missing Percent'].apply(lambda x: x * 100)\n",
    "summary_missing_data"
   ]
  },
  {
   "cell_type": "markdown",
   "metadata": {},
   "source": [
    "## Different types of values per categorical variables"
   ]
  },
  {
   "cell_type": "code",
   "execution_count": null,
   "metadata": {},
   "outputs": [],
   "source": [
    "def get_number_values_categorical_values(df, column_name:str, high:List[str],low:List[str]):\n",
    "    print(\"-/-\"*5)\n",
    "    print(f\"Column: {column_name}\")\n",
    "    \n",
    "    try:\n",
    "        column = df[column_name]\n",
    "        number_values = column.nunique()\n",
    "\n",
    "    except:\n",
    "        #This catch is useful when genre is list type\n",
    "        column = df[column_name].astype(str)\n",
    "        number_values = column.nunique()\n",
    "        \n",
    "    print(f\"Number of different values {number_values}\")\n",
    "    \n",
    "    if number_values < 100 and \"retrieved\" not in column_name:\n",
    "        print(\"\\n\")\n",
    "        print(\"Values:\")\n",
    "        print(f\"{column.unique()}\")\n",
    "        print(\"\\n\")\n",
    "        \n",
    "        low.append(column_name)\n",
    "    else:\n",
    "        high.append(column_name)\n",
    "    print(\"-/-\"*5)\n",
    "\n",
    "high_cardinality = []\n",
    "low_cardinality = []\n",
    "columns_categorical = all_apps.select_dtypes(include=['object','datetime', 'bool']).columns\n",
    "\n",
    "for column in columns_categorical:\n",
    "    get_number_values_categorical_values(all_apps,column,high_cardinality,low_cardinality)\n",
    "\n",
    "print(len(high_cardinality), len(low_cardinality))"
   ]
  },
  {
   "cell_type": "markdown",
   "metadata": {},
   "source": [
    "# Subset of selected variables"
   ]
  },
  {
   "cell_type": "code",
   "execution_count": null,
   "metadata": {},
   "outputs": [],
   "source": [
    "two_weeks = {\n",
    "    1:1,2:1,3:2,4:2,5:3,6:3,7:4,8:4,\n",
    "    9:5,10:5,11:6,12:6,13:7,14:7,15:8,16:8,\n",
    "    17:9,18:9,19:10,20:10,21:11,22:11,23:12,24:12,\n",
    "    25:13,26:13,27:14,28:14,29:15,30:15,\n",
    "}\n",
    "\n",
    "three_weeks = {\n",
    "    1:1,2:1,3:1,4:2,5:2,6:2,7:3,8:3,9:3,10:4,11:4,12:4,\n",
    "    13:5,14:5,15:5,16:6,17:6,18:6,19:7,20:7,21:7,\n",
    "    22:8,23:8,24:8,25:9,26:9,27:9,28:10,29:10,30:10,\n",
    "}\n",
    "\n",
    "five_weeks = {\n",
    "    1:1,2:1,3:1,4:1,5:1,6:2,7:2,8:2,9:2,10:2,\n",
    "    11:3,12:3,13:3,14:3,15:3,16:4,17:4,18:4,19:4,20:4,\n",
    "    21:5,22:5,23:5,24:5,25:5,26:6,27:6,28:6,29:6,30:6,\n",
    "}\n",
    "\n",
    "six_weeks = {\n",
    "    1:1,2:1,3:1,4:1,5:1,6:1,7:2,8:2,9:2,10:2,11:2,12:2,\n",
    "    13:3,14:3,15:3,16:3,17:3,18:3,19:4,20:4,21:4,22:4,23:4,24:4,\n",
    "    25:5,26:5,27:5,28:5,29:5,30:5,\n",
    "}\n",
    "\n",
    "ten_weeks = {\n",
    "    1:1,2:1,3:1,4:1,5:1,6:1,7:1,8:1,9:1,10:1,\n",
    "    11:2,12:2,13:2,14:2,15:2,16:2,17:2,18:2,19:2,20:2,\n",
    "    21:3,22:3,23:3,24:3,25:3,26:3,27:3,28:3,29:3,30:3,\n",
    "}\n",
    "\n",
    "\n",
    "def define_weeks(num_week, time):\n",
    "    if '2_week'== time:\n",
    "        return two_weeks[num_week]\n",
    "    elif '3_week' == time:\n",
    "        return three_weeks[num_week]\n",
    "    elif '5_week' == time:\n",
    "        return five_weeks[num_week]\n",
    "    elif '6_week' == time:\n",
    "        return six_weeks[num_week]\n",
    "    elif '10_week' == time:\n",
    "        return ten_weeks[num_week]\n",
    "    elif '15_week' == time:\n",
    "        return 1 if num_week<16 else 2 "
   ]
  },
  {
   "cell_type": "code",
   "execution_count": null,
   "metadata": {
    "scrolled": true
   },
   "outputs": [],
   "source": [
    "# Length of name, summary and description\n",
    "all_apps['len_name'] = all_apps['name'].str.len()\n",
    "all_apps['len_summary'] = all_apps['summary'].str.len()\n",
    "all_apps['len_description'] = all_apps['description'].str.len()\n",
    "\n",
    "# Transform num installs from string to number\n",
    "fixed_num = all_apps[['fixed_num_installs']]\n",
    "fixed_num['fixed_num_installs_num'] = fixed_num['fixed_num_installs'].str.replace(',','')\n",
    "fixed_num['fixed_num_installs_num'] = fixed_num['fixed_num_installs_num'].str.replace('+','')\n",
    "fixed_num['fixed_num_installs_num'] = pd.to_numeric(fixed_num['fixed_num_installs_num'])\n",
    "\n",
    "all_apps['fixed_num_installs_num'] = fixed_num['fixed_num_installs_num']\n",
    "\n",
    "times = ['2_week', '3_week', '5_week', '6_week', '10_week', '15_week']\n",
    "for t in times:\n",
    "    all_apps[t] = all_apps['num_week'].apply(lambda x: define_weeks(x, t))\n",
    "\n",
    "only_vars = all_apps[['id', 'len_name', 'len_summary', 'len_description', \n",
    "                      'last_update_fixed', 'content_rating', 'rating', 'rating_1','rating_2', \n",
    "                      'rating_3', 'rating_4', 'rating_5', 'fixed_num_installs', \n",
    "                      'fixed_num_installs_num', 'has_whats_new', 'last_update_days_fixed', \n",
    "                      'macro_android_version', 'num_week', 'price', 'price_usd', 'unified_genre', \n",
    "                      'clean_category', 'top', 'country', '2_week', '3_week', '5_week', '6_week', '10_week',\n",
    "                      '15_week', 'General','Flag','Delete','imputed', 'Delete_bo','Delete_br','Delete_de',\n",
    "                      'Delete_usa']]\n",
    "\n",
    "only_vars.head(5)"
   ]
  },
  {
   "cell_type": "markdown",
   "metadata": {},
   "source": [
    "## Subset description of numeric and categorical variables"
   ]
  },
  {
   "cell_type": "code",
   "execution_count": null,
   "metadata": {},
   "outputs": [],
   "source": [
    "# Describe length of rows and columns\n",
    "only_vars.shape"
   ]
  },
  {
   "cell_type": "code",
   "execution_count": null,
   "metadata": {},
   "outputs": [],
   "source": [
    "# Describe numerical variables\n",
    "only_vars.describe()"
   ]
  },
  {
   "cell_type": "code",
   "execution_count": null,
   "metadata": {},
   "outputs": [],
   "source": [
    "# Describe categorical variables\n",
    "only_vars.describe(include=['object','datetime', 'bool'])"
   ]
  },
  {
   "cell_type": "code",
   "execution_count": null,
   "metadata": {
    "scrolled": true
   },
   "outputs": [],
   "source": [
    "# Nan or missing values for subset\n",
    "missing_data = only_vars.isnull()\n",
    "total = missing_data.sum().sort_values(ascending=False)\n",
    "percent = (missing_data.sum()/missing_data.count()).sort_values(ascending=False)\n",
    "summary_missing_data = pd.concat([total, percent], axis=1, keys=['Total', 'Missing Percent'])\n",
    "summary_missing_data['Missing Percent'] = summary_missing_data['Missing Percent'].apply(lambda x: x * 100)\n",
    "summary_missing_data"
   ]
  },
  {
   "cell_type": "markdown",
   "metadata": {},
   "source": [
    "### Functions"
   ]
  },
  {
   "cell_type": "markdown",
   "metadata": {},
   "source": [
    "#### To add weight column"
   ]
  },
  {
   "cell_type": "code",
   "execution_count": null,
   "metadata": {},
   "outputs": [],
   "source": [
    "def generate_weight_dict(df: pd.DataFrame) -> dict:\n",
    "    weight = df['id'].to_list()\n",
    "    w_dict = {}\n",
    "\n",
    "    for w in weight:\n",
    "        if w in w_dict:\n",
    "            w_dict[w] += 1\n",
    "        else:\n",
    "            w_dict[w] = 1\n",
    "\n",
    "    return w_dict\n",
    "\n",
    "def generate_weight_column(df: pd.DataFrame, parameter: str) -> pd.DataFrame:\n",
    "    w_dict = generate_weight_dict(df)\n",
    "    w_name = f'weight_{parameter}'\n",
    "    amount_name = f'amount_apps_{parameter}'\n",
    "    df[w_name] = df['id'].apply(lambda idx: 1/w_dict[idx])\n",
    "    df[amount_name] = df['id'].apply(lambda idx: w_dict[idx])\n",
    "    \n",
    "    return df"
   ]
  },
  {
   "cell_type": "markdown",
   "metadata": {},
   "source": [
    "#### To plot categorical variables"
   ]
  },
  {
   "cell_type": "code",
   "execution_count": null,
   "metadata": {},
   "outputs": [],
   "source": [
    "def generate_dict(values_list: list) -> dict:\n",
    "    final_dict = {}\n",
    "    for value in values_list:\n",
    "        if value in final_dict:\n",
    "            final_dict[value] += 1\n",
    "        else:\n",
    "            final_dict[value] = 1\n",
    "    \n",
    "    return final_dict\n",
    "\n",
    "def generate_graph(values_dict: dict, feature: str):\n",
    "    plt.rcdefaults()\n",
    "    fig, ax = plt.subplots()\n",
    "\n",
    "    values_dict = OrderedDict(sorted(values_dict.items(), key=lambda x: x[1], reverse=True))\n",
    "\n",
    "    values_dict_keys = values_dict.keys()\n",
    "    y_pos = np.arange(len(values_dict_keys))\n",
    "    values_dict_values = values_dict.values()\n",
    "\n",
    "    ax.barh(y_pos, values_dict_values, align='center', color=(0.2, 0.2, 0.2, 0.5))\n",
    "    ax.set_yticks(y_pos)\n",
    "    ax.set_yticklabels(values_dict_keys)\n",
    "    ax.invert_yaxis() \n",
    "    ax.set_xlabel(feature.title())\n",
    "    ax.set_title(f'{feature.title()} Distribution')\n",
    "    \n",
    "def generate_pie_chart(variable_dict: dict, feature: str):\n",
    "    fig1, ax1 = plt.subplots()\n",
    "    patches, texts, autotexts = ax1.pie(variable_dict.values(), labels=variable_dict.keys(), autopct='%1.1f%%',\n",
    "            shadow=True, startangle=90, colors=['#bebebe','#606060'])\n",
    "    for autotext in autotexts:\n",
    "        autotext.set_color('black')\n",
    "    #draw circle\n",
    "    centre_circle = plt.Circle((0,0),0.70,fc='white')\n",
    "    fig = plt.gcf()\n",
    "    fig.gca().add_artist(centre_circle)\n",
    "    # Equal aspect ratio ensures that pie is drawn as a circle\n",
    "\n",
    "    plt.tight_layout()    \n",
    "    ax1.axis('equal')\n",
    "    ax1.set_title(f'{feature.title()} Distribution')\n",
    "    plt.show()\n",
    "    \n",
    "def generate_horizontal_bar_chart(list_dicts: List[dict], list_labels: list, variable: str):\n",
    "    fig = go.Figure()\n",
    "    buttons = []\n",
    "\n",
    "    for idx, (dict_num, label) in enumerate(zip(list_dicts, list_labels)):\n",
    "        dict_current = OrderedDict(sorted(dict_num.items(), key=lambda x: x[1], reverse=True))\n",
    "        visible = [False]*len(list_labels)\n",
    "        visible[idx]=True\n",
    "\n",
    "        fig.add_trace(\n",
    "            go.Bar(\n",
    "                x=list(dict_current.values()),\n",
    "                y=list(dict_current.keys()),\n",
    "                name=str(label),\n",
    "                orientation='h'\n",
    "            )\n",
    "        )\n",
    "\n",
    "        buttons.append(dict(\n",
    "            args=[{\"visible\": visible}],\n",
    "            label=str(label),\n",
    "            method='update'\n",
    "        ))\n",
    "\n",
    "    buttons.append(dict(\n",
    "        args=[{\"visible\": [True]*len(list_labels)}],\n",
    "        label='All',\n",
    "        method='update'\n",
    "    ))\n",
    "\n",
    "    # Add dropdown\n",
    "    fig.update_layout(\n",
    "        title=variable,\n",
    "        updatemenus=[\n",
    "            dict(\n",
    "                buttons=list(buttons),\n",
    "                direction=\"down\",\n",
    "                pad={\"r\": 10, \"t\": 10},\n",
    "                showactive=True,\n",
    "                x=0.1,\n",
    "                xanchor=\"left\",\n",
    "                y=1.1,\n",
    "                yanchor=\"top\"\n",
    "            ),\n",
    "        ]\n",
    "    )\n",
    "\n",
    "    fig.show()\n",
    "    \n",
    "def generate_horizontal_bar_chart_dropdown_2(list_dicts: List[dict], list_labels: list, variable: str):\n",
    "    fig = go.Figure()\n",
    "    buttons = []\n",
    "    buttons_2 = []\n",
    "\n",
    "    for idx, (dict_num, label) in enumerate(zip(list_dicts, list_labels)):\n",
    "        dict_current = OrderedDict(sorted(dict_num.items(), key=lambda x: x[1], reverse=True))\n",
    "        visible = [False]*len(list_labels)\n",
    "        visible[idx]=True\n",
    "\n",
    "        fig.add_trace(\n",
    "            go.Bar(\n",
    "                x=list(dict_current.values()),\n",
    "                y=list(dict_current.keys()),\n",
    "                name=str(label),\n",
    "                orientation='h'\n",
    "            )\n",
    "        )\n",
    "\n",
    "        buttons.append(dict(\n",
    "            args=[{\"visible\": visible}],\n",
    "            label=str(label),\n",
    "            method='update'\n",
    "        ))\n",
    "\n",
    "    buttons.append(dict(\n",
    "        args=[{\"visible\": [True]*len(list_labels)}],\n",
    "        label='All',\n",
    "        method='update'\n",
    "    ))\n",
    "\n",
    "    # Add dropdown\n",
    "    fig.update_layout(\n",
    "        title=variable,\n",
    "        updatemenus=[\n",
    "            dict(\n",
    "                buttons=list(buttons),\n",
    "                direction=\"down\",\n",
    "                pad={\"r\": 10, \"t\": 10},\n",
    "                showactive=True,\n",
    "                x=0.1,\n",
    "                xanchor=\"left\",\n",
    "                y=1.1,\n",
    "                yanchor=\"top\"\n",
    "            ),\n",
    "        ]\n",
    "    )\n",
    "\n",
    "    fig.show()\n",
    "    \n",
    "    \n",
    "def generate_pie_chart_dropdown(list_dicts: List[dict], list_labels: list, variable: str):\n",
    "    fig = go.Figure()\n",
    "    buttons = []\n",
    "\n",
    "    for idx, (dict_num, label) in enumerate(zip(list_dicts, list_labels)):\n",
    "        dict_current = OrderedDict(sorted(dict_num.items(), key=lambda x: x[1], reverse=True))\n",
    "        visible = [False]*len(list_labels)\n",
    "        visible[idx]=True\n",
    "\n",
    "        fig.add_trace(\n",
    "            go.Pie(\n",
    "                values=list(dict_current.values()),\n",
    "                labels=list(dict_current.keys()),\n",
    "                name=label\n",
    "            )\n",
    "        )\n",
    "\n",
    "        buttons.append(dict(\n",
    "            args=[{\"visible\": visible}],\n",
    "            label=label,\n",
    "            method='update'\n",
    "        ))\n",
    "\n",
    "    # Add dropdown\n",
    "    fig.update_layout(\n",
    "        title=variable,\n",
    "        updatemenus=[\n",
    "            dict(\n",
    "                buttons=list(buttons),\n",
    "                direction=\"down\",\n",
    "                pad={\"r\": 10, \"t\": 10},\n",
    "                showactive=True,\n",
    "                x=0.1,\n",
    "                xanchor=\"left\",\n",
    "                y=1.1,\n",
    "                yanchor=\"top\"\n",
    "            ),\n",
    "        ]\n",
    "    )\n",
    "\n",
    "    plotly.offline.plot(fig, filename= f'{variable}-rq2-locf.html', auto_open=False)\n",
    "    fig.show()"
   ]
  },
  {
   "cell_type": "markdown",
   "metadata": {},
   "source": [
    "#### To get numerical variables stats"
   ]
  },
  {
   "cell_type": "code",
   "execution_count": null,
   "metadata": {},
   "outputs": [],
   "source": [
    "def get_stats(variable: str, data: dict, df_big: pd.DataFrame, weight_name: str, group: str):\n",
    "    df_variable = df_big[[variable, weight_name]]\n",
    "    df_variable = df_variable.dropna()\n",
    "    w_mean = (df_variable[variable]*df_variable[weight_name]).sum()/df_variable[weight_name].sum() if df_variable[weight_name].sum() > 0 else None\n",
    "    mean = df_variable[variable].mean()\n",
    "    min = df_variable[variable].min()\n",
    "    max = df_variable[variable].max()\n",
    "    median = df_variable[variable].median()\n",
    "    std = df_variable[variable].std()\n",
    "    q1 = df_variable[variable].quantile(q=0.25)\n",
    "    q3 = df_variable[variable].quantile(q=0.75)\n",
    "\n",
    "    data['variable'].append(variable)\n",
    "    data['group'].append(group)\n",
    "    data['weighted_mean'].append(w_mean)\n",
    "    data['mean'].append(mean)\n",
    "    data['min'].append(min)\n",
    "    data['q1'].append(q1)\n",
    "    data['median'].append(median)\n",
    "    data['q3'].append(q3)\n",
    "    data['max'].append(max)\n",
    "    data['std'].append(std)"
   ]
  },
  {
   "cell_type": "markdown",
   "metadata": {},
   "source": [
    "#### To plot numerical variables"
   ]
  },
  {
   "cell_type": "code",
   "execution_count": null,
   "metadata": {},
   "outputs": [],
   "source": [
    "def plot_violin(df_big: pd.DataFrame, variable: str, x_axis: str, score: float, hue_var=''):\n",
    "    df = df_big[[variable, x_axis]]\n",
    "    df = df.dropna(subset=[variable])\n",
    "    z_scores = np.abs(zscore(df[variable]))\n",
    "    filtered_entries = np.where(z_scores < score)\n",
    "    df = df.iloc[filtered_entries]\n",
    "    plt.figure()\n",
    "    if hue_var != '':\n",
    "        sns.violinplot(x=x_axis, y=variable, hue=hue_var, data=df)\n",
    "    else:\n",
    "        sns.violinplot(x=x_axis, y=variable, data=df)\n",
    "        \n",
    "def plot_boxplot(df_big: pd.DataFrame, variable: str, x_axis: str, score: float, hue_var=''):\n",
    "    if hue_var != '':\n",
    "        df = df_big[[variable, x_axis, hue_var]]\n",
    "    else:\n",
    "        df = df_big[[variable, x_axis]]\n",
    "\n",
    "    df = df.dropna(subset=[variable])\n",
    "    z_scores = np.abs(zscore(df[variable]))\n",
    "    filtered_entries = np.where(z_scores < score)\n",
    "    df = df.iloc[filtered_entries]\n",
    "    plt.figure()\n",
    "    \n",
    "    if hue_var != '':\n",
    "        sns.boxplot(x=x_axis, y=variable, hue=hue_var, data=df, orient=\"v\")\n",
    "    else:\n",
    "        sns.boxplot(x=x_axis, y=variable, data=df, orient=\"v\")\n",
    "        \n",
    "def plot_boxplot_horizontal(df_big: pd.DataFrame, variable: str, y_axis: str, score: float, hue_var=''):\n",
    "    if hue_var != '':\n",
    "        df = df_big[[variable, variable, hue_var]]\n",
    "    else:\n",
    "        df = df_big[[variable, variable]]\n",
    "    df = df.dropna(subset=[variable])\n",
    "    z_scores = np.abs(zscore(df[variable]))\n",
    "    filtered_entries = np.where(z_scores < score)\n",
    "    df = df.iloc[filtered_entries]\n",
    "    plt.figure()\n",
    "    \n",
    "    if hue_var != '':\n",
    "        sns.boxplot(x=variable, y=y_axis, hue=hue_var, data=df, orient=\"h\")\n",
    "    else:\n",
    "        sns.boxplot(x=variable, y=y_axis, data=df, orient=\"h\")\n",
    "        \n",
    "def plot_boxplot_single(df_big: pd.DataFrame, variable: str, score: float):\n",
    "    df = df_big[[variable]]\n",
    "    df = df.dropna(subset=[variable])\n",
    "    z_scores = np.abs(zscore(df[variable]))\n",
    "    filtered_entries = np.where(z_scores < score)\n",
    "    df = df.iloc[filtered_entries]\n",
    "    plt.figure()\n",
    "    \n",
    "    sns.boxplot(y=variable, data=df) "
   ]
  },
  {
   "cell_type": "markdown",
   "metadata": {},
   "source": [
    "#### To plot numerical variables in gray palette"
   ]
  },
  {
   "cell_type": "code",
   "execution_count": null,
   "metadata": {},
   "outputs": [],
   "source": [
    "def plot_boxplot_gray(df_big: pd.DataFrame, variable: str, x_axis: str, score: float, hue_var=''):\n",
    "    \n",
    "    if hue_var != '':\n",
    "        df = df_big[[variable, x_axis, hue_var]]\n",
    "    else:\n",
    "        df = df_big[[variable, x_axis]]\n",
    "    \n",
    "    df = df.dropna(subset=[variable])\n",
    "    z_scores = np.abs(zscore(df[variable]))\n",
    "    filtered_entries = np.where(z_scores < score)\n",
    "    df = df.iloc[filtered_entries]\n",
    "    plt.figure(figsize=(16, 10))\n",
    "    sns.set_style(\"whitegrid\")\n",
    "    \n",
    "    if hue_var != '':\n",
    "        ax = sns.boxplot(x=x_axis, y=variable, hue=hue_var, data=df, orient=\"v\", palette=seq_col_brew[1:])\n",
    "    else:\n",
    "        ax = sns.boxplot(x=x_axis, y=variable, data=df, orient=\"v\", palette=seq_col_brew[1:])\n",
    "        \n",
    "from matplotlib.patches import PathPatch\n",
    "\n",
    "def adjust_box_widths(g, fac):\n",
    "    \"\"\"\n",
    "    Adjust the withs of a seaborn-generated boxplot.\n",
    "    \"\"\"\n",
    "\n",
    "    # iterating through Axes instances\n",
    "    for ax in g.axes:\n",
    "\n",
    "        # iterating through axes artists:\n",
    "        for c in ax.get_children():\n",
    "\n",
    "            # searching for PathPatches\n",
    "            if isinstance(c, PathPatch):\n",
    "                # getting current width of box:\n",
    "                p = c.get_path()\n",
    "                verts = p.vertices\n",
    "                verts_sub = verts[:-1]\n",
    "                xmin = np.min(verts_sub[:, 1])\n",
    "                xmax = np.max(verts_sub[:, 1])\n",
    "                xmid = 0.5*(xmin+xmax)\n",
    "                xhalf = 0.5*(xmax - xmin)\n",
    "\n",
    "                # setting new width of box\n",
    "                xmin_new = xmid-fac*xhalf\n",
    "                xmax_new = xmid+fac*xhalf\n",
    "                verts_sub[verts_sub[:, 1] == xmin, 1] = xmin_new\n",
    "                verts_sub[verts_sub[:, 1] == xmax, 1] = xmax_new\n",
    "\n",
    "                # setting new width of median line\n",
    "                for l in ax.lines:\n",
    "                    if np.all(l.get_xdata() == [xmin, xmax]):\n",
    "                        l.set_xdata([xmin_new, xmax_new])\n",
    "        \n",
    "        \n",
    "def plot_boxplot_horizontal_gray(df_big: pd.DataFrame, variable: str, x_axis: str, score: float, hue_var=''):\n",
    "    \n",
    "    if hue_var != '':\n",
    "        df = df_big[[variable, x_axis, hue_var]]\n",
    "    else:\n",
    "        df = df_big[[variable, x_axis]]\n",
    "    df = df.dropna(subset=[variable])\n",
    "    z_scores = np.abs(zscore(df[variable]))\n",
    "    filtered_entries = np.where(z_scores < score)\n",
    "    df = df.iloc[filtered_entries]\n",
    "    fig = plt.figure(figsize=(16, 10))\n",
    "    sns.set_style(\"whitegrid\")\n",
    "    \n",
    "    if hue_var != '':\n",
    "        ax = sns.boxplot(x=variable, y=x_axis, hue=hue_var, data=df, orient=\"h\", palette=seq_col_brew[1:], width=0.4)\n",
    "        adjust_box_widths(fig, 0.8)\n",
    "    else:\n",
    "        ax = sns.boxplot(x=variable, y=x_axis, data=df, orient=\"h\", palette=seq_col_brew[1:], width=0.2)\n",
    "    \n",
    "    size=15\n",
    "    params = {'legend.fontsize': 'large',\n",
    "          'figure.figsize': (20,8),\n",
    "          'axes.labelsize': size,\n",
    "          'axes.titlesize': size,\n",
    "          'xtick.labelsize': size*0.95,\n",
    "          'ytick.labelsize': size*0.95,\n",
    "          'axes.titlepad': 25}\n",
    "    plt.rcParams.update(params)\n",
    "        \n",
    "def plot_boxplot_single_gray(df_big: pd.DataFrame, variable: str, score: float):\n",
    "    df = df_big[[variable]]\n",
    "    df = df.dropna(subset=[variable])\n",
    "    z_scores = np.abs(zscore(df[variable]))\n",
    "    filtered_entries = np.where(z_scores < score)\n",
    "    df = df.iloc[filtered_entries]\n",
    "    plt.figure(figsize=(16, 10))\n",
    "    sns.set_style(\"whitegrid\")\n",
    "    \n",
    "    ax = sns.boxplot(x=variable, data=df, palette=seq_col_brew[1:], width=0.5)\n",
    "    for box in ax.artists:\n",
    "        box.set_facecolor(\"white\")"
   ]
  },
  {
   "cell_type": "markdown",
   "metadata": {},
   "source": [
    "#### To generate possible pairs"
   ]
  },
  {
   "cell_type": "code",
   "execution_count": null,
   "metadata": {},
   "outputs": [],
   "source": [
    "def generate_pairs(source: list) -> list:\n",
    "    result = []\n",
    "    for p1 in range(len(source)):\n",
    "        for p2 in range(p1+1,len(source)):\n",
    "            result.append([source[p1],source[p2]])\n",
    "    return result"
   ]
  },
  {
   "cell_type": "markdown",
   "metadata": {},
   "source": [
    "#### To generate pvalues and cliffs delta"
   ]
  },
  {
   "cell_type": "code",
   "execution_count": null,
   "metadata": {},
   "outputs": [],
   "source": [
    "def generate_pval_dataframe(list_keys: list, df_big: pd.DataFrame, value: str, num_variable: str) -> pd.DataFrame:\n",
    "    df = pd.DataFrame(columns=['c1', 'c2', 'pvalue', 'd', 'size'])\n",
    "    list_pairs = generate_pairs(list_keys)\n",
    "    \n",
    "    for pair in list_pairs:\n",
    "        c1 = pair[0]\n",
    "        c2 = pair[1]\n",
    "        \n",
    "        x = df_big.loc[df_big[value] == c1, num_variable].to_list()\n",
    "        y = df_big.loc[df_big[value] == c2, num_variable].to_list()\n",
    "        \n",
    "        Hmw, pval = mannwhitneyu(x, y, alternative='two-sided')\n",
    "        d, size = cliffsDelta(x, y)\n",
    "        \n",
    "        df = df.append(\n",
    "            {'c1': c1, \n",
    "             'c2': c2, \n",
    "             'pvalue': pval, \n",
    "             'd': d, \n",
    "             'size': size}, ignore_index=True)\n",
    "        \n",
    "    reject, pval_corrected, a_s, a_b = multipletests(df['pvalue'].to_list(), alpha=0.05, method='holm', is_sorted=False, returnsorted=False)\n",
    "    df['reject'] = reject\n",
    "    df['pvalue_corrected'] = pval_corrected\n",
    "    \n",
    "    return df    \n",
    "\n",
    "def generate_pval_dataframe_two(list_keys: list, df_big: pd.DataFrame, value_1: str, value_2:str, num_variable: str) -> pd.DataFrame:\n",
    "    df = pd.DataFrame(columns=['c1', 'c2', 'pvalue', 'd', 'size'])\n",
    "    list_pairs = generate_pairs(list_keys)\n",
    "    \n",
    "    for pair in list_pairs:\n",
    "        c1 = pair[0]\n",
    "        c1_1 = c1[0]\n",
    "        c1_2 = c1[1]\n",
    "        \n",
    "        c2 = pair[1]\n",
    "        c2_1 = c2[0]\n",
    "        c2_2 = c2[1]\n",
    "        \n",
    "        x = df_big.loc[(df_big[value_1] == c1_1) & (df_big[value_2] == c1_2), num_variable].to_list()\n",
    "        y = df_big.loc[(df_big[value_1] == c2_1) & (df_big[value_2] == c2_2), num_variable].to_list()\n",
    "        \n",
    "        Hmw, pval = mannwhitneyu(x, y, alternative='two-sided')\n",
    "        d, size = cliffsDelta(x, y)\n",
    "        \n",
    "        df = df.append(\n",
    "            {'c1': c1, \n",
    "             'c2': c2, \n",
    "             'pvalue': pval, \n",
    "             'd': d, \n",
    "             'size': size}, ignore_index=True)\n",
    "        \n",
    "    reject, pval_corrected, a_s, a_b = multipletests(df['pvalue'].to_list(), alpha=0.05, method='holm', is_sorted=False, returnsorted=False)\n",
    "    df['reject'] = reject\n",
    "    df['pvalue_corrected'] = pval_corrected\n",
    "    \n",
    "    return df    "
   ]
  },
  {
   "cell_type": "markdown",
   "metadata": {},
   "source": [
    "# Analysis"
   ]
  },
  {
   "cell_type": "code",
   "execution_count": null,
   "metadata": {},
   "outputs": [],
   "source": [
    "# Rename columns\n",
    "only_vars.columns = ['id','len_name','len_summary', 'len_description', 'last_update_date', \n",
    "                     'content_rating', 'rating', 'rating_1', 'rating_2', 'rating_3', 'rating_4', 'rating_5',\n",
    "                     'num_installs', 'num_installs_num', 'has_whats_new', 'last_update_days', 'android_version',\n",
    "                     'num_week', 'price', 'price_usd', 'genre', 'category', 'top', 'country','2_week', '3_week', \n",
    "                     '5_week', '6_week', '10_week', '15_week', 'General','Flag','Delete','imputed', 'Delete_bo',\n",
    "                     'Delete_br','Delete_de','Delete_usa']\n",
    "\n",
    "only_vars.head(3)"
   ]
  },
  {
   "cell_type": "markdown",
   "metadata": {},
   "source": [
    "## General"
   ]
  },
  {
   "cell_type": "code",
   "execution_count": null,
   "metadata": {},
   "outputs": [],
   "source": [
    "# Save copy of only vars \n",
    "only_vars_original = only_vars.copy()"
   ]
  },
  {
   "cell_type": "code",
   "execution_count": null,
   "metadata": {
    "scrolled": true
   },
   "outputs": [],
   "source": [
    "# Add weight column based on app id\n",
    "only_vars = generate_weight_column(only_vars, 'general')\n",
    "only_vars.head(3)"
   ]
  },
  {
   "cell_type": "markdown",
   "metadata": {},
   "source": [
    "## Categorical variables"
   ]
  },
  {
   "cell_type": "markdown",
   "metadata": {},
   "source": [
    "### Content Rating"
   ]
  },
  {
   "cell_type": "code",
   "execution_count": null,
   "metadata": {
    "scrolled": true
   },
   "outputs": [],
   "source": [
    "content_rating = only_vars['content_rating']\n",
    "content_rating_dict = generate_dict(content_rating.to_list())\n",
    "pp.pprint(content_rating_dict)\n",
    "generate_graph(content_rating_dict, 'content rating')"
   ]
  },
  {
   "cell_type": "markdown",
   "metadata": {},
   "source": [
    "### Android Version"
   ]
  },
  {
   "cell_type": "code",
   "execution_count": null,
   "metadata": {
    "scrolled": true
   },
   "outputs": [],
   "source": [
    "macro_android_version = only_vars['android_version']\n",
    "macro_android_version_dict = generate_dict(macro_android_version.to_list())\n",
    "pp.pprint(macro_android_version_dict)\n",
    "generate_graph(macro_android_version_dict, 'android version')"
   ]
  },
  {
   "cell_type": "markdown",
   "metadata": {},
   "source": [
    "### Genre"
   ]
  },
  {
   "cell_type": "code",
   "execution_count": null,
   "metadata": {
    "scrolled": true
   },
   "outputs": [],
   "source": [
    "genre = only_vars['genre']\n",
    "genre_dict = generate_dict(genre.to_list())\n",
    "pp.pprint(genre_dict)\n",
    "generate_graph(genre_dict, 'genre')"
   ]
  },
  {
   "cell_type": "markdown",
   "metadata": {},
   "source": [
    "### Has What's New"
   ]
  },
  {
   "cell_type": "code",
   "execution_count": null,
   "metadata": {
    "scrolled": true
   },
   "outputs": [],
   "source": [
    "has_whats_new = only_vars['has_whats_new']\n",
    "has_whats_new_dict = generate_dict(has_whats_new.to_list())\n",
    "pp.pprint(has_whats_new_dict)\n",
    "generate_pie_chart(has_whats_new_dict, \"has whats new\")"
   ]
  },
  {
   "cell_type": "markdown",
   "metadata": {},
   "source": [
    "### Num Installs"
   ]
  },
  {
   "cell_type": "code",
   "execution_count": null,
   "metadata": {
    "scrolled": true
   },
   "outputs": [],
   "source": [
    "fixed_num_installs = only_vars['num_installs']\n",
    "fixed_num_installs_dict = generate_dict(fixed_num_installs.to_list())\n",
    "pp.pprint(fixed_num_installs_dict)\n",
    "generate_graph(fixed_num_installs_dict, 'num installs')"
   ]
  },
  {
   "cell_type": "markdown",
   "metadata": {},
   "source": [
    "## Numerical variables"
   ]
  },
  {
   "cell_type": "markdown",
   "metadata": {},
   "source": [
    "### Numerical variables stats"
   ]
  },
  {
   "cell_type": "code",
   "execution_count": null,
   "metadata": {},
   "outputs": [],
   "source": [
    "numeric_variables = ['len_name', 'len_summary', 'len_description', \n",
    "                     'rating', 'rating_1','rating_2', 'rating_3', 'rating_4', 'rating_5', \n",
    "                     'last_update_days', 'price_usd','num_installs_num']"
   ]
  },
  {
   "cell_type": "code",
   "execution_count": null,
   "metadata": {
    "scrolled": true
   },
   "outputs": [],
   "source": [
    "data_general = {\n",
    "    'variable': [],\n",
    "    'group':[],\n",
    "    'weighted_mean': [],\n",
    "    'mean': [],\n",
    "    'min': [],\n",
    "    'q1': [],\n",
    "    'median': [],\n",
    "    'q3': [],\n",
    "    'max': [],\n",
    "    'std': []\n",
    "}\n",
    "\n",
    "for nv in numeric_variables:\n",
    "    get_stats(nv, data_general, only_vars, 'weight_general', 'general')"
   ]
  },
  {
   "cell_type": "code",
   "execution_count": null,
   "metadata": {
    "scrolled": false
   },
   "outputs": [],
   "source": [
    "pd.options.display.float_format = \"{:.2f}\".format\n",
    "numeric_general = pd.DataFrame(data_general)\n",
    "numeric_general"
   ]
  },
  {
   "cell_type": "code",
   "execution_count": null,
   "metadata": {
    "scrolled": true
   },
   "outputs": [],
   "source": [
    "for nv in numeric_variables:\n",
    "    plot_boxplot_single_gray(only_vars, nv, 2)"
   ]
  },
  {
   "cell_type": "markdown",
   "metadata": {},
   "source": [
    "## Grouped by week"
   ]
  },
  {
   "cell_type": "markdown",
   "metadata": {},
   "source": [
    "### Categorical Variables"
   ]
  },
  {
   "cell_type": "code",
   "execution_count": null,
   "metadata": {},
   "outputs": [],
   "source": [
    "# Make a copy of original only vars\n",
    "only_vars = only_vars_original.copy()"
   ]
  },
  {
   "cell_type": "code",
   "execution_count": null,
   "metadata": {},
   "outputs": [],
   "source": [
    "groups_week = only_vars.groupby(['num_week'])\n",
    "\n",
    "data_week = {\n",
    "    'variable': [],\n",
    "    'group': [],\n",
    "    'weighted_mean': [],\n",
    "    'mean': [],\n",
    "    'min': [],\n",
    "    'q1': [],\n",
    "    'median': [],\n",
    "    'q3': [],\n",
    "    'max': [],\n",
    "    'std': []\n",
    "}\n",
    "\n",
    "content_rating_dicts_week = []\n",
    "android_version_dicts_week = []\n",
    "has_whats_new_dicts_week = []\n",
    "genre_dicts_week = []\n",
    "week_labels = []\n",
    "    \n",
    "# Iterate over week groups to plot variables and get stats\n",
    "for key in groups_week.groups.keys():\n",
    "    df = groups_week.get_group(key)\n",
    "    # Generate a weight column for each group\n",
    "    df = generate_weight_column(df, key)\n",
    "    \n",
    "    week_labels.append(key)\n",
    "    ct_dict = generate_dict(df['content_rating'].to_list())\n",
    "    content_rating_dicts_week.append(ct_dict)\n",
    "    \n",
    "    av_dict = generate_dict(df['android_version'].to_list())\n",
    "    android_version_dicts_week.append(av_dict)\n",
    "    \n",
    "    hw_dict = generate_dict(df['has_whats_new'].to_list())\n",
    "    has_whats_new_dicts_week.append(hw_dict)\n",
    "    \n",
    "    g_dict = generate_dict(df['genre'].to_list())\n",
    "    genre_dicts_week.append(g_dict)\n",
    "    \n",
    "    for nv in numeric_variables:\n",
    "        get_stats(nv, data_week, df, f'weight_{key}', key)"
   ]
  },
  {
   "cell_type": "code",
   "execution_count": null,
   "metadata": {
    "scrolled": false
   },
   "outputs": [],
   "source": [
    "generate_horizontal_bar_chart(content_rating_dicts_week, week_labels, 'Content Rating')"
   ]
  },
  {
   "cell_type": "code",
   "execution_count": null,
   "metadata": {
    "scrolled": true
   },
   "outputs": [],
   "source": [
    "content_rating_week = pd.DataFrame()\n",
    "for label, d in zip(week_labels, content_rating_dicts_week):\n",
    "    d['week'] = label\n",
    "    content_rating_week = content_rating_week.append(d, ignore_index=True)\n",
    "    \n",
    "content_rating_week"
   ]
  },
  {
   "cell_type": "code",
   "execution_count": null,
   "metadata": {},
   "outputs": [],
   "source": [
    "generate_horizontal_bar_chart(android_version_dicts_week, week_labels, 'Android Versions')"
   ]
  },
  {
   "cell_type": "code",
   "execution_count": null,
   "metadata": {
    "scrolled": true
   },
   "outputs": [],
   "source": [
    "android_version_week = pd.DataFrame()\n",
    "for label, d in zip(week_labels, android_version_dicts_week):\n",
    "    d['week'] = label\n",
    "    android_version_week = android_version_week.append(d, ignore_index=True)\n",
    "    \n",
    "android_version_week"
   ]
  },
  {
   "cell_type": "code",
   "execution_count": null,
   "metadata": {},
   "outputs": [],
   "source": [
    "generate_horizontal_bar_chart(genre_dicts_week, week_labels, 'Genre')"
   ]
  },
  {
   "cell_type": "code",
   "execution_count": null,
   "metadata": {
    "scrolled": true
   },
   "outputs": [],
   "source": [
    "genre_week = pd.DataFrame()\n",
    "for label, d in zip(week_labels, genre_dicts_week):\n",
    "    d['week'] = label\n",
    "    genre_week = genre_week.append(d, ignore_index=True)\n",
    "    \n",
    "genre_week"
   ]
  },
  {
   "cell_type": "code",
   "execution_count": null,
   "metadata": {},
   "outputs": [],
   "source": [
    "generate_pie_chart_dropdown(has_whats_new_dicts_week, week_labels, 'Has Whats New')"
   ]
  },
  {
   "cell_type": "code",
   "execution_count": null,
   "metadata": {
    "scrolled": true
   },
   "outputs": [],
   "source": [
    "has_whats_new_week = pd.DataFrame()\n",
    "for label, d in zip(week_labels, has_whats_new_dicts_week):\n",
    "    d['week'] = label\n",
    "    total = d[True] + d[False]\n",
    "    d['percentage_true'] = (d[True]/total)*100\n",
    "    d['percentage_false'] = (d[False]/total)*100\n",
    "    \n",
    "    has_whats_new_week = has_whats_new_week.append(d, ignore_index=True)\n",
    "    \n",
    "has_whats_new_week"
   ]
  },
  {
   "cell_type": "markdown",
   "metadata": {},
   "source": [
    "### Numerical variables"
   ]
  },
  {
   "cell_type": "code",
   "execution_count": null,
   "metadata": {
    "scrolled": true
   },
   "outputs": [],
   "source": [
    "numeric_data_week = pd.DataFrame(data_week)\n",
    "numeric_data_week =numeric_data_week.sort_values(by=['variable', 'group'])\n",
    "\n",
    "numeric_data_week"
   ]
  },
  {
   "cell_type": "code",
   "execution_count": null,
   "metadata": {},
   "outputs": [],
   "source": [
    "var = 'len_name'\n",
    "plot_boxplot_horizontal_gray(only_vars, var, 'num_week', 2)\n",
    "week_pvalues = generate_pval_dataframe(list(groups_week.groups.keys()), only_vars, 'num_week', var)\n",
    "week_pvalues"
   ]
  },
  {
   "cell_type": "code",
   "execution_count": null,
   "metadata": {},
   "outputs": [],
   "source": [
    "len_name_week_df = week_pvalues\n",
    "len_name_week_dict = generate_dict(week_pvalues['size'].to_list())\n",
    "pp.pprint(len_name_week_dict)"
   ]
  },
  {
   "cell_type": "code",
   "execution_count": null,
   "metadata": {},
   "outputs": [],
   "source": [
    "var = 'len_summary'\n",
    "plot_boxplot_horizontal_gray(only_vars, var, 'num_week', 2)\n",
    "week_pvalues = generate_pval_dataframe(list(groups_week.groups.keys()), only_vars, 'num_week', var)\n",
    "week_pvalues"
   ]
  },
  {
   "cell_type": "code",
   "execution_count": null,
   "metadata": {},
   "outputs": [],
   "source": [
    "len_summary_week_df = week_pvalues\n",
    "len_summary_week_dict = generate_dict(week_pvalues['size'].to_list())\n",
    "pp.pprint(len_summary_week_dict)"
   ]
  },
  {
   "cell_type": "code",
   "execution_count": null,
   "metadata": {},
   "outputs": [],
   "source": [
    "var = 'len_description'\n",
    "plot_boxplot_horizontal_gray(only_vars, var, 'num_week', 2)\n",
    "week_pvalues = generate_pval_dataframe(list(groups_week.groups.keys()), only_vars, 'num_week', var)\n",
    "week_pvalues"
   ]
  },
  {
   "cell_type": "code",
   "execution_count": null,
   "metadata": {},
   "outputs": [],
   "source": [
    "len_description_week_df = week_pvalues\n",
    "len_description_week_dict = generate_dict(week_pvalues['size'].to_list())\n",
    "pp.pprint(len_description_week_dict)"
   ]
  },
  {
   "cell_type": "code",
   "execution_count": null,
   "metadata": {},
   "outputs": [],
   "source": [
    "var = 'rating'\n",
    "plot_boxplot_horizontal_gray(only_vars, var, 'num_week', 2)\n",
    "week_pvalues = generate_pval_dataframe(list(groups_week.groups.keys()), only_vars, 'num_week', var)\n",
    "week_pvalues"
   ]
  },
  {
   "cell_type": "code",
   "execution_count": null,
   "metadata": {},
   "outputs": [],
   "source": [
    "len_rating_week_df = week_pvalues\n",
    "len_rating_week_dict = generate_dict(week_pvalues['size'].to_list())\n",
    "pp.pprint(len_rating_week_dict)"
   ]
  },
  {
   "cell_type": "code",
   "execution_count": null,
   "metadata": {},
   "outputs": [],
   "source": [
    "var = 'rating_1'\n",
    "plot_boxplot_horizontal_gray(only_vars, var, 'num_week', 2)\n",
    "week_pvalues = generate_pval_dataframe(list(groups_week.groups.keys()), only_vars, 'num_week', var)\n",
    "week_pvalues"
   ]
  },
  {
   "cell_type": "code",
   "execution_count": null,
   "metadata": {},
   "outputs": [],
   "source": [
    "len_rating_1_week_df = week_pvalues\n",
    "len_rating_1_week_dict = generate_dict(week_pvalues['size'].to_list())\n",
    "pp.pprint(len_rating_1_week_dict)"
   ]
  },
  {
   "cell_type": "code",
   "execution_count": null,
   "metadata": {},
   "outputs": [],
   "source": [
    "var = 'rating_2'\n",
    "plot_boxplot_horizontal_gray(only_vars, var, 'num_week', 2)\n",
    "week_pvalues = generate_pval_dataframe(list(groups_week.groups.keys()), only_vars, 'num_week', var)\n",
    "week_pvalues"
   ]
  },
  {
   "cell_type": "code",
   "execution_count": null,
   "metadata": {},
   "outputs": [],
   "source": [
    "len_rating_2_week_df = week_pvalues\n",
    "len_rating_2_week_dict = generate_dict(week_pvalues['size'].to_list())\n",
    "pp.pprint(len_rating_2_week_dict)"
   ]
  },
  {
   "cell_type": "code",
   "execution_count": null,
   "metadata": {},
   "outputs": [],
   "source": [
    "var = 'rating_3'\n",
    "plot_boxplot_horizontal_gray(only_vars, var, 'num_week', 2)\n",
    "week_pvalues = generate_pval_dataframe(list(groups_week.groups.keys()), only_vars, 'num_week', var)\n",
    "week_pvalues"
   ]
  },
  {
   "cell_type": "code",
   "execution_count": null,
   "metadata": {},
   "outputs": [],
   "source": [
    "len_rating_3_week_df = week_pvalues\n",
    "len_rating_3_week_dict = generate_dict(week_pvalues['size'].to_list())\n",
    "pp.pprint(len_rating_3_week_dict)"
   ]
  },
  {
   "cell_type": "code",
   "execution_count": null,
   "metadata": {},
   "outputs": [],
   "source": [
    "var = 'rating_4'\n",
    "plot_boxplot_horizontal_gray(only_vars, var, 'num_week', 2)\n",
    "week_pvalues = generate_pval_dataframe(list(groups_week.groups.keys()), only_vars, 'num_week', var)\n",
    "week_pvalues"
   ]
  },
  {
   "cell_type": "code",
   "execution_count": null,
   "metadata": {},
   "outputs": [],
   "source": [
    "len_rating_4_week_df = week_pvalues\n",
    "len_rating_4_week_dict = generate_dict(week_pvalues['size'].to_list())\n",
    "pp.pprint(len_rating_4_week_dict)"
   ]
  },
  {
   "cell_type": "code",
   "execution_count": null,
   "metadata": {},
   "outputs": [],
   "source": [
    "var = 'rating_5'\n",
    "plot_boxplot_horizontal_gray(only_vars, var, 'num_week', 2)\n",
    "week_pvalues = generate_pval_dataframe(list(groups_week.groups.keys()), only_vars, 'num_week', var)\n",
    "week_pvalues"
   ]
  },
  {
   "cell_type": "code",
   "execution_count": null,
   "metadata": {},
   "outputs": [],
   "source": [
    "len_rating_5_week_df = week_pvalues\n",
    "len_rating_5_week_dict = generate_dict(week_pvalues['size'].to_list())\n",
    "pp.pprint(len_rating_5_week_dict)"
   ]
  },
  {
   "cell_type": "code",
   "execution_count": null,
   "metadata": {},
   "outputs": [],
   "source": [
    "var = 'last_update_days'\n",
    "plot_boxplot_horizontal_gray(only_vars, var, 'num_week', 2)\n",
    "week_pvalues = generate_pval_dataframe(list(groups_week.groups.keys()), only_vars, 'num_week', var)\n",
    "week_pvalues"
   ]
  },
  {
   "cell_type": "code",
   "execution_count": null,
   "metadata": {},
   "outputs": [],
   "source": [
    "len_last_update_days_week_df = week_pvalues\n",
    "len_last_update_days_week_dict = generate_dict(week_pvalues['size'].to_list())\n",
    "pp.pprint(len_last_update_days_week_dict)"
   ]
  },
  {
   "cell_type": "code",
   "execution_count": null,
   "metadata": {},
   "outputs": [],
   "source": [
    "var = 'price_usd'\n",
    "plot_boxplot_horizontal_gray(only_vars, var, 'num_week', 2)\n",
    "week_pvalues = generate_pval_dataframe(list(groups_week.groups.keys()), only_vars, 'num_week', var)\n",
    "week_pvalues"
   ]
  },
  {
   "cell_type": "code",
   "execution_count": null,
   "metadata": {},
   "outputs": [],
   "source": [
    "len_price_usd_week_df = week_pvalues\n",
    "len_price_usd_week_dict = generate_dict(week_pvalues['size'].to_list())\n",
    "pp.pprint(len_price_usd_week_dict)"
   ]
  },
  {
   "cell_type": "code",
   "execution_count": null,
   "metadata": {},
   "outputs": [],
   "source": [
    "var = 'num_installs_num'\n",
    "plot_boxplot_horizontal_gray(only_vars, var, 'num_week', 2)\n",
    "week_pvalues = generate_pval_dataframe(list(groups_week.groups.keys()), only_vars, 'num_week', var)\n",
    "week_pvalues"
   ]
  },
  {
   "cell_type": "code",
   "execution_count": null,
   "metadata": {},
   "outputs": [],
   "source": [
    "len_num_installs_num_week_df = week_pvalues\n",
    "len_num_installs_num_week_dict = generate_dict(week_pvalues['size'].to_list())\n",
    "pp.pprint(len_num_installs_num_week_dict)"
   ]
  },
  {
   "cell_type": "markdown",
   "metadata": {},
   "source": [
    "## Grouped by two weeks"
   ]
  },
  {
   "cell_type": "markdown",
   "metadata": {},
   "source": [
    "### Categorical variables"
   ]
  },
  {
   "cell_type": "code",
   "execution_count": null,
   "metadata": {},
   "outputs": [],
   "source": [
    "# Make a copy of original only vars\n",
    "only_vars = only_vars_original.copy()"
   ]
  },
  {
   "cell_type": "code",
   "execution_count": null,
   "metadata": {},
   "outputs": [],
   "source": [
    "groups_2_week = only_vars.groupby(['2_week'])\n",
    "\n",
    "data_2_week = {\n",
    "    'variable': [],\n",
    "    'group': [],\n",
    "    'weighted_mean': [],\n",
    "    'mean': [],\n",
    "    'min': [],\n",
    "    'q1': [],\n",
    "    'median': [],\n",
    "    'q3': [],\n",
    "    'max': [],\n",
    "    'std': []\n",
    "}\n",
    "\n",
    "content_rating_dicts_2_week = []\n",
    "android_version_dicts_2_week = []\n",
    "has_whats_new_dicts_2_week = []\n",
    "genre_dicts_2_week = []\n",
    "labels_2_week = []\n",
    "    \n",
    "# Iterate over week groups to plot variables and get stats\n",
    "for key in groups_2_week.groups.keys():\n",
    "    df = groups_2_week.get_group(key)\n",
    "    # Generate a weight column for each group\n",
    "    df = generate_weight_column(df, key)\n",
    "    \n",
    "    labels_2_week.append(key)\n",
    "    ct_dict = generate_dict(df['content_rating'].to_list())\n",
    "    content_rating_dicts_2_week.append(ct_dict)\n",
    "    \n",
    "    av_dict = generate_dict(df['android_version'].to_list())\n",
    "    android_version_dicts_2_week.append(av_dict)\n",
    "    \n",
    "    hw_dict = generate_dict(df['has_whats_new'].to_list())\n",
    "    has_whats_new_dicts_2_week.append(hw_dict)\n",
    "    \n",
    "    g_dict = generate_dict(df['genre'].to_list())\n",
    "    genre_dicts_2_week.append(g_dict)\n",
    "    \n",
    "    for nv in numeric_variables:\n",
    "        get_stats(nv, data_2_week, df, f'weight_{key}', key)"
   ]
  },
  {
   "cell_type": "code",
   "execution_count": null,
   "metadata": {},
   "outputs": [],
   "source": [
    "generate_horizontal_bar_chart(content_rating_dicts_2_week, labels_2_week, 'Content Rating')"
   ]
  },
  {
   "cell_type": "code",
   "execution_count": null,
   "metadata": {},
   "outputs": [],
   "source": [
    "content_rating_2_week = pd.DataFrame()\n",
    "for label, d in zip(labels_2_week, content_rating_dicts_2_week):\n",
    "    d['2_week'] = label\n",
    "    content_rating_2_week = content_rating_2_week.append(d, ignore_index=True)\n",
    "    \n",
    "content_rating_2_week"
   ]
  },
  {
   "cell_type": "code",
   "execution_count": null,
   "metadata": {},
   "outputs": [],
   "source": [
    "generate_horizontal_bar_chart(android_version_dicts_2_week, labels_2_week, 'Android Version')"
   ]
  },
  {
   "cell_type": "code",
   "execution_count": null,
   "metadata": {},
   "outputs": [],
   "source": [
    "android_version_2_week = pd.DataFrame()\n",
    "for label, d in zip(labels_2_week, android_version_dicts_2_week):\n",
    "    d['2_week'] = label\n",
    "    android_version_2_week = android_version_2_week.append(d, ignore_index=True)\n",
    "    \n",
    "android_version_2_week"
   ]
  },
  {
   "cell_type": "code",
   "execution_count": null,
   "metadata": {},
   "outputs": [],
   "source": [
    "generate_horizontal_bar_chart(genre_dicts_2_week, labels_2_week, 'Genre')"
   ]
  },
  {
   "cell_type": "code",
   "execution_count": null,
   "metadata": {},
   "outputs": [],
   "source": [
    "genre_2_week = pd.DataFrame()\n",
    "for label, d in zip(labels_2_week, genre_dicts_2_week):\n",
    "    d['2_week'] = label\n",
    "    genre_2_week = genre_2_week.append(d, ignore_index=True)\n",
    "    \n",
    "genre_2_week"
   ]
  },
  {
   "cell_type": "code",
   "execution_count": null,
   "metadata": {},
   "outputs": [],
   "source": [
    "generate_pie_chart_dropdown(has_whats_new_dicts_2_week, labels_2_week, 'Has Whats New')"
   ]
  },
  {
   "cell_type": "code",
   "execution_count": null,
   "metadata": {},
   "outputs": [],
   "source": [
    "has_whats_new_2_week = pd.DataFrame()\n",
    "for label, d in zip(labels_2_week, has_whats_new_dicts_2_week):\n",
    "    d['week'] = label\n",
    "    total = d[True] + d[False]\n",
    "    d['percentage_true'] = (d[True]/total)*100\n",
    "    d['percentage_false'] = (d[False]/total)*100\n",
    "    \n",
    "    has_whats_new_2_week = has_whats_new_2_week.append(d, ignore_index=True)\n",
    "    \n",
    "has_whats_new_2_week"
   ]
  },
  {
   "cell_type": "markdown",
   "metadata": {},
   "source": [
    "### Numerical Variables"
   ]
  },
  {
   "cell_type": "code",
   "execution_count": null,
   "metadata": {},
   "outputs": [],
   "source": [
    "numeric_data_2_week = pd.DataFrame(data_2_week)\n",
    "numeric_data_2_week =numeric_data_2_week.sort_values(by=['variable', 'group'])\n",
    "\n",
    "numeric_data_2_week"
   ]
  },
  {
   "cell_type": "code",
   "execution_count": null,
   "metadata": {},
   "outputs": [],
   "source": [
    "var = 'len_name'\n",
    "plot_boxplot_horizontal_gray(only_vars, var, '2_week', 2)\n",
    "week_pvalues = generate_pval_dataframe(list(groups_2_week.groups.keys()), only_vars, '2_week', var)\n",
    "week_pvalues"
   ]
  },
  {
   "cell_type": "code",
   "execution_count": null,
   "metadata": {},
   "outputs": [],
   "source": [
    "len_name_2_week_df = week_pvalues\n",
    "len_name_2_week_dict = generate_dict(week_pvalues['size'].to_list())\n",
    "pp.pprint(len_name_2_week_dict)"
   ]
  },
  {
   "cell_type": "code",
   "execution_count": null,
   "metadata": {},
   "outputs": [],
   "source": [
    "var = 'len_summary'\n",
    "plot_boxplot_horizontal_gray(only_vars, var, '2_week', 2)\n",
    "week_pvalues = generate_pval_dataframe(list(groups_2_week.groups.keys()), only_vars, '2_week', var)\n",
    "week_pvalues"
   ]
  },
  {
   "cell_type": "code",
   "execution_count": null,
   "metadata": {},
   "outputs": [],
   "source": [
    "len_summary_2_week_df = week_pvalues\n",
    "len_summary_2_week_dict = generate_dict(week_pvalues['size'].to_list())\n",
    "pp.pprint(len_summary_2_week_dict)"
   ]
  },
  {
   "cell_type": "code",
   "execution_count": null,
   "metadata": {},
   "outputs": [],
   "source": [
    "var = 'len_description'\n",
    "plot_boxplot_horizontal_gray(only_vars, var, '2_week', 2)\n",
    "week_pvalues = generate_pval_dataframe(list(groups_2_week.groups.keys()), only_vars, '2_week', var)\n",
    "week_pvalues"
   ]
  },
  {
   "cell_type": "code",
   "execution_count": null,
   "metadata": {},
   "outputs": [],
   "source": [
    "len_description_2_week_df = week_pvalues\n",
    "len_description_2_week_dict = generate_dict(week_pvalues['size'].to_list())\n",
    "pp.pprint(len_description_2_week_dict)"
   ]
  },
  {
   "cell_type": "code",
   "execution_count": null,
   "metadata": {},
   "outputs": [],
   "source": [
    "var = 'rating'\n",
    "plot_boxplot_horizontal_gray(only_vars, var, '2_week', 2)\n",
    "week_pvalues = generate_pval_dataframe(list(groups_2_week.groups.keys()), only_vars, '2_week', var)\n",
    "week_pvalues"
   ]
  },
  {
   "cell_type": "code",
   "execution_count": null,
   "metadata": {},
   "outputs": [],
   "source": [
    "rating_2_week_df = week_pvalues\n",
    "rating_2_week_dict = generate_dict(week_pvalues['size'].to_list())\n",
    "pp.pprint(rating_2_week_dict)"
   ]
  },
  {
   "cell_type": "code",
   "execution_count": null,
   "metadata": {},
   "outputs": [],
   "source": [
    "var = 'rating_1'\n",
    "plot_boxplot_horizontal_gray(only_vars, var, '2_week', 2)\n",
    "week_pvalues = generate_pval_dataframe(list(groups_2_week.groups.keys()), only_vars, '2_week', var)\n",
    "week_pvalues"
   ]
  },
  {
   "cell_type": "code",
   "execution_count": null,
   "metadata": {},
   "outputs": [],
   "source": [
    "rating_1_2_week_df = week_pvalues\n",
    "rating_1_2_week_dict = generate_dict(week_pvalues['size'].to_list())\n",
    "pp.pprint(rating_1_2_week_dict)"
   ]
  },
  {
   "cell_type": "code",
   "execution_count": null,
   "metadata": {},
   "outputs": [],
   "source": [
    "var = 'rating_2'\n",
    "plot_boxplot_horizontal_gray(only_vars, var, '2_week', 2)\n",
    "week_pvalues = generate_pval_dataframe(list(groups_2_week.groups.keys()), only_vars, '2_week', var)\n",
    "week_pvalues"
   ]
  },
  {
   "cell_type": "code",
   "execution_count": null,
   "metadata": {},
   "outputs": [],
   "source": [
    "rating_2_2_week_df = week_pvalues\n",
    "rating_2_2_week_dict = generate_dict(week_pvalues['size'].to_list())\n",
    "pp.pprint(rating_2_2_week_dict)"
   ]
  },
  {
   "cell_type": "code",
   "execution_count": null,
   "metadata": {},
   "outputs": [],
   "source": [
    "var = 'rating_3'\n",
    "plot_boxplot_horizontal_gray(only_vars, var, '2_week', 2)\n",
    "week_pvalues = generate_pval_dataframe(list(groups_2_week.groups.keys()), only_vars, '2_week', var)\n",
    "week_pvalues"
   ]
  },
  {
   "cell_type": "code",
   "execution_count": null,
   "metadata": {},
   "outputs": [],
   "source": [
    "rating_3_2_week_df = week_pvalues\n",
    "rating_3_2_week_dict = generate_dict(week_pvalues['size'].to_list())\n",
    "pp.pprint(rating_3_2_week_dict)"
   ]
  },
  {
   "cell_type": "code",
   "execution_count": null,
   "metadata": {},
   "outputs": [],
   "source": [
    "var = 'rating_4'\n",
    "plot_boxplot_horizontal_gray(only_vars, var, '2_week', 2)\n",
    "week_pvalues = generate_pval_dataframe(list(groups_2_week.groups.keys()), only_vars, '2_week', var)\n",
    "week_pvalues"
   ]
  },
  {
   "cell_type": "code",
   "execution_count": null,
   "metadata": {},
   "outputs": [],
   "source": [
    "rating_4_2_week_df = week_pvalues\n",
    "rating_4_2_week_dict = generate_dict(week_pvalues['size'].to_list())\n",
    "pp.pprint(rating_4_2_week_dict)"
   ]
  },
  {
   "cell_type": "code",
   "execution_count": null,
   "metadata": {},
   "outputs": [],
   "source": [
    "var = 'rating_5'\n",
    "plot_boxplot_horizontal_gray(only_vars, var, '2_week', 2)\n",
    "week_pvalues = generate_pval_dataframe(list(groups_2_week.groups.keys()), only_vars, '2_week', var)\n",
    "week_pvalues"
   ]
  },
  {
   "cell_type": "code",
   "execution_count": null,
   "metadata": {},
   "outputs": [],
   "source": [
    "rating_5_2_week_df = week_pvalues\n",
    "rating_5_2_week_dict = generate_dict(week_pvalues['size'].to_list())\n",
    "pp.pprint(rating_5_2_week_dict)"
   ]
  },
  {
   "cell_type": "code",
   "execution_count": null,
   "metadata": {},
   "outputs": [],
   "source": [
    "var = 'last_update_days'\n",
    "plot_boxplot_horizontal_gray(only_vars, var, '2_week', 2)\n",
    "week_pvalues = generate_pval_dataframe(list(groups_2_week.groups.keys()), only_vars, '2_week', var)\n",
    "week_pvalues"
   ]
  },
  {
   "cell_type": "code",
   "execution_count": null,
   "metadata": {},
   "outputs": [],
   "source": [
    "last_update_days_2_week_df = week_pvalues\n",
    "last_update_days_2_week_dict = generate_dict(week_pvalues['size'].to_list())\n",
    "pp.pprint(last_update_days_2_week_dict)"
   ]
  },
  {
   "cell_type": "code",
   "execution_count": null,
   "metadata": {},
   "outputs": [],
   "source": [
    "var = 'price_usd'\n",
    "plot_boxplot_horizontal_gray(only_vars, var, '2_week', 2)\n",
    "week_pvalues = generate_pval_dataframe(list(groups_2_week.groups.keys()), only_vars, '2_week', var)\n",
    "week_pvalues"
   ]
  },
  {
   "cell_type": "code",
   "execution_count": null,
   "metadata": {},
   "outputs": [],
   "source": [
    "price_usd_2_week_df = week_pvalues\n",
    "price_usd_2_week_dict = generate_dict(week_pvalues['size'].to_list())\n",
    "pp.pprint(price_usd_2_week_dict)"
   ]
  },
  {
   "cell_type": "code",
   "execution_count": null,
   "metadata": {},
   "outputs": [],
   "source": [
    "var = 'num_installs_num'\n",
    "plot_boxplot_horizontal_gray(only_vars, var, '2_week', 2)\n",
    "week_pvalues = generate_pval_dataframe(list(groups_2_week.groups.keys()), only_vars, '2_week', var)\n",
    "week_pvalues"
   ]
  },
  {
   "cell_type": "code",
   "execution_count": null,
   "metadata": {},
   "outputs": [],
   "source": [
    "num_installs_num_2_week_df = week_pvalues\n",
    "num_installs_num_2_week_dict = generate_dict(week_pvalues['size'].to_list())\n",
    "pp.pprint(num_installs_num_2_week_dict)"
   ]
  },
  {
   "cell_type": "markdown",
   "metadata": {},
   "source": [
    "## Grouped by 3 weeks"
   ]
  },
  {
   "cell_type": "markdown",
   "metadata": {},
   "source": [
    "### Categorical Variables"
   ]
  },
  {
   "cell_type": "code",
   "execution_count": null,
   "metadata": {},
   "outputs": [],
   "source": [
    "# Make a copy of original only vars\n",
    "only_vars = only_vars_original.copy()"
   ]
  },
  {
   "cell_type": "code",
   "execution_count": null,
   "metadata": {},
   "outputs": [],
   "source": [
    "groups_3_week = only_vars.groupby(['3_week'])\n",
    "\n",
    "data_3_week = {\n",
    "    'variable': [],\n",
    "    'group': [],\n",
    "    'weighted_mean': [],\n",
    "    'mean': [],\n",
    "    'min': [],\n",
    "    'q1': [],\n",
    "    'median': [],\n",
    "    'q3': [],\n",
    "    'max': [],\n",
    "    'std': []\n",
    "}\n",
    "\n",
    "content_rating_dicts_3_week = []\n",
    "android_version_dicts_3_week = []\n",
    "has_whats_new_dicts_3_week = []\n",
    "genre_dicts_3_week = []\n",
    "labels_3_week = []\n",
    "    \n",
    "# Iterate over week groups to plot variables and get stats\n",
    "for key in groups_3_week.groups.keys():\n",
    "    df = groups_3_week.get_group(key)\n",
    "    # Generate a weight column for each group\n",
    "    df = generate_weight_column(df, key)\n",
    "    \n",
    "    labels_3_week.append(key)\n",
    "    ct_dict = generate_dict(df['content_rating'].to_list())\n",
    "    content_rating_dicts_3_week.append(ct_dict)\n",
    "    \n",
    "    av_dict = generate_dict(df['android_version'].to_list())\n",
    "    android_version_dicts_3_week.append(av_dict)\n",
    "    \n",
    "    hw_dict = generate_dict(df['has_whats_new'].to_list())\n",
    "    has_whats_new_dicts_3_week.append(hw_dict)\n",
    "    \n",
    "    g_dict = generate_dict(df['genre'].to_list())\n",
    "    genre_dicts_3_week.append(g_dict)\n",
    "    \n",
    "    for nv in numeric_variables:\n",
    "        get_stats(nv, data_3_week, df, f'weight_{key}', key)"
   ]
  },
  {
   "cell_type": "code",
   "execution_count": null,
   "metadata": {},
   "outputs": [],
   "source": [
    "generate_horizontal_bar_chart(content_rating_dicts_3_week, labels_3_week, 'Content Rating')"
   ]
  },
  {
   "cell_type": "code",
   "execution_count": null,
   "metadata": {},
   "outputs": [],
   "source": [
    "content_rating_3_week = pd.DataFrame()\n",
    "for label, d in zip(labels_3_week, content_rating_dicts_3_week):\n",
    "    d['3_week'] = label\n",
    "    content_rating_3_week = content_rating_3_week.append(d, ignore_index=True)\n",
    "    \n",
    "content_rating_3_week"
   ]
  },
  {
   "cell_type": "code",
   "execution_count": null,
   "metadata": {},
   "outputs": [],
   "source": [
    "generate_horizontal_bar_chart(android_version_dicts_3_week, labels_3_week, 'Android Version')"
   ]
  },
  {
   "cell_type": "code",
   "execution_count": null,
   "metadata": {},
   "outputs": [],
   "source": [
    "android_version_3_week = pd.DataFrame()\n",
    "for label, d in zip(labels_3_week, android_version_dicts_3_week):\n",
    "    d['3_week'] = label\n",
    "    android_version_3_week = android_version_3_week.append(d, ignore_index=True)\n",
    "    \n",
    "android_version_3_week"
   ]
  },
  {
   "cell_type": "code",
   "execution_count": null,
   "metadata": {},
   "outputs": [],
   "source": [
    "generate_horizontal_bar_chart(genre_dicts_3_week, labels_3_week, 'Genre')"
   ]
  },
  {
   "cell_type": "code",
   "execution_count": null,
   "metadata": {},
   "outputs": [],
   "source": [
    "genre_3_week = pd.DataFrame()\n",
    "for label, d in zip(labels_3_week, genre_dicts_3_week):\n",
    "    d['3_week'] = label\n",
    "    genre_3_week = genre_3_week.append(d, ignore_index=True)\n",
    "    \n",
    "genre_3_week"
   ]
  },
  {
   "cell_type": "code",
   "execution_count": null,
   "metadata": {},
   "outputs": [],
   "source": [
    "generate_pie_chart_dropdown(has_whats_new_dicts_3_week, labels_3_week, 'Has Whats New')"
   ]
  },
  {
   "cell_type": "code",
   "execution_count": null,
   "metadata": {},
   "outputs": [],
   "source": [
    "has_whats_new_3_week = pd.DataFrame()\n",
    "for label, d in zip(labels_3_week, has_whats_new_dicts_3_week):\n",
    "    d['week'] = label\n",
    "    total = d[True] + d[False]\n",
    "    d['percentage_true'] = (d[True]/total)*100\n",
    "    d['percentage_false'] = (d[False]/total)*100\n",
    "    \n",
    "    has_whats_new_3_week = has_whats_new_3_week.append(d, ignore_index=True)\n",
    "    \n",
    "has_whats_new_3_week"
   ]
  },
  {
   "cell_type": "markdown",
   "metadata": {},
   "source": [
    "### Numerical Variables"
   ]
  },
  {
   "cell_type": "code",
   "execution_count": null,
   "metadata": {},
   "outputs": [],
   "source": [
    "numeric_data_3_week = pd.DataFrame(data_3_week)\n",
    "numeric_data_3_week =numeric_data_3_week.sort_values(by=['variable', 'group'])\n",
    "\n",
    "numeric_data_3_week"
   ]
  },
  {
   "cell_type": "code",
   "execution_count": null,
   "metadata": {
    "scrolled": true
   },
   "outputs": [],
   "source": [
    "var = 'len_name'\n",
    "plot_boxplot_horizontal_gray(only_vars, var, '3_week', 2)\n",
    "week_pvalues = generate_pval_dataframe(list(groups_3_week.groups.keys()), only_vars, '3_week', var)\n",
    "week_pvalues"
   ]
  },
  {
   "cell_type": "code",
   "execution_count": null,
   "metadata": {},
   "outputs": [],
   "source": [
    "len_name_3_week_df = week_pvalues\n",
    "len_name_3_week_dict = generate_dict(week_pvalues['size'].to_list())\n",
    "pp.pprint(len_name_3_week_dict)"
   ]
  },
  {
   "cell_type": "code",
   "execution_count": null,
   "metadata": {
    "scrolled": true
   },
   "outputs": [],
   "source": [
    "var = 'len_summary'\n",
    "plot_boxplot_horizontal_gray(only_vars, var, '3_week', 2)\n",
    "week_pvalues = generate_pval_dataframe(list(groups_3_week.groups.keys()), only_vars, '3_week', var)\n",
    "week_pvalues"
   ]
  },
  {
   "cell_type": "code",
   "execution_count": null,
   "metadata": {},
   "outputs": [],
   "source": [
    "len_summary_3_week_df = week_pvalues\n",
    "len_summary_3_week_dict = generate_dict(week_pvalues['size'].to_list())\n",
    "pp.pprint(len_summary_3_week_dict)"
   ]
  },
  {
   "cell_type": "code",
   "execution_count": null,
   "metadata": {
    "scrolled": true
   },
   "outputs": [],
   "source": [
    "var = 'len_description'\n",
    "plot_boxplot_horizontal_gray(only_vars, var, '3_week', 2)\n",
    "week_pvalues = generate_pval_dataframe(list(groups_3_week.groups.keys()), only_vars, '3_week', var)\n",
    "week_pvalues"
   ]
  },
  {
   "cell_type": "code",
   "execution_count": null,
   "metadata": {},
   "outputs": [],
   "source": [
    "len_description_3_week_df = week_pvalues\n",
    "len_description_3_week_dict = generate_dict(week_pvalues['size'].to_list())\n",
    "pp.pprint(len_description_3_week_dict)"
   ]
  },
  {
   "cell_type": "code",
   "execution_count": null,
   "metadata": {
    "scrolled": true
   },
   "outputs": [],
   "source": [
    "var = 'rating'\n",
    "plot_boxplot_horizontal_gray(only_vars, var, '3_week', 2)\n",
    "week_pvalues = generate_pval_dataframe(list(groups_3_week.groups.keys()), only_vars, '3_week', var)\n",
    "week_pvalues"
   ]
  },
  {
   "cell_type": "code",
   "execution_count": null,
   "metadata": {},
   "outputs": [],
   "source": [
    "rating_3_week_df = week_pvalues\n",
    "rating_3_week_dict = generate_dict(week_pvalues['size'].to_list())\n",
    "pp.pprint(rating_3_week_dict)"
   ]
  },
  {
   "cell_type": "code",
   "execution_count": null,
   "metadata": {
    "scrolled": true
   },
   "outputs": [],
   "source": [
    "var = 'rating_1'\n",
    "plot_boxplot_horizontal_gray(only_vars, var, '3_week', 2)\n",
    "week_pvalues = generate_pval_dataframe(list(groups_3_week.groups.keys()), only_vars, '3_week', var)\n",
    "week_pvalues"
   ]
  },
  {
   "cell_type": "code",
   "execution_count": null,
   "metadata": {},
   "outputs": [],
   "source": [
    "rating_1_3_week_df = week_pvalues\n",
    "rating_1_3_week_dict = generate_dict(week_pvalues['size'].to_list())\n",
    "pp.pprint(rating_1_3_week_dict)"
   ]
  },
  {
   "cell_type": "code",
   "execution_count": null,
   "metadata": {
    "scrolled": true
   },
   "outputs": [],
   "source": [
    "var = 'rating_2'\n",
    "plot_boxplot_horizontal_gray(only_vars, var, '3_week', 2)\n",
    "week_pvalues = generate_pval_dataframe(list(groups_3_week.groups.keys()), only_vars, '3_week', var)\n",
    "week_pvalues"
   ]
  },
  {
   "cell_type": "code",
   "execution_count": null,
   "metadata": {},
   "outputs": [],
   "source": [
    "rating_2_3_week_df = week_pvalues\n",
    "rating_2_3_week_dict = generate_dict(week_pvalues['size'].to_list())\n",
    "pp.pprint(rating_2_3_week_dict)"
   ]
  },
  {
   "cell_type": "code",
   "execution_count": null,
   "metadata": {
    "scrolled": true
   },
   "outputs": [],
   "source": [
    "var = 'rating_3'\n",
    "plot_boxplot_horizontal_gray(only_vars, var, '3_week', 2)\n",
    "week_pvalues = generate_pval_dataframe(list(groups_3_week.groups.keys()), only_vars, '3_week', var)\n",
    "week_pvalues"
   ]
  },
  {
   "cell_type": "code",
   "execution_count": null,
   "metadata": {},
   "outputs": [],
   "source": [
    "rating_3_3_week_df = week_pvalues\n",
    "rating_3_3_week_dict = generate_dict(week_pvalues['size'].to_list())\n",
    "pp.pprint(rating_3_3_week_dict)"
   ]
  },
  {
   "cell_type": "code",
   "execution_count": null,
   "metadata": {
    "scrolled": true
   },
   "outputs": [],
   "source": [
    "var = 'rating_4'\n",
    "plot_boxplot_horizontal_gray(only_vars, var, '3_week', 2)\n",
    "week_pvalues = generate_pval_dataframe(list(groups_3_week.groups.keys()), only_vars, '3_week', var)\n",
    "week_pvalues"
   ]
  },
  {
   "cell_type": "code",
   "execution_count": null,
   "metadata": {},
   "outputs": [],
   "source": [
    "rating_4_3_week_df = week_pvalues\n",
    "rating_4_3_week_dict = generate_dict(week_pvalues['size'].to_list())\n",
    "pp.pprint(rating_4_3_week_dict)"
   ]
  },
  {
   "cell_type": "code",
   "execution_count": null,
   "metadata": {
    "scrolled": true
   },
   "outputs": [],
   "source": [
    "var = 'rating_5'\n",
    "plot_boxplot_horizontal_gray(only_vars, var, '3_week', 2)\n",
    "week_pvalues = generate_pval_dataframe(list(groups_3_week.groups.keys()), only_vars, '3_week', var)\n",
    "week_pvalues"
   ]
  },
  {
   "cell_type": "code",
   "execution_count": null,
   "metadata": {},
   "outputs": [],
   "source": [
    "rating_5_3_week_df = week_pvalues\n",
    "rating_5_3_week_dict = generate_dict(week_pvalues['size'].to_list())\n",
    "pp.pprint(rating_5_3_week_dict)"
   ]
  },
  {
   "cell_type": "code",
   "execution_count": null,
   "metadata": {
    "scrolled": true
   },
   "outputs": [],
   "source": [
    "var = 'last_update_days'\n",
    "plot_boxplot_horizontal_gray(only_vars, var, '3_week', 2)\n",
    "week_pvalues = generate_pval_dataframe(list(groups_3_week.groups.keys()), only_vars, '3_week', var)\n",
    "week_pvalues"
   ]
  },
  {
   "cell_type": "code",
   "execution_count": null,
   "metadata": {},
   "outputs": [],
   "source": [
    "last_update_days_3_week_df = week_pvalues\n",
    "last_update_days_3_week_dict = generate_dict(week_pvalues['size'].to_list())\n",
    "pp.pprint(last_update_days_3_week_dict)"
   ]
  },
  {
   "cell_type": "code",
   "execution_count": null,
   "metadata": {
    "scrolled": true
   },
   "outputs": [],
   "source": [
    "var = 'price_usd'\n",
    "plot_boxplot_horizontal_gray(only_vars, var, '3_week', 2)\n",
    "week_pvalues = generate_pval_dataframe(list(groups_3_week.groups.keys()), only_vars, '3_week', var)\n",
    "week_pvalues"
   ]
  },
  {
   "cell_type": "code",
   "execution_count": null,
   "metadata": {},
   "outputs": [],
   "source": [
    "price_usd_3_week_df = week_pvalues\n",
    "price_usd_3_week_dict = generate_dict(week_pvalues['size'].to_list())\n",
    "pp.pprint(price_usd_3_week_dict)"
   ]
  },
  {
   "cell_type": "code",
   "execution_count": null,
   "metadata": {
    "scrolled": true
   },
   "outputs": [],
   "source": [
    "var = 'num_installs_num'\n",
    "plot_boxplot_horizontal_gray(only_vars, var, '3_week', 2)\n",
    "week_pvalues = generate_pval_dataframe(list(groups_3_week.groups.keys()), only_vars, '3_week', var)\n",
    "week_pvalues"
   ]
  },
  {
   "cell_type": "code",
   "execution_count": null,
   "metadata": {},
   "outputs": [],
   "source": [
    "num_installs_num_3_week_df = week_pvalues\n",
    "num_installs_num_3_week_dict = generate_dict(week_pvalues['size'].to_list())\n",
    "pp.pprint(num_installs_num_3_week_dict)"
   ]
  },
  {
   "cell_type": "markdown",
   "metadata": {},
   "source": [
    "## Grouped by five weeks"
   ]
  },
  {
   "cell_type": "markdown",
   "metadata": {},
   "source": [
    "### Categorical variables"
   ]
  },
  {
   "cell_type": "code",
   "execution_count": null,
   "metadata": {},
   "outputs": [],
   "source": [
    "# Make a copy of original only vars\n",
    "only_vars = only_vars_original.copy()"
   ]
  },
  {
   "cell_type": "code",
   "execution_count": null,
   "metadata": {},
   "outputs": [],
   "source": [
    "groups_5_week = only_vars.groupby(['5_week'])\n",
    "\n",
    "data_5_week = {\n",
    "    'variable': [],\n",
    "    'group': [],\n",
    "    'weighted_mean': [],\n",
    "    'mean': [],\n",
    "    'min': [],\n",
    "    'q1': [],\n",
    "    'median': [],\n",
    "    'q3': [],\n",
    "    'max': [],\n",
    "    'std': []\n",
    "}\n",
    "\n",
    "content_rating_dicts_5_week = []\n",
    "android_version_dicts_5_week = []\n",
    "has_whats_new_dicts_5_week = []\n",
    "genre_dicts_5_week = []\n",
    "labels_5_week = []\n",
    "    \n",
    "# Iterate over week groups to plot variables and get stats\n",
    "for key in groups_5_week.groups.keys():\n",
    "    df = groups_5_week.get_group(key)\n",
    "    # Generate a weight column for each group\n",
    "    df = generate_weight_column(df, key)\n",
    "    \n",
    "    labels_5_week.append(key)\n",
    "    ct_dict = generate_dict(df['content_rating'].to_list())\n",
    "    content_rating_dicts_5_week.append(ct_dict)\n",
    "    \n",
    "    av_dict = generate_dict(df['android_version'].to_list())\n",
    "    android_version_dicts_5_week.append(av_dict)\n",
    "    \n",
    "    hw_dict = generate_dict(df['has_whats_new'].to_list())\n",
    "    has_whats_new_dicts_5_week.append(hw_dict)\n",
    "    \n",
    "    g_dict = generate_dict(df['genre'].to_list())\n",
    "    genre_dicts_5_week.append(g_dict)\n",
    "    \n",
    "    for nv in numeric_variables:\n",
    "        get_stats(nv, data_5_week, df, f'weight_{key}', key)"
   ]
  },
  {
   "cell_type": "code",
   "execution_count": null,
   "metadata": {},
   "outputs": [],
   "source": [
    "generate_horizontal_bar_chart(content_rating_dicts_5_week, labels_5_week, 'Content Rating')"
   ]
  },
  {
   "cell_type": "code",
   "execution_count": null,
   "metadata": {},
   "outputs": [],
   "source": [
    "content_rating_5_week = pd.DataFrame()\n",
    "for label, d in zip(labels_5_week, content_rating_dicts_5_week):\n",
    "    d['5_week'] = label\n",
    "    content_rating_5_week = content_rating_5_week.append(d, ignore_index=True)\n",
    "    \n",
    "content_rating_5_week"
   ]
  },
  {
   "cell_type": "code",
   "execution_count": null,
   "metadata": {},
   "outputs": [],
   "source": [
    "generate_horizontal_bar_chart(android_version_dicts_5_week, labels_5_week, 'Android Version')"
   ]
  },
  {
   "cell_type": "code",
   "execution_count": null,
   "metadata": {},
   "outputs": [],
   "source": [
    "android_version_5_week = pd.DataFrame()\n",
    "for label, d in zip(labels_5_week, android_version_dicts_5_week):\n",
    "    d['5_week'] = label\n",
    "    android_version_5_week = android_version_5_week.append(d, ignore_index=True)\n",
    "    \n",
    "android_version_5_week"
   ]
  },
  {
   "cell_type": "code",
   "execution_count": null,
   "metadata": {},
   "outputs": [],
   "source": [
    "generate_horizontal_bar_chart(genre_dicts_5_week, labels_5_week, 'Genre')"
   ]
  },
  {
   "cell_type": "code",
   "execution_count": null,
   "metadata": {},
   "outputs": [],
   "source": [
    "genre_5_week = pd.DataFrame()\n",
    "for label, d in zip(labels_5_week, genre_dicts_5_week):\n",
    "    d['5_week'] = label\n",
    "    genre_5_week = genre_5_week.append(d, ignore_index=True)\n",
    "    \n",
    "genre_5_week"
   ]
  },
  {
   "cell_type": "code",
   "execution_count": null,
   "metadata": {},
   "outputs": [],
   "source": [
    "generate_pie_chart_dropdown(has_whats_new_dicts_5_week, labels_5_week, 'Has Whats New')"
   ]
  },
  {
   "cell_type": "code",
   "execution_count": null,
   "metadata": {},
   "outputs": [],
   "source": [
    "has_whats_new_5_week = pd.DataFrame()\n",
    "for label, d in zip(labels_5_week, has_whats_new_dicts_5_week):\n",
    "    d['week'] = label\n",
    "    total = d[True] + d[False]\n",
    "    d['percentage_true'] = (d[True]/total)*100\n",
    "    d['percentage_false'] = (d[False]/total)*100\n",
    "    \n",
    "    has_whats_new_5_week = has_whats_new_5_week.append(d, ignore_index=True)\n",
    "    \n",
    "has_whats_new_5_week"
   ]
  },
  {
   "cell_type": "markdown",
   "metadata": {},
   "source": [
    "### Numerical Variables"
   ]
  },
  {
   "cell_type": "code",
   "execution_count": null,
   "metadata": {},
   "outputs": [],
   "source": [
    "numeric_data_5_week = pd.DataFrame(data_5_week)\n",
    "numeric_data_5_week =numeric_data_5_week.sort_values(by=['variable', 'group'])\n",
    "\n",
    "numeric_data_5_week"
   ]
  },
  {
   "cell_type": "code",
   "execution_count": null,
   "metadata": {
    "scrolled": true
   },
   "outputs": [],
   "source": [
    "var = 'len_name'\n",
    "plot_boxplot_horizontal_gray(only_vars, var, '5_week', 2)\n",
    "week_pvalues = generate_pval_dataframe(list(groups_5_week.groups.keys()), only_vars, '5_week', var)\n",
    "week_pvalues"
   ]
  },
  {
   "cell_type": "code",
   "execution_count": null,
   "metadata": {},
   "outputs": [],
   "source": [
    "len_name_5_week_df = week_pvalues\n",
    "len_name_5_week_dict = generate_dict(week_pvalues['size'].to_list())\n",
    "pp.pprint(len_name_5_week_dict)"
   ]
  },
  {
   "cell_type": "code",
   "execution_count": null,
   "metadata": {
    "scrolled": true
   },
   "outputs": [],
   "source": [
    "var = 'len_summary'\n",
    "plot_boxplot_horizontal_gray(only_vars, var, '5_week', 2)\n",
    "week_pvalues = generate_pval_dataframe(list(groups_5_week.groups.keys()), only_vars, '5_week', var)\n",
    "week_pvalues"
   ]
  },
  {
   "cell_type": "code",
   "execution_count": null,
   "metadata": {},
   "outputs": [],
   "source": [
    "len_summary_5_week_df = week_pvalues\n",
    "len_summary_5_week_dict = generate_dict(week_pvalues['size'].to_list())\n",
    "pp.pprint(len_summary_5_week_dict)"
   ]
  },
  {
   "cell_type": "code",
   "execution_count": null,
   "metadata": {
    "scrolled": true
   },
   "outputs": [],
   "source": [
    "var = 'len_description'\n",
    "plot_boxplot_horizontal_gray(only_vars, var, '5_week', 2)\n",
    "week_pvalues = generate_pval_dataframe(list(groups_5_week.groups.keys()), only_vars, '5_week', var)\n",
    "week_pvalues"
   ]
  },
  {
   "cell_type": "code",
   "execution_count": null,
   "metadata": {},
   "outputs": [],
   "source": [
    "len_description_5_week_df = week_pvalues\n",
    "len_description_5_week_dict = generate_dict(week_pvalues['size'].to_list())\n",
    "pp.pprint(len_description_5_week_dict)"
   ]
  },
  {
   "cell_type": "code",
   "execution_count": null,
   "metadata": {
    "scrolled": true
   },
   "outputs": [],
   "source": [
    "var = 'rating'\n",
    "plot_boxplot_horizontal_gray(only_vars, var, '5_week', 2)\n",
    "week_pvalues = generate_pval_dataframe(list(groups_5_week.groups.keys()), only_vars, '5_week', var)\n",
    "week_pvalues"
   ]
  },
  {
   "cell_type": "code",
   "execution_count": null,
   "metadata": {},
   "outputs": [],
   "source": [
    "rating_5_week_df = week_pvalues\n",
    "rating_5_week_dict = generate_dict(week_pvalues['size'].to_list())\n",
    "pp.pprint(rating_5_week_dict)"
   ]
  },
  {
   "cell_type": "code",
   "execution_count": null,
   "metadata": {
    "scrolled": true
   },
   "outputs": [],
   "source": [
    "var = 'rating_1'\n",
    "plot_boxplot_horizontal_gray(only_vars, var, '5_week', 2)\n",
    "week_pvalues = generate_pval_dataframe(list(groups_5_week.groups.keys()), only_vars, '5_week', var)\n",
    "week_pvalues"
   ]
  },
  {
   "cell_type": "code",
   "execution_count": null,
   "metadata": {},
   "outputs": [],
   "source": [
    "rating_1_5_week_df = week_pvalues\n",
    "rating_1_5_week_dict = generate_dict(week_pvalues['size'].to_list())\n",
    "pp.pprint(rating_1_5_week_dict)"
   ]
  },
  {
   "cell_type": "code",
   "execution_count": null,
   "metadata": {
    "scrolled": true
   },
   "outputs": [],
   "source": [
    "var = 'rating_2'\n",
    "plot_boxplot_horizontal_gray(only_vars, var, '5_week', 2)\n",
    "week_pvalues = generate_pval_dataframe(list(groups_5_week.groups.keys()), only_vars, '5_week', var)\n",
    "week_pvalues"
   ]
  },
  {
   "cell_type": "code",
   "execution_count": null,
   "metadata": {},
   "outputs": [],
   "source": [
    "rating_2_5_week_df = week_pvalues\n",
    "rating_2_5_week_dict = generate_dict(week_pvalues['size'].to_list())\n",
    "pp.pprint(rating_2_5_week_dict)"
   ]
  },
  {
   "cell_type": "code",
   "execution_count": null,
   "metadata": {
    "scrolled": true
   },
   "outputs": [],
   "source": [
    "var = 'rating_3'\n",
    "plot_boxplot_horizontal_gray(only_vars, var, '5_week', 2)\n",
    "week_pvalues = generate_pval_dataframe(list(groups_5_week.groups.keys()), only_vars, '5_week', var)\n",
    "week_pvalues"
   ]
  },
  {
   "cell_type": "code",
   "execution_count": null,
   "metadata": {},
   "outputs": [],
   "source": [
    "rating_3_5_week_df = week_pvalues\n",
    "rating_3_5_week_dict = generate_dict(week_pvalues['size'].to_list())\n",
    "pp.pprint(rating_3_5_week_dict)"
   ]
  },
  {
   "cell_type": "code",
   "execution_count": null,
   "metadata": {
    "scrolled": true
   },
   "outputs": [],
   "source": [
    "var = 'rating_4'\n",
    "plot_boxplot_horizontal_gray(only_vars, var, '5_week', 2)\n",
    "week_pvalues = generate_pval_dataframe(list(groups_5_week.groups.keys()), only_vars, '5_week', var)\n",
    "week_pvalues"
   ]
  },
  {
   "cell_type": "code",
   "execution_count": null,
   "metadata": {},
   "outputs": [],
   "source": [
    "rating_4_5_week_df = week_pvalues\n",
    "rating_4_5_week_dict = generate_dict(week_pvalues['size'].to_list())\n",
    "pp.pprint(rating_4_5_week_dict)"
   ]
  },
  {
   "cell_type": "code",
   "execution_count": null,
   "metadata": {
    "scrolled": true
   },
   "outputs": [],
   "source": [
    "var = 'rating_5'\n",
    "plot_boxplot_horizontal_gray(only_vars, var, '5_week', 2)\n",
    "week_pvalues = generate_pval_dataframe(list(groups_5_week.groups.keys()), only_vars, '5_week', var)\n",
    "week_pvalues"
   ]
  },
  {
   "cell_type": "code",
   "execution_count": null,
   "metadata": {},
   "outputs": [],
   "source": [
    "rating_5_5_week_df = week_pvalues\n",
    "rating_5_5_week_dict = generate_dict(week_pvalues['size'].to_list())\n",
    "pp.pprint(rating_5_5_week_dict)"
   ]
  },
  {
   "cell_type": "code",
   "execution_count": null,
   "metadata": {
    "scrolled": true
   },
   "outputs": [],
   "source": [
    "var = 'last_update_days'\n",
    "plot_boxplot_horizontal_gray(only_vars, var, '5_week', 2)\n",
    "week_pvalues = generate_pval_dataframe(list(groups_5_week.groups.keys()), only_vars, '5_week', var)\n",
    "week_pvalues"
   ]
  },
  {
   "cell_type": "code",
   "execution_count": null,
   "metadata": {},
   "outputs": [],
   "source": [
    "last_update_days_5_week_df = week_pvalues\n",
    "last_update_days_5_week_dict = generate_dict(week_pvalues['size'].to_list())\n",
    "pp.pprint(last_update_days_5_week_dict)"
   ]
  },
  {
   "cell_type": "code",
   "execution_count": null,
   "metadata": {
    "scrolled": true
   },
   "outputs": [],
   "source": [
    "var = 'price_usd'\n",
    "plot_boxplot_horizontal_gray(only_vars, var, '5_week', 2)\n",
    "week_pvalues = generate_pval_dataframe(list(groups_5_week.groups.keys()), only_vars, '5_week', var)\n",
    "week_pvalues"
   ]
  },
  {
   "cell_type": "code",
   "execution_count": null,
   "metadata": {},
   "outputs": [],
   "source": [
    "price_usd_5_week_df = week_pvalues\n",
    "price_usd_5_week_dict = generate_dict(week_pvalues['size'].to_list())\n",
    "pp.pprint(price_usd_5_week_dict)"
   ]
  },
  {
   "cell_type": "code",
   "execution_count": null,
   "metadata": {
    "scrolled": true
   },
   "outputs": [],
   "source": [
    "var = 'num_installs_num'\n",
    "plot_boxplot_horizontal_gray(only_vars, var, '5_week', 2)\n",
    "week_pvalues = generate_pval_dataframe(list(groups_5_week.groups.keys()), only_vars, '5_week', var)\n",
    "week_pvalues"
   ]
  },
  {
   "cell_type": "code",
   "execution_count": null,
   "metadata": {},
   "outputs": [],
   "source": [
    "num_installs_num_5_week_df = week_pvalues\n",
    "num_installs_num_5_week_dict = generate_dict(week_pvalues['size'].to_list())\n",
    "pp.pprint(num_installs_num_5_week_dict)"
   ]
  },
  {
   "cell_type": "markdown",
   "metadata": {},
   "source": [
    "## Grouped by six weeks"
   ]
  },
  {
   "cell_type": "markdown",
   "metadata": {},
   "source": [
    "### Categorical variables"
   ]
  },
  {
   "cell_type": "code",
   "execution_count": null,
   "metadata": {},
   "outputs": [],
   "source": [
    "# Make a copy of original only vars\n",
    "only_vars = only_vars_original.copy()"
   ]
  },
  {
   "cell_type": "code",
   "execution_count": null,
   "metadata": {},
   "outputs": [],
   "source": [
    "groups_6_week = only_vars.groupby(['6_week'])\n",
    "\n",
    "data_6_week = {\n",
    "    'variable': [],\n",
    "    'group': [],\n",
    "    'weighted_mean': [],\n",
    "    'mean': [],\n",
    "    'min': [],\n",
    "    'q1': [],\n",
    "    'median': [],\n",
    "    'q3': [],\n",
    "    'max': [],\n",
    "    'std': []\n",
    "}\n",
    "\n",
    "content_rating_dicts_6_week = []\n",
    "android_version_dicts_6_week = []\n",
    "has_whats_new_dicts_6_week = []\n",
    "genre_dicts_6_week = []\n",
    "labels_6_week = []\n",
    "    \n",
    "# Iterate over week groups to plot variables and get stats\n",
    "for key in groups_6_week.groups.keys():\n",
    "    df = groups_6_week.get_group(key)\n",
    "    # Generate a weight column for each group\n",
    "    df = generate_weight_column(df, key)\n",
    "    \n",
    "    labels_6_week.append(key)\n",
    "    ct_dict = generate_dict(df['content_rating'].to_list())\n",
    "    content_rating_dicts_6_week.append(ct_dict)\n",
    "    \n",
    "    av_dict = generate_dict(df['android_version'].to_list())\n",
    "    android_version_dicts_6_week.append(av_dict)\n",
    "    \n",
    "    hw_dict = generate_dict(df['has_whats_new'].to_list())\n",
    "    has_whats_new_dicts_6_week.append(hw_dict)\n",
    "    \n",
    "    g_dict = generate_dict(df['genre'].to_list())\n",
    "    genre_dicts_6_week.append(g_dict)\n",
    "    \n",
    "    for nv in numeric_variables:\n",
    "        get_stats(nv, data_6_week, df, f'weight_{key}', key)"
   ]
  },
  {
   "cell_type": "code",
   "execution_count": null,
   "metadata": {},
   "outputs": [],
   "source": [
    "generate_horizontal_bar_chart(content_rating_dicts_6_week, labels_6_week, 'Content Rating')"
   ]
  },
  {
   "cell_type": "code",
   "execution_count": null,
   "metadata": {},
   "outputs": [],
   "source": [
    "content_rating_6_week = pd.DataFrame()\n",
    "for label, d in zip(labels_6_week, content_rating_dicts_6_week):\n",
    "    d['6_week'] = label\n",
    "    content_rating_6_week = content_rating_6_week.append(d, ignore_index=True)\n",
    "    \n",
    "content_rating_6_week"
   ]
  },
  {
   "cell_type": "code",
   "execution_count": null,
   "metadata": {},
   "outputs": [],
   "source": [
    "generate_horizontal_bar_chart(android_version_dicts_6_week, labels_6_week, 'Android Version')"
   ]
  },
  {
   "cell_type": "code",
   "execution_count": null,
   "metadata": {},
   "outputs": [],
   "source": [
    "android_version_6_week = pd.DataFrame()\n",
    "for label, d in zip(labels_6_week, android_version_dicts_6_week):\n",
    "    d['6_week'] = label\n",
    "    android_version_6_week = android_version_6_week.append(d, ignore_index=True)\n",
    "    \n",
    "android_version_6_week"
   ]
  },
  {
   "cell_type": "code",
   "execution_count": null,
   "metadata": {},
   "outputs": [],
   "source": [
    "generate_horizontal_bar_chart(genre_dicts_6_week, labels_6_week, 'Genre')"
   ]
  },
  {
   "cell_type": "code",
   "execution_count": null,
   "metadata": {},
   "outputs": [],
   "source": [
    "genre_6_week = pd.DataFrame()\n",
    "for label, d in zip(labels_6_week, genre_dicts_6_week):\n",
    "    d['6_week'] = label\n",
    "    genre_6_week = genre_6_week.append(d, ignore_index=True)\n",
    "    \n",
    "genre_6_week"
   ]
  },
  {
   "cell_type": "code",
   "execution_count": null,
   "metadata": {},
   "outputs": [],
   "source": [
    "generate_pie_chart_dropdown(has_whats_new_dicts_6_week, labels_6_week, 'Has Whats New')"
   ]
  },
  {
   "cell_type": "code",
   "execution_count": null,
   "metadata": {},
   "outputs": [],
   "source": [
    "has_whats_new_6_week = pd.DataFrame()\n",
    "for label, d in zip(labels_6_week, has_whats_new_dicts_6_week):\n",
    "    d['week'] = label\n",
    "    total = d[True] + d[False]\n",
    "    d['percentage_true'] = (d[True]/total)*100\n",
    "    d['percentage_false'] = (d[False]/total)*100\n",
    "    \n",
    "    has_whats_new_6_week = has_whats_new_6_week.append(d, ignore_index=True)\n",
    "    \n",
    "has_whats_new_6_week"
   ]
  },
  {
   "cell_type": "markdown",
   "metadata": {},
   "source": [
    "### Numerical Variables"
   ]
  },
  {
   "cell_type": "code",
   "execution_count": null,
   "metadata": {
    "scrolled": true
   },
   "outputs": [],
   "source": [
    "numeric_data_6_week = pd.DataFrame(data_6_week)\n",
    "numeric_data_6_week =numeric_data_6_week.sort_values(by=['variable', 'group'])\n",
    "\n",
    "numeric_data_6_week"
   ]
  },
  {
   "cell_type": "code",
   "execution_count": null,
   "metadata": {
    "scrolled": true
   },
   "outputs": [],
   "source": [
    "var = 'len_name'\n",
    "plot_boxplot_horizontal_gray(only_vars, var, '6_week', 2)\n",
    "week_pvalues = generate_pval_dataframe(list(groups_6_week.groups.keys()), only_vars, '6_week', var)\n",
    "week_pvalues"
   ]
  },
  {
   "cell_type": "code",
   "execution_count": null,
   "metadata": {},
   "outputs": [],
   "source": [
    "len_name_6_week_df = week_pvalues\n",
    "len_name_6_week_dict = generate_dict(week_pvalues['size'].to_list())\n",
    "pp.pprint(len_name_6_week_dict)"
   ]
  },
  {
   "cell_type": "code",
   "execution_count": null,
   "metadata": {
    "scrolled": true
   },
   "outputs": [],
   "source": [
    "var = 'len_summary'\n",
    "plot_boxplot_horizontal_gray(only_vars, var, '6_week', 2)\n",
    "week_pvalues = generate_pval_dataframe(list(groups_6_week.groups.keys()), only_vars, '6_week', var)\n",
    "week_pvalues"
   ]
  },
  {
   "cell_type": "code",
   "execution_count": null,
   "metadata": {},
   "outputs": [],
   "source": [
    "len_summary_6_week_df = week_pvalues\n",
    "len_summary_6_week_dict = generate_dict(week_pvalues['size'].to_list())\n",
    "pp.pprint(len_summary_6_week_dict)"
   ]
  },
  {
   "cell_type": "code",
   "execution_count": null,
   "metadata": {
    "scrolled": true
   },
   "outputs": [],
   "source": [
    "var = 'len_description'\n",
    "plot_boxplot_horizontal_gray(only_vars, var, '6_week', 2)\n",
    "week_pvalues = generate_pval_dataframe(list(groups_6_week.groups.keys()), only_vars, '6_week', var)\n",
    "week_pvalues"
   ]
  },
  {
   "cell_type": "code",
   "execution_count": null,
   "metadata": {},
   "outputs": [],
   "source": [
    "len_description_6_week_df = week_pvalues\n",
    "len_description_6_week_dict = generate_dict(week_pvalues['size'].to_list())\n",
    "pp.pprint(len_description_6_week_dict)"
   ]
  },
  {
   "cell_type": "code",
   "execution_count": null,
   "metadata": {
    "scrolled": true
   },
   "outputs": [],
   "source": [
    "var = 'rating'\n",
    "plot_boxplot_horizontal_gray(only_vars, var, '6_week', 2)\n",
    "week_pvalues = generate_pval_dataframe(list(groups_6_week.groups.keys()), only_vars, '6_week', var)\n",
    "week_pvalues"
   ]
  },
  {
   "cell_type": "code",
   "execution_count": null,
   "metadata": {},
   "outputs": [],
   "source": [
    "rating_6_week_df = week_pvalues\n",
    "rating_6_week_dict = generate_dict(week_pvalues['size'].to_list())\n",
    "pp.pprint(rating_6_week_dict)"
   ]
  },
  {
   "cell_type": "code",
   "execution_count": null,
   "metadata": {
    "scrolled": true
   },
   "outputs": [],
   "source": [
    "var = 'rating_1'\n",
    "plot_boxplot_horizontal_gray(only_vars, var, '6_week', 2)\n",
    "week_pvalues = generate_pval_dataframe(list(groups_6_week.groups.keys()), only_vars, '6_week', var)\n",
    "week_pvalues"
   ]
  },
  {
   "cell_type": "code",
   "execution_count": null,
   "metadata": {},
   "outputs": [],
   "source": [
    "rating_1_6_week_df = week_pvalues\n",
    "rating_1_6_week_dict = generate_dict(week_pvalues['size'].to_list())\n",
    "pp.pprint(rating_1_6_week_dict)"
   ]
  },
  {
   "cell_type": "code",
   "execution_count": null,
   "metadata": {
    "scrolled": true
   },
   "outputs": [],
   "source": [
    "var = 'rating_2'\n",
    "plot_boxplot_horizontal_gray(only_vars, var, '6_week', 2)\n",
    "week_pvalues = generate_pval_dataframe(list(groups_6_week.groups.keys()), only_vars, '6_week', var)\n",
    "week_pvalues"
   ]
  },
  {
   "cell_type": "code",
   "execution_count": null,
   "metadata": {},
   "outputs": [],
   "source": [
    "rating_2_6_week_df = week_pvalues\n",
    "rating_2_6_week_dict = generate_dict(week_pvalues['size'].to_list())\n",
    "pp.pprint(rating_2_6_week_dict)"
   ]
  },
  {
   "cell_type": "code",
   "execution_count": null,
   "metadata": {
    "scrolled": true
   },
   "outputs": [],
   "source": [
    "var = 'rating_3'\n",
    "plot_boxplot_horizontal_gray(only_vars, var, '6_week', 2)\n",
    "week_pvalues = generate_pval_dataframe(list(groups_6_week.groups.keys()), only_vars, '6_week', var)\n",
    "week_pvalues"
   ]
  },
  {
   "cell_type": "code",
   "execution_count": null,
   "metadata": {},
   "outputs": [],
   "source": [
    "rating_3_6_week_df = week_pvalues\n",
    "rating_3_6_week_dict = generate_dict(week_pvalues['size'].to_list())\n",
    "pp.pprint(rating_3_6_week_dict)"
   ]
  },
  {
   "cell_type": "code",
   "execution_count": null,
   "metadata": {
    "scrolled": true
   },
   "outputs": [],
   "source": [
    "var = 'rating_4'\n",
    "plot_boxplot_horizontal_gray(only_vars, var, '6_week', 2)\n",
    "week_pvalues = generate_pval_dataframe(list(groups_6_week.groups.keys()), only_vars, '6_week', var)\n",
    "week_pvalues"
   ]
  },
  {
   "cell_type": "code",
   "execution_count": null,
   "metadata": {},
   "outputs": [],
   "source": [
    "rating_4_6_week_df = week_pvalues\n",
    "rating_4_6_week_dict = generate_dict(week_pvalues['size'].to_list())\n",
    "pp.pprint(rating_4_6_week_dict)"
   ]
  },
  {
   "cell_type": "code",
   "execution_count": null,
   "metadata": {
    "scrolled": true
   },
   "outputs": [],
   "source": [
    "var = 'rating_5'\n",
    "plot_boxplot_horizontal_gray(only_vars, var, '6_week', 2)\n",
    "week_pvalues = generate_pval_dataframe(list(groups_6_week.groups.keys()), only_vars, '6_week', var)\n",
    "week_pvalues"
   ]
  },
  {
   "cell_type": "code",
   "execution_count": null,
   "metadata": {},
   "outputs": [],
   "source": [
    "rating_5_6_week_df = week_pvalues\n",
    "rating_5_6_week_dict = generate_dict(week_pvalues['size'].to_list())\n",
    "pp.pprint(rating_5_6_week_dict)"
   ]
  },
  {
   "cell_type": "code",
   "execution_count": null,
   "metadata": {
    "scrolled": true
   },
   "outputs": [],
   "source": [
    "var = 'last_update_days'\n",
    "plot_boxplot_horizontal_gray(only_vars, var, '6_week', 2)\n",
    "week_pvalues = generate_pval_dataframe(list(groups_6_week.groups.keys()), only_vars, '6_week', var)\n",
    "week_pvalues"
   ]
  },
  {
   "cell_type": "code",
   "execution_count": null,
   "metadata": {},
   "outputs": [],
   "source": [
    "last_update_days_6_week_df = week_pvalues\n",
    "last_update_days_6_week_dict = generate_dict(week_pvalues['size'].to_list())\n",
    "pp.pprint(last_update_days_6_week_dict)"
   ]
  },
  {
   "cell_type": "code",
   "execution_count": null,
   "metadata": {
    "scrolled": true
   },
   "outputs": [],
   "source": [
    "var = 'price_usd'\n",
    "plot_boxplot_horizontal_gray(only_vars, var, '6_week', 2)\n",
    "week_pvalues = generate_pval_dataframe(list(groups_6_week.groups.keys()), only_vars, '6_week', var)\n",
    "week_pvalues"
   ]
  },
  {
   "cell_type": "code",
   "execution_count": null,
   "metadata": {},
   "outputs": [],
   "source": [
    "price_usd_6_week_df = week_pvalues\n",
    "price_usd_6_week_dict = generate_dict(week_pvalues['size'].to_list())\n",
    "pp.pprint(price_usd_6_week_dict)"
   ]
  },
  {
   "cell_type": "code",
   "execution_count": null,
   "metadata": {
    "scrolled": true
   },
   "outputs": [],
   "source": [
    "var = 'num_installs_num'\n",
    "plot_boxplot_horizontal_gray(only_vars, var, '6_week', 2)\n",
    "week_pvalues = generate_pval_dataframe(list(groups_6_week.groups.keys()), only_vars, '6_week', var)\n",
    "week_pvalues"
   ]
  },
  {
   "cell_type": "code",
   "execution_count": null,
   "metadata": {},
   "outputs": [],
   "source": [
    "num_installs_num_6_week_df = week_pvalues\n",
    "num_installs_num_6_week_dict = generate_dict(week_pvalues['size'].to_list())\n",
    "pp.pprint(num_installs_num_6_week_dict)"
   ]
  },
  {
   "cell_type": "markdown",
   "metadata": {},
   "source": [
    "## Grouped by ten weeks"
   ]
  },
  {
   "cell_type": "markdown",
   "metadata": {},
   "source": [
    "### Categorical variables"
   ]
  },
  {
   "cell_type": "code",
   "execution_count": null,
   "metadata": {},
   "outputs": [],
   "source": [
    "# Make a copy of original only vars\n",
    "only_vars = only_vars_original.copy()"
   ]
  },
  {
   "cell_type": "code",
   "execution_count": null,
   "metadata": {},
   "outputs": [],
   "source": [
    "groups_10_week = only_vars.groupby(['10_week'])\n",
    "\n",
    "data_10_week = {\n",
    "    'variable': [],\n",
    "    'group': [],\n",
    "    'weighted_mean': [],\n",
    "    'mean': [],\n",
    "    'min': [],\n",
    "    'q1': [],\n",
    "    'median': [],\n",
    "    'q3': [],\n",
    "    'max': [],\n",
    "    'std': []\n",
    "}\n",
    "\n",
    "content_rating_dicts_10_week = []\n",
    "android_version_dicts_10_week = []\n",
    "has_whats_new_dicts_10_week = []\n",
    "genre_dicts_10_week = []\n",
    "labels_10_week = []\n",
    "    \n",
    "# Iterate over week groups to plot variables and get stats\n",
    "for key in groups_10_week.groups.keys():\n",
    "    df = groups_10_week.get_group(key)\n",
    "    # Generate a weight column for each group\n",
    "    df = generate_weight_column(df, key)\n",
    "    \n",
    "    labels_10_week.append(key)\n",
    "    ct_dict = generate_dict(df['content_rating'].to_list())\n",
    "    content_rating_dicts_10_week.append(ct_dict)\n",
    "    \n",
    "    av_dict = generate_dict(df['android_version'].to_list())\n",
    "    android_version_dicts_10_week.append(av_dict)\n",
    "    \n",
    "    hw_dict = generate_dict(df['has_whats_new'].to_list())\n",
    "    has_whats_new_dicts_10_week.append(hw_dict)\n",
    "    \n",
    "    g_dict = generate_dict(df['genre'].to_list())\n",
    "    genre_dicts_10_week.append(g_dict)\n",
    "    \n",
    "    for nv in numeric_variables:\n",
    "        get_stats(nv, data_10_week, df, f'weight_{key}', key)"
   ]
  },
  {
   "cell_type": "code",
   "execution_count": null,
   "metadata": {},
   "outputs": [],
   "source": [
    "generate_horizontal_bar_chart(content_rating_dicts_10_week, labels_10_week, 'Content Rating')"
   ]
  },
  {
   "cell_type": "code",
   "execution_count": null,
   "metadata": {},
   "outputs": [],
   "source": [
    "content_rating_10_week = pd.DataFrame()\n",
    "for label, d in zip(labels_10_week, content_rating_dicts_10_week):\n",
    "    d['10_week'] = label\n",
    "    content_rating_10_week = content_rating_10_week.append(d, ignore_index=True)\n",
    "    \n",
    "content_rating_10_week"
   ]
  },
  {
   "cell_type": "code",
   "execution_count": null,
   "metadata": {},
   "outputs": [],
   "source": [
    "generate_horizontal_bar_chart(android_version_dicts_10_week, labels_10_week, 'Android Version')"
   ]
  },
  {
   "cell_type": "code",
   "execution_count": null,
   "metadata": {},
   "outputs": [],
   "source": [
    "android_version_10_week = pd.DataFrame()\n",
    "for label, d in zip(labels_10_week, android_version_dicts_10_week):\n",
    "    d['10_week'] = label\n",
    "    android_version_10_week = android_version_10_week.append(d, ignore_index=True)\n",
    "    \n",
    "android_version_10_week"
   ]
  },
  {
   "cell_type": "code",
   "execution_count": null,
   "metadata": {},
   "outputs": [],
   "source": [
    "generate_horizontal_bar_chart(genre_dicts_10_week, labels_10_week, 'Genre')"
   ]
  },
  {
   "cell_type": "code",
   "execution_count": null,
   "metadata": {},
   "outputs": [],
   "source": [
    "genre_10_week = pd.DataFrame()\n",
    "for label, d in zip(labels_10_week, genre_dicts_10_week):\n",
    "    d['10_week'] = label\n",
    "    genre_10_week = genre_10_week.append(d, ignore_index=True)\n",
    "    \n",
    "genre_10_week"
   ]
  },
  {
   "cell_type": "code",
   "execution_count": null,
   "metadata": {},
   "outputs": [],
   "source": [
    "generate_pie_chart_dropdown(has_whats_new_dicts_10_week, labels_10_week, 'Has Whats New')"
   ]
  },
  {
   "cell_type": "code",
   "execution_count": null,
   "metadata": {},
   "outputs": [],
   "source": [
    "has_whats_new_10_week = pd.DataFrame()\n",
    "for label, d in zip(labels_10_week, has_whats_new_dicts_10_week):\n",
    "    d['week'] = label\n",
    "    total = d[True] + d[False]\n",
    "    d['percentage_true'] = (d[True]/total)*100\n",
    "    d['percentage_false'] = (d[False]/total)*100\n",
    "    \n",
    "    has_whats_new_10_week = has_whats_new_10_week.append(d, ignore_index=True)\n",
    "    \n",
    "has_whats_new_10_week"
   ]
  },
  {
   "cell_type": "markdown",
   "metadata": {},
   "source": [
    "### Numerical Variables"
   ]
  },
  {
   "cell_type": "code",
   "execution_count": null,
   "metadata": {
    "scrolled": true
   },
   "outputs": [],
   "source": [
    "numeric_data_10_week = pd.DataFrame(data_10_week)\n",
    "numeric_data_10_week =numeric_data_10_week.sort_values(by=['variable', 'group'])\n",
    "\n",
    "numeric_data_10_week"
   ]
  },
  {
   "cell_type": "code",
   "execution_count": null,
   "metadata": {
    "scrolled": true
   },
   "outputs": [],
   "source": [
    "var = 'len_name'\n",
    "plot_boxplot_horizontal_gray(only_vars, var, '10_week', 2)\n",
    "week_pvalues = generate_pval_dataframe(list(groups_10_week.groups.keys()), only_vars, '10_week', var)\n",
    "week_pvalues"
   ]
  },
  {
   "cell_type": "code",
   "execution_count": null,
   "metadata": {},
   "outputs": [],
   "source": [
    "len_name_10_week_df = week_pvalues\n",
    "len_name_10_week_dict = generate_dict(week_pvalues['size'].to_list())\n",
    "pp.pprint(len_name_10_week_dict)"
   ]
  },
  {
   "cell_type": "code",
   "execution_count": null,
   "metadata": {
    "scrolled": true
   },
   "outputs": [],
   "source": [
    "var = 'len_summary'\n",
    "plot_boxplot_horizontal_gray(only_vars, var, '10_week', 2)\n",
    "week_pvalues = generate_pval_dataframe(list(groups_10_week.groups.keys()), only_vars, '10_week', var)\n",
    "week_pvalues"
   ]
  },
  {
   "cell_type": "code",
   "execution_count": null,
   "metadata": {},
   "outputs": [],
   "source": [
    "len_summary_10_week_df = week_pvalues\n",
    "len_summary_10_week_dict = generate_dict(week_pvalues['size'].to_list())\n",
    "pp.pprint(len_summary_10_week_dict)"
   ]
  },
  {
   "cell_type": "code",
   "execution_count": null,
   "metadata": {
    "scrolled": true
   },
   "outputs": [],
   "source": [
    "var = 'len_description'\n",
    "plot_boxplot_horizontal_gray(only_vars, var, '10_week', 2)\n",
    "week_pvalues = generate_pval_dataframe(list(groups_10_week.groups.keys()), only_vars, '10_week', var)\n",
    "week_pvalues"
   ]
  },
  {
   "cell_type": "code",
   "execution_count": null,
   "metadata": {},
   "outputs": [],
   "source": [
    "len_description_10_week_df = week_pvalues\n",
    "len_description_10_week_dict = generate_dict(week_pvalues['size'].to_list())\n",
    "pp.pprint(len_description_10_week_dict)"
   ]
  },
  {
   "cell_type": "code",
   "execution_count": null,
   "metadata": {
    "scrolled": true
   },
   "outputs": [],
   "source": [
    "var = 'rating'\n",
    "plot_boxplot_horizontal_gray(only_vars, var, '10_week', 2)\n",
    "week_pvalues = generate_pval_dataframe(list(groups_10_week.groups.keys()), only_vars, '10_week', var)\n",
    "week_pvalues"
   ]
  },
  {
   "cell_type": "code",
   "execution_count": null,
   "metadata": {},
   "outputs": [],
   "source": [
    "rating_10_week_df = week_pvalues\n",
    "rating_10_week_dict = generate_dict(week_pvalues['size'].to_list())\n",
    "pp.pprint(rating_10_week_dict)"
   ]
  },
  {
   "cell_type": "code",
   "execution_count": null,
   "metadata": {
    "scrolled": true
   },
   "outputs": [],
   "source": [
    "var = 'rating_1'\n",
    "plot_boxplot_horizontal_gray(only_vars, var, '10_week', 2)\n",
    "week_pvalues = generate_pval_dataframe(list(groups_10_week.groups.keys()), only_vars, '10_week', var)\n",
    "week_pvalues"
   ]
  },
  {
   "cell_type": "code",
   "execution_count": null,
   "metadata": {},
   "outputs": [],
   "source": [
    "rating_1_10_week_df = week_pvalues\n",
    "rating_1_10_week_dict = generate_dict(week_pvalues['size'].to_list())\n",
    "pp.pprint(rating_1_10_week_dict)"
   ]
  },
  {
   "cell_type": "code",
   "execution_count": null,
   "metadata": {
    "scrolled": true
   },
   "outputs": [],
   "source": [
    "var = 'rating_2'\n",
    "plot_boxplot_horizontal_gray(only_vars, var, '10_week', 2)\n",
    "week_pvalues = generate_pval_dataframe(list(groups_10_week.groups.keys()), only_vars, '10_week', var)\n",
    "week_pvalues"
   ]
  },
  {
   "cell_type": "code",
   "execution_count": null,
   "metadata": {},
   "outputs": [],
   "source": [
    "rating_2_10_week_df = week_pvalues\n",
    "rating_2_10_week_dict = generate_dict(week_pvalues['size'].to_list())\n",
    "pp.pprint(rating_2_10_week_dict)"
   ]
  },
  {
   "cell_type": "code",
   "execution_count": null,
   "metadata": {
    "scrolled": true
   },
   "outputs": [],
   "source": [
    "var = 'rating_3'\n",
    "plot_boxplot_horizontal_gray(only_vars, var, '10_week', 2)\n",
    "week_pvalues = generate_pval_dataframe(list(groups_10_week.groups.keys()), only_vars, '10_week', var)\n",
    "week_pvalues"
   ]
  },
  {
   "cell_type": "code",
   "execution_count": null,
   "metadata": {},
   "outputs": [],
   "source": [
    "rating_3_10_week_df = week_pvalues\n",
    "rating_3_10_week_dict = generate_dict(week_pvalues['size'].to_list())\n",
    "pp.pprint(rating_3_10_week_dict)"
   ]
  },
  {
   "cell_type": "code",
   "execution_count": null,
   "metadata": {
    "scrolled": true
   },
   "outputs": [],
   "source": [
    "var = 'rating_4'\n",
    "plot_boxplot_horizontal_gray(only_vars, var, '10_week', 2)\n",
    "week_pvalues = generate_pval_dataframe(list(groups_10_week.groups.keys()), only_vars, '10_week', var)\n",
    "week_pvalues"
   ]
  },
  {
   "cell_type": "code",
   "execution_count": null,
   "metadata": {},
   "outputs": [],
   "source": [
    "rating_4_10_week_df = week_pvalues\n",
    "rating_4_10_week_dict = generate_dict(week_pvalues['size'].to_list())\n",
    "pp.pprint(rating_4_10_week_dict)"
   ]
  },
  {
   "cell_type": "code",
   "execution_count": null,
   "metadata": {
    "scrolled": true
   },
   "outputs": [],
   "source": [
    "var = 'rating_5'\n",
    "plot_boxplot_horizontal_gray(only_vars, var, '10_week', 2)\n",
    "week_pvalues = generate_pval_dataframe(list(groups_10_week.groups.keys()), only_vars, '10_week', var)\n",
    "week_pvalues"
   ]
  },
  {
   "cell_type": "code",
   "execution_count": null,
   "metadata": {},
   "outputs": [],
   "source": [
    "rating_5_10_week_df = week_pvalues\n",
    "rating_5_10_week_dict = generate_dict(week_pvalues['size'].to_list())\n",
    "pp.pprint(rating_5_10_week_dict)"
   ]
  },
  {
   "cell_type": "code",
   "execution_count": null,
   "metadata": {
    "scrolled": true
   },
   "outputs": [],
   "source": [
    "var = 'last_update_days'\n",
    "plot_boxplot_horizontal_gray(only_vars, var, '10_week', 2)\n",
    "week_pvalues = generate_pval_dataframe(list(groups_10_week.groups.keys()), only_vars, '10_week', var)\n",
    "week_pvalues"
   ]
  },
  {
   "cell_type": "code",
   "execution_count": null,
   "metadata": {},
   "outputs": [],
   "source": [
    "last_update_days_10_week_df = week_pvalues\n",
    "last_update_days_10_week_dict = generate_dict(week_pvalues['size'].to_list())\n",
    "pp.pprint(last_update_days_10_week_dict)"
   ]
  },
  {
   "cell_type": "code",
   "execution_count": null,
   "metadata": {
    "scrolled": true
   },
   "outputs": [],
   "source": [
    "var = 'price_usd'\n",
    "plot_boxplot_horizontal_gray(only_vars, var, '10_week', 2)\n",
    "week_pvalues = generate_pval_dataframe(list(groups_10_week.groups.keys()), only_vars, '10_week', var)\n",
    "week_pvalues"
   ]
  },
  {
   "cell_type": "code",
   "execution_count": null,
   "metadata": {},
   "outputs": [],
   "source": [
    "price_usd_10_week_df = week_pvalues\n",
    "price_usd_10_week_dict = generate_dict(week_pvalues['size'].to_list())\n",
    "pp.pprint(price_usd_10_week_dict)"
   ]
  },
  {
   "cell_type": "code",
   "execution_count": null,
   "metadata": {
    "scrolled": true
   },
   "outputs": [],
   "source": [
    "var = 'num_installs_num'\n",
    "plot_boxplot_horizontal_gray(only_vars, var, '10_week', 2)\n",
    "week_pvalues = generate_pval_dataframe(list(groups_10_week.groups.keys()), only_vars, '10_week', var)\n",
    "week_pvalues"
   ]
  },
  {
   "cell_type": "code",
   "execution_count": null,
   "metadata": {},
   "outputs": [],
   "source": [
    "num_installs_num_10_week_df = week_pvalues\n",
    "num_installs_num_10_week_dict = generate_dict(week_pvalues['size'].to_list())\n",
    "pp.pprint(num_installs_num_10_week_dict)"
   ]
  },
  {
   "cell_type": "markdown",
   "metadata": {},
   "source": [
    "## Grouped by fifteen weeks"
   ]
  },
  {
   "cell_type": "markdown",
   "metadata": {},
   "source": [
    "### Categorical variables"
   ]
  },
  {
   "cell_type": "code",
   "execution_count": null,
   "metadata": {},
   "outputs": [],
   "source": [
    "# Make a copy of original only vars\n",
    "only_vars = only_vars_original.copy()"
   ]
  },
  {
   "cell_type": "code",
   "execution_count": null,
   "metadata": {},
   "outputs": [],
   "source": [
    "groups_15_week = only_vars.groupby(['15_week'])\n",
    "\n",
    "data_15_week = {\n",
    "    'variable': [],\n",
    "    'group': [],\n",
    "    'weighted_mean': [],\n",
    "    'mean': [],\n",
    "    'min': [],\n",
    "    'q1': [],\n",
    "    'median': [],\n",
    "    'q3': [],\n",
    "    'max': [],\n",
    "    'std': []\n",
    "}\n",
    "\n",
    "content_rating_dicts_15_week = []\n",
    "android_version_dicts_15_week = []\n",
    "has_whats_new_dicts_15_week = []\n",
    "genre_dicts_15_week = []\n",
    "labels_15_week = []\n",
    "    \n",
    "# Iterate over week groups to plot variables and get stats\n",
    "for key in groups_15_week.groups.keys():\n",
    "    df = groups_15_week.get_group(key)\n",
    "    # Generate a weight column for each group\n",
    "    df = generate_weight_column(df, key)\n",
    "    \n",
    "    labels_15_week.append(key)\n",
    "    ct_dict = generate_dict(df['content_rating'].to_list())\n",
    "    content_rating_dicts_15_week.append(ct_dict)\n",
    "    \n",
    "    av_dict = generate_dict(df['android_version'].to_list())\n",
    "    android_version_dicts_15_week.append(av_dict)\n",
    "    \n",
    "    hw_dict = generate_dict(df['has_whats_new'].to_list())\n",
    "    has_whats_new_dicts_15_week.append(hw_dict)\n",
    "    \n",
    "    g_dict = generate_dict(df['genre'].to_list())\n",
    "    genre_dicts_15_week.append(g_dict)\n",
    "    \n",
    "    for nv in numeric_variables:\n",
    "        get_stats(nv, data_15_week, df, f'weight_{key}', key)"
   ]
  },
  {
   "cell_type": "code",
   "execution_count": null,
   "metadata": {},
   "outputs": [],
   "source": [
    "generate_horizontal_bar_chart(content_rating_dicts_15_week, labels_15_week, 'Content Rating')"
   ]
  },
  {
   "cell_type": "code",
   "execution_count": null,
   "metadata": {},
   "outputs": [],
   "source": [
    "content_rating_15_week = pd.DataFrame()\n",
    "for label, d in zip(labels_15_week, content_rating_dicts_15_week):\n",
    "    d['15_week'] = label\n",
    "    content_rating_15_week = content_rating_15_week.append(d, ignore_index=True)\n",
    "    \n",
    "content_rating_15_week"
   ]
  },
  {
   "cell_type": "code",
   "execution_count": null,
   "metadata": {},
   "outputs": [],
   "source": [
    "generate_horizontal_bar_chart(android_version_dicts_15_week, labels_15_week, 'Android Version')"
   ]
  },
  {
   "cell_type": "code",
   "execution_count": null,
   "metadata": {},
   "outputs": [],
   "source": [
    "android_version_15_week = pd.DataFrame()\n",
    "for label, d in zip(labels_15_week, android_version_dicts_15_week):\n",
    "    d['15_week'] = label\n",
    "    android_version_15_week = android_version_15_week.append(d, ignore_index=True)\n",
    "    \n",
    "android_version_15_week"
   ]
  },
  {
   "cell_type": "code",
   "execution_count": null,
   "metadata": {},
   "outputs": [],
   "source": [
    "generate_horizontal_bar_chart(genre_dicts_15_week, labels_15_week, 'Genre')"
   ]
  },
  {
   "cell_type": "code",
   "execution_count": null,
   "metadata": {},
   "outputs": [],
   "source": [
    "genre_15_week = pd.DataFrame()\n",
    "for label, d in zip(labels_15_week, genre_dicts_15_week):\n",
    "    d['15_week'] = label\n",
    "    genre_15_week = genre_15_week.append(d, ignore_index=True)\n",
    "    \n",
    "genre_15_week"
   ]
  },
  {
   "cell_type": "code",
   "execution_count": null,
   "metadata": {},
   "outputs": [],
   "source": [
    "generate_pie_chart_dropdown(has_whats_new_dicts_15_week, labels_15_week, 'Has Whats New')"
   ]
  },
  {
   "cell_type": "code",
   "execution_count": null,
   "metadata": {},
   "outputs": [],
   "source": [
    "has_whats_new_15_week = pd.DataFrame()\n",
    "for label, d in zip(labels_15_week, has_whats_new_dicts_15_week):\n",
    "    d['week'] = label\n",
    "    total = d[True] + d[False]\n",
    "    d['percentage_true'] = (d[True]/total)*100\n",
    "    d['percentage_false'] = (d[False]/total)*100\n",
    "    \n",
    "    has_whats_new_15_week = has_whats_new_15_week.append(d, ignore_index=True)\n",
    "    \n",
    "has_whats_new_15_week"
   ]
  },
  {
   "cell_type": "markdown",
   "metadata": {},
   "source": [
    "### Numerical Variables"
   ]
  },
  {
   "cell_type": "code",
   "execution_count": null,
   "metadata": {
    "scrolled": true
   },
   "outputs": [],
   "source": [
    "numeric_data_15_week = pd.DataFrame(data_15_week)\n",
    "numeric_data_15_week =numeric_data_15_week.sort_values(by=['variable', 'group'])\n",
    "\n",
    "numeric_data_15_week"
   ]
  },
  {
   "cell_type": "code",
   "execution_count": null,
   "metadata": {
    "scrolled": true
   },
   "outputs": [],
   "source": [
    "var = 'len_name'\n",
    "plot_boxplot_horizontal_gray(only_vars, var, '15_week', 2)\n",
    "week_pvalues = generate_pval_dataframe(list(groups_15_week.groups.keys()), only_vars, '15_week', var)\n",
    "week_pvalues"
   ]
  },
  {
   "cell_type": "code",
   "execution_count": null,
   "metadata": {},
   "outputs": [],
   "source": [
    "len_name_15_week_df = week_pvalues\n",
    "len_name_15_week_dict = generate_dict(week_pvalues['size'].to_list())\n",
    "pp.pprint(len_name_15_week_dict)"
   ]
  },
  {
   "cell_type": "code",
   "execution_count": null,
   "metadata": {
    "scrolled": true
   },
   "outputs": [],
   "source": [
    "var = 'len_summary'\n",
    "plot_boxplot_horizontal_gray(only_vars, var, '15_week', 2)\n",
    "week_pvalues = generate_pval_dataframe(list(groups_15_week.groups.keys()), only_vars, '15_week', var)\n",
    "week_pvalues"
   ]
  },
  {
   "cell_type": "code",
   "execution_count": null,
   "metadata": {},
   "outputs": [],
   "source": [
    "len_summary_15_week_df = week_pvalues\n",
    "len_summary_15_week_dict = generate_dict(week_pvalues['size'].to_list())\n",
    "pp.pprint(len_summary_15_week_dict)"
   ]
  },
  {
   "cell_type": "code",
   "execution_count": null,
   "metadata": {
    "scrolled": true
   },
   "outputs": [],
   "source": [
    "var = 'len_description'\n",
    "plot_boxplot_horizontal_gray(only_vars, var, '15_week', 2)\n",
    "week_pvalues = generate_pval_dataframe(list(groups_15_week.groups.keys()), only_vars, '15_week', var)\n",
    "week_pvalues"
   ]
  },
  {
   "cell_type": "code",
   "execution_count": null,
   "metadata": {},
   "outputs": [],
   "source": [
    "len_description_15_week_df = week_pvalues\n",
    "len_description_15_week_dict = generate_dict(week_pvalues['size'].to_list())\n",
    "pp.pprint(len_description_15_week_dict)"
   ]
  },
  {
   "cell_type": "code",
   "execution_count": null,
   "metadata": {
    "scrolled": true
   },
   "outputs": [],
   "source": [
    "var = 'rating'\n",
    "plot_boxplot_horizontal_gray(only_vars, var, '15_week', 2)\n",
    "week_pvalues = generate_pval_dataframe(list(groups_15_week.groups.keys()), only_vars, '15_week', var)\n",
    "week_pvalues"
   ]
  },
  {
   "cell_type": "code",
   "execution_count": null,
   "metadata": {},
   "outputs": [],
   "source": [
    "rating_15_week_df = week_pvalues\n",
    "rating_15_week_dict = generate_dict(week_pvalues['size'].to_list())\n",
    "pp.pprint(rating_15_week_dict)"
   ]
  },
  {
   "cell_type": "code",
   "execution_count": null,
   "metadata": {
    "scrolled": true
   },
   "outputs": [],
   "source": [
    "var = 'rating_1'\n",
    "plot_boxplot_horizontal_gray(only_vars, var, '15_week', 2)\n",
    "week_pvalues = generate_pval_dataframe(list(groups_15_week.groups.keys()), only_vars, '15_week', var)\n",
    "week_pvalues"
   ]
  },
  {
   "cell_type": "code",
   "execution_count": null,
   "metadata": {},
   "outputs": [],
   "source": [
    "rating_1_15_week_df = week_pvalues\n",
    "rating_1_15_week_dict = generate_dict(week_pvalues['size'].to_list())\n",
    "pp.pprint(rating_1_15_week_dict)"
   ]
  },
  {
   "cell_type": "code",
   "execution_count": null,
   "metadata": {
    "scrolled": true
   },
   "outputs": [],
   "source": [
    "var = 'rating_2'\n",
    "plot_boxplot_horizontal_gray(only_vars, var, '15_week', 2)\n",
    "week_pvalues = generate_pval_dataframe(list(groups_15_week.groups.keys()), only_vars, '15_week', var)\n",
    "week_pvalues"
   ]
  },
  {
   "cell_type": "code",
   "execution_count": null,
   "metadata": {},
   "outputs": [],
   "source": [
    "rating_2_15_week_df = week_pvalues\n",
    "rating_2_15_week_dict = generate_dict(week_pvalues['size'].to_list())\n",
    "pp.pprint(rating_2_15_week_dict)"
   ]
  },
  {
   "cell_type": "code",
   "execution_count": null,
   "metadata": {
    "scrolled": true
   },
   "outputs": [],
   "source": [
    "var = 'rating_3'\n",
    "plot_boxplot_horizontal_gray(only_vars, var, '15_week', 2)\n",
    "week_pvalues = generate_pval_dataframe(list(groups_15_week.groups.keys()), only_vars, '15_week', var)\n",
    "week_pvalues"
   ]
  },
  {
   "cell_type": "code",
   "execution_count": null,
   "metadata": {},
   "outputs": [],
   "source": [
    "rating_3_15_week_df = week_pvalues\n",
    "rating_3_15_week_dict = generate_dict(week_pvalues['size'].to_list())\n",
    "pp.pprint(rating_3_15_week_dict)"
   ]
  },
  {
   "cell_type": "code",
   "execution_count": null,
   "metadata": {
    "scrolled": true
   },
   "outputs": [],
   "source": [
    "var = 'rating_4'\n",
    "plot_boxplot_horizontal_gray(only_vars, var, '15_week', 2)\n",
    "week_pvalues = generate_pval_dataframe(list(groups_15_week.groups.keys()), only_vars, '15_week', var)\n",
    "week_pvalues"
   ]
  },
  {
   "cell_type": "code",
   "execution_count": null,
   "metadata": {},
   "outputs": [],
   "source": [
    "rating_4_15_week_df = week_pvalues\n",
    "rating_4_15_week_dict = generate_dict(week_pvalues['size'].to_list())\n",
    "pp.pprint(rating_4_15_week_dict)"
   ]
  },
  {
   "cell_type": "code",
   "execution_count": null,
   "metadata": {
    "scrolled": true
   },
   "outputs": [],
   "source": [
    "var = 'rating_5'\n",
    "plot_boxplot_horizontal_gray(only_vars, var, '15_week', 2)\n",
    "week_pvalues = generate_pval_dataframe(list(groups_15_week.groups.keys()), only_vars, '15_week', var)\n",
    "week_pvalues"
   ]
  },
  {
   "cell_type": "code",
   "execution_count": null,
   "metadata": {},
   "outputs": [],
   "source": [
    "rating_5_15_week_df = week_pvalues\n",
    "rating_5_15_week_dict = generate_dict(week_pvalues['size'].to_list())\n",
    "pp.pprint(rating_5_15_week_dict)"
   ]
  },
  {
   "cell_type": "code",
   "execution_count": null,
   "metadata": {
    "scrolled": true
   },
   "outputs": [],
   "source": [
    "var = 'last_update_days'\n",
    "plot_boxplot_horizontal_gray(only_vars, var, '15_week', 2)\n",
    "week_pvalues = generate_pval_dataframe(list(groups_15_week.groups.keys()), only_vars, '15_week', var)\n",
    "week_pvalues"
   ]
  },
  {
   "cell_type": "code",
   "execution_count": null,
   "metadata": {},
   "outputs": [],
   "source": [
    "last_update_days_15_week_df = week_pvalues\n",
    "last_update_days_15_week_dict = generate_dict(week_pvalues['size'].to_list())\n",
    "pp.pprint(last_update_days_15_week_dict)"
   ]
  },
  {
   "cell_type": "code",
   "execution_count": null,
   "metadata": {
    "scrolled": true
   },
   "outputs": [],
   "source": [
    "var = 'price_usd'\n",
    "plot_boxplot_horizontal_gray(only_vars, var, '15_week', 2)\n",
    "week_pvalues = generate_pval_dataframe(list(groups_15_week.groups.keys()), only_vars, '15_week', var)\n",
    "week_pvalues"
   ]
  },
  {
   "cell_type": "code",
   "execution_count": null,
   "metadata": {},
   "outputs": [],
   "source": [
    "price_usd_15_week_df = week_pvalues\n",
    "price_usd_15_week_dict = generate_dict(week_pvalues['size'].to_list())\n",
    "pp.pprint(price_usd_15_week_dict)"
   ]
  },
  {
   "cell_type": "code",
   "execution_count": null,
   "metadata": {
    "scrolled": true
   },
   "outputs": [],
   "source": [
    "var = 'num_installs_num'\n",
    "plot_boxplot_horizontal_gray(only_vars, var, '15_week', 2)\n",
    "week_pvalues = generate_pval_dataframe(list(groups_15_week.groups.keys()), only_vars, '15_week', var)\n",
    "week_pvalues"
   ]
  },
  {
   "cell_type": "code",
   "execution_count": null,
   "metadata": {},
   "outputs": [],
   "source": [
    "num_installs_num_15_week_df = week_pvalues\n",
    "num_installs_num_15_week_dict = generate_dict(week_pvalues['size'].to_list())\n",
    "pp.pprint(num_installs_num_15_week_dict)"
   ]
  }
 ],
 "metadata": {
  "kernelspec": {
   "display_name": "Python 3",
   "language": "python",
   "name": "python3"
  },
  "language_info": {
   "codemirror_mode": {
    "name": "ipython",
    "version": 3
   },
   "file_extension": ".py",
   "mimetype": "text/x-python",
   "name": "python",
   "nbconvert_exporter": "python",
   "pygments_lexer": "ipython3",
   "version": "3.7.4"
  }
 },
 "nbformat": 4,
 "nbformat_minor": 4
}
